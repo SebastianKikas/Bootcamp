{
 "cells": [
  {
   "cell_type": "markdown",
   "metadata": {
    "slideshow": {
     "slide_type": "slide"
    }
   },
   "source": [
    "## 2 dzie szkolenia\n",
    "### Jupyter\n",
    "* a\n",
    "* b\n",
    "* d\n",
    "## as\n",
    "asdd\n",
    "1. w\n",
    "1. e\n",
    "1. r"
   ]
  },
  {
   "cell_type": "code",
   "execution_count": 2,
   "metadata": {
    "slideshow": {
     "slide_type": "slide"
    }
   },
   "outputs": [],
   "source": [
    "name = !ls"
   ]
  },
  {
   "cell_type": "code",
   "execution_count": 3,
   "metadata": {
    "slideshow": {
     "slide_type": "subslide"
    }
   },
   "outputs": [
    {
     "name": "stdout",
     "output_type": "stream",
     "text": [
      "['SEBASTIAN.TXT', 'Untitled.ipynb']\n"
     ]
    }
   ],
   "source": [
    "print(name)\n",
    "\n"
   ]
  },
  {
   "cell_type": "code",
   "execution_count": 4,
   "metadata": {
    "slideshow": {
     "slide_type": "fragment"
    }
   },
   "outputs": [
    {
     "name": "stdout",
     "output_type": "stream",
     "text": [
      "4.5 µs ± 1.49 µs per loop (mean ± std. dev. of 7 runs, 100000 loops each)\n"
     ]
    }
   ],
   "source": [
    "%%timeit\n",
    "a =set()\n",
    "a.add(1)\n",
    "a.add(2)"
   ]
  },
  {
   "cell_type": "code",
   "execution_count": 5,
   "metadata": {
    "slideshow": {
     "slide_type": "subslide"
    }
   },
   "outputs": [
    {
     "name": "stdout",
     "output_type": "stream",
     "text": [
      "6.58 µs ± 2.27 µs per loop (mean ± std. dev. of 7 runs, 100000 loops each)\n"
     ]
    }
   ],
   "source": [
    "%%timeit\n",
    "b = set()\n",
    "b.update({1,2})"
   ]
  },
  {
   "cell_type": "code",
   "execution_count": 6,
   "metadata": {
    "slideshow": {
     "slide_type": "subslide"
    }
   },
   "outputs": [
    {
     "data": {
      "text/latex": [
       "$$F(k) = \\int_{-\\infty}^{\\infty} f(x) e^{2\\pi i k} dx$$"
      ],
      "text/plain": [
       "<IPython.core.display.Math object>"
      ]
     },
     "metadata": {},
     "output_type": "display_data"
    }
   ],
   "source": [
    "from IPython.display import display, Math, Latex\n",
    "\n",
    "display(Math(r'F(k) = \\int_{-\\infty}^{\\infty} f(x) e^{2\\pi i k} dx'))"
   ]
  },
  {
   "cell_type": "code",
   "execution_count": 11,
   "metadata": {
    "slideshow": {
     "slide_type": "subslide"
    }
   },
   "outputs": [
    {
     "data": {
      "image/png": "[encoded data removed]",
      "text/plain": [
       "<Figure size 432x288 with 1 Axes>"
      ]
     },
     "metadata": {
      "needs_background": "light"
     },
     "output_type": "display_data"
    }
   ],
   "source": [
    "%matplotlib inline\n",
    "import math\n",
    "import random\n",
    "from matplotlib import pyplot as plt\n",
    "\n",
    "x1 = [x*0.01 for x in range(0,628)]\n",
    "y1 = [math.sin(x*0.01)+random.gauss(0, 0.1) for x in range(0,628)]\n",
    "plt.plot(x1, y1)\n",
    "\n",
    "x2 = [x*0.5 for x in range(0,round(63/5))]\n",
    "y2 = [math.cos(x*0.5) for x in range(0,round(63/5))]\n",
    "plt.plot(x2, y2, 'o-')\n",
    "\n",
    "plt.show()"
   ]
  },
  {
   "cell_type": "code",
   "execution_count": 12,
   "metadata": {
    "slideshow": {
     "slide_type": "subslide"
    }
   },
   "outputs": [],
   "source": [
    "url = 'https://raw.githubusercontent.com/scikit-learn/scikit-learn/master/sklearn/datasets/data/iris.csv'"
   ]
  },
  {
   "cell_type": "code",
   "execution_count": 13,
   "metadata": {
    "slideshow": {
     "slide_type": "subslide"
    }
   },
   "outputs": [],
   "source": [
    "columns = [\n",
    "    'Sepal length',\n",
    "    'Sepal width',\n",
    "    'Petal length',\n",
    "    'Petal width',\n",
    "    'Species'\n",
    "]"
   ]
  },
  {
   "cell_type": "code",
   "execution_count": 14,
   "metadata": {
    "slideshow": {
     "slide_type": "subslide"
    }
   },
   "outputs": [],
   "source": [
    "import pandas as pd"
   ]
  },
  {
   "cell_type": "code",
   "execution_count": 16,
   "metadata": {
    "slideshow": {
     "slide_type": "subslide"
    }
   },
   "outputs": [],
   "source": [
    "df = pd.read_html('https://pl.wikipedia.org/wiki/Lot_kosmiczny')"
   ]
  },
  {
   "cell_type": "code",
   "execution_count": 23,
   "metadata": {
    "slideshow": {
     "slide_type": "slide"
    }
   },
   "outputs": [],
   "source": [
    "df_csv = pd.read_csv(url, skiprows=1,names=columns)"
   ]
  },
  {
   "cell_type": "code",
   "execution_count": 25,
   "metadata": {
    "slideshow": {
     "slide_type": "subslide"
    }
   },
   "outputs": [
    {
     "data": {
      "text/html": [
       "<div>\n",
       "<style scoped>\n",
       "    .dataframe tbody tr th:only-of-type {\n",
       "        vertical-align: middle;\n",
       "    }\n",
       "\n",
       "    .dataframe tbody tr th {\n",
       "        vertical-align: top;\n",
       "    }\n",
       "\n",
       "    .dataframe thead th {\n",
       "        text-align: right;\n",
       "    }\n",
       "</style>\n",
       "<table border=\"1\" class=\"dataframe\">\n",
       "  <thead>\n",
       "    <tr style=\"text-align: right;\">\n",
       "      <th></th>\n",
       "      <th>Sepal length</th>\n",
       "      <th>Sepal width</th>\n",
       "      <th>Petal length</th>\n",
       "      <th>Petal width</th>\n",
       "      <th>Species</th>\n",
       "    </tr>\n",
       "  </thead>\n",
       "  <tbody>\n",
       "    <tr>\n",
       "      <th>0</th>\n",
       "      <td>5.1</td>\n",
       "      <td>3.5</td>\n",
       "      <td>1.4</td>\n",
       "      <td>0.2</td>\n",
       "      <td>0</td>\n",
       "    </tr>\n",
       "    <tr>\n",
       "      <th>1</th>\n",
       "      <td>4.9</td>\n",
       "      <td>3.0</td>\n",
       "      <td>1.4</td>\n",
       "      <td>0.2</td>\n",
       "      <td>0</td>\n",
       "    </tr>\n",
       "    <tr>\n",
       "      <th>2</th>\n",
       "      <td>4.7</td>\n",
       "      <td>3.2</td>\n",
       "      <td>1.3</td>\n",
       "      <td>0.2</td>\n",
       "      <td>0</td>\n",
       "    </tr>\n",
       "    <tr>\n",
       "      <th>3</th>\n",
       "      <td>4.6</td>\n",
       "      <td>3.1</td>\n",
       "      <td>1.5</td>\n",
       "      <td>0.2</td>\n",
       "      <td>0</td>\n",
       "    </tr>\n",
       "    <tr>\n",
       "      <th>4</th>\n",
       "      <td>5.0</td>\n",
       "      <td>3.6</td>\n",
       "      <td>1.4</td>\n",
       "      <td>0.2</td>\n",
       "      <td>0</td>\n",
       "    </tr>\n",
       "  </tbody>\n",
       "</table>\n",
       "</div>"
      ],
      "text/plain": [
       "   Sepal length  Sepal width  Petal length  Petal width  Species\n",
       "0           5.1          3.5           1.4          0.2        0\n",
       "1           4.9          3.0           1.4          0.2        0\n",
       "2           4.7          3.2           1.3          0.2        0\n",
       "3           4.6          3.1           1.5          0.2        0\n",
       "4           5.0          3.6           1.4          0.2        0"
      ]
     },
     "execution_count": 25,
     "metadata": {},
     "output_type": "execute_result"
    }
   ],
   "source": [
    "df_csv.head()"
   ]
  },
  {
   "cell_type": "code",
   "execution_count": 27,
   "metadata": {
    "slideshow": {
     "slide_type": "slide"
    }
   },
   "outputs": [],
   "source": [
    "df_csv.Species.replace(to_replace={\n",
    "    0: 'setosa',\n",
    "    1: 'versicolor',\n",
    "    2: 'virginica'\n",
    "}, inplace=True)"
   ]
  },
  {
   "cell_type": "code",
   "execution_count": 29,
   "metadata": {
    "slideshow": {
     "slide_type": "subslide"
    }
   },
   "outputs": [
    {
     "data": {
      "text/html": [
       "<div>\n",
       "<style scoped>\n",
       "    .dataframe tbody tr th:only-of-type {\n",
       "        vertical-align: middle;\n",
       "    }\n",
       "\n",
       "    .dataframe tbody tr th {\n",
       "        vertical-align: top;\n",
       "    }\n",
       "\n",
       "    .dataframe thead th {\n",
       "        text-align: right;\n",
       "    }\n",
       "</style>\n",
       "<table border=\"1\" class=\"dataframe\">\n",
       "  <thead>\n",
       "    <tr style=\"text-align: right;\">\n",
       "      <th></th>\n",
       "      <th>Sepal length</th>\n",
       "      <th>Sepal width</th>\n",
       "      <th>Petal length</th>\n",
       "      <th>Petal width</th>\n",
       "      <th>Species</th>\n",
       "    </tr>\n",
       "  </thead>\n",
       "  <tbody>\n",
       "    <tr>\n",
       "      <th>87</th>\n",
       "      <td>6.3</td>\n",
       "      <td>2.3</td>\n",
       "      <td>4.4</td>\n",
       "      <td>1.3</td>\n",
       "      <td>versicolor</td>\n",
       "    </tr>\n",
       "  </tbody>\n",
       "</table>\n",
       "</div>"
      ],
      "text/plain": [
       "    Sepal length  Sepal width  Petal length  Petal width     Species\n",
       "87           6.3          2.3           4.4          1.3  versicolor"
      ]
     },
     "execution_count": 29,
     "metadata": {},
     "output_type": "execute_result"
    }
   ],
   "source": [
    "df_csv.sample()"
   ]
  },
  {
   "cell_type": "code",
   "execution_count": 30,
   "metadata": {
    "slideshow": {
     "slide_type": "subslide"
    }
   },
   "outputs": [
    {
     "data": {
      "text/html": [
       "<div>\n",
       "<style scoped>\n",
       "    .dataframe tbody tr th:only-of-type {\n",
       "        vertical-align: middle;\n",
       "    }\n",
       "\n",
       "    .dataframe tbody tr th {\n",
       "        vertical-align: top;\n",
       "    }\n",
       "\n",
       "    .dataframe thead th {\n",
       "        text-align: right;\n",
       "    }\n",
       "</style>\n",
       "<table border=\"1\" class=\"dataframe\">\n",
       "  <thead>\n",
       "    <tr style=\"text-align: right;\">\n",
       "      <th></th>\n",
       "      <th>Sepal length</th>\n",
       "      <th>Sepal width</th>\n",
       "      <th>Petal length</th>\n",
       "      <th>Petal width</th>\n",
       "    </tr>\n",
       "  </thead>\n",
       "  <tbody>\n",
       "    <tr>\n",
       "      <th>count</th>\n",
       "      <td>150.000000</td>\n",
       "      <td>150.000000</td>\n",
       "      <td>150.000000</td>\n",
       "      <td>150.000000</td>\n",
       "    </tr>\n",
       "    <tr>\n",
       "      <th>mean</th>\n",
       "      <td>5.843333</td>\n",
       "      <td>3.057333</td>\n",
       "      <td>3.758000</td>\n",
       "      <td>1.199333</td>\n",
       "    </tr>\n",
       "    <tr>\n",
       "      <th>std</th>\n",
       "      <td>0.828066</td>\n",
       "      <td>0.435866</td>\n",
       "      <td>1.765298</td>\n",
       "      <td>0.762238</td>\n",
       "    </tr>\n",
       "    <tr>\n",
       "      <th>min</th>\n",
       "      <td>4.300000</td>\n",
       "      <td>2.000000</td>\n",
       "      <td>1.000000</td>\n",
       "      <td>0.100000</td>\n",
       "    </tr>\n",
       "    <tr>\n",
       "      <th>25%</th>\n",
       "      <td>5.100000</td>\n",
       "      <td>2.800000</td>\n",
       "      <td>1.600000</td>\n",
       "      <td>0.300000</td>\n",
       "    </tr>\n",
       "    <tr>\n",
       "      <th>50%</th>\n",
       "      <td>5.800000</td>\n",
       "      <td>3.000000</td>\n",
       "      <td>4.350000</td>\n",
       "      <td>1.300000</td>\n",
       "    </tr>\n",
       "    <tr>\n",
       "      <th>75%</th>\n",
       "      <td>6.400000</td>\n",
       "      <td>3.300000</td>\n",
       "      <td>5.100000</td>\n",
       "      <td>1.800000</td>\n",
       "    </tr>\n",
       "    <tr>\n",
       "      <th>max</th>\n",
       "      <td>7.900000</td>\n",
       "      <td>4.400000</td>\n",
       "      <td>6.900000</td>\n",
       "      <td>2.500000</td>\n",
       "    </tr>\n",
       "  </tbody>\n",
       "</table>\n",
       "</div>"
      ],
      "text/plain": [
       "       Sepal length  Sepal width  Petal length  Petal width\n",
       "count    150.000000   150.000000    150.000000   150.000000\n",
       "mean       5.843333     3.057333      3.758000     1.199333\n",
       "std        0.828066     0.435866      1.765298     0.762238\n",
       "min        4.300000     2.000000      1.000000     0.100000\n",
       "25%        5.100000     2.800000      1.600000     0.300000\n",
       "50%        5.800000     3.000000      4.350000     1.300000\n",
       "75%        6.400000     3.300000      5.100000     1.800000\n",
       "max        7.900000     4.400000      6.900000     2.500000"
      ]
     },
     "execution_count": 30,
     "metadata": {},
     "output_type": "execute_result"
    }
   ],
   "source": [
    "df_csv.describe()"
   ]
  },
  {
   "cell_type": "code",
   "execution_count": 31,
   "metadata": {
    "slideshow": {
     "slide_type": "subslide"
    }
   },
   "outputs": [
    {
     "name": "stdout",
     "output_type": "stream",
     "text": [
      "/home/kodolamacz/kikas\r\n"
     ]
    }
   ],
   "source": [
    "!pwd"
   ]
  },
  {
   "cell_type": "code",
   "execution_count": 33,
   "metadata": {
    "slideshow": {
     "slide_type": "subslide"
    }
   },
   "outputs": [],
   "source": [
    "INPUT = [\n",
    "    ('Sepal length', 'Sepal width', 'Petal length', 'Petal width', 'Species'),\n",
    "    (5.8, 2.7, 5.1, 1.9, 'virginica'),\n",
    "    (5.1, 3.5, 1.4, 0.2, 'setosa'),\n",
    "    (5.7, 2.8, 4.1, 1.3, 'versicolor'),\n",
    "    (6.3, 2.9, 5.6, 1.8, 'virginica'),\n",
    "    (6.4, 3.2, 4.5, 1.5, 'versicolor'),\n",
    "    (4.7, 3.2, 1.3, 0.2, 'setosa'),\n",
    "    (7.0, 3.2, 4.7, 1.4, 'versicolor'),\n",
    "    (7.6, 3.0, 6.6, 2.1, 'virginica'),\n",
    "    (4.9, 3.0, 1.4, 0.2, 'setosa'),\n",
    "    (4.9, 2.5, 4.5, 1.7, 'virginica'),\n",
    "    (7.1, 3.0, 5.9, 2.1, 'virginica'),\n",
    "    (4.6, 3.4, 1.4, 0.3, 'setosa'),\n",
    "    (5.4, 3.9, 1.7, 0.4, 'setosa'),\n",
    "    (5.7, 2.8, 4.5, 1.3, 'versicolor'),\n",
    "    (5.0, 3.6, 1.4, 0.3, 'setosa'),\n",
    "    (5.5, 2.3, 4.0, 1.3, 'versicolor'),\n",
    "    (6.5, 3.0, 5.8, 2.2, 'virginica'),\n",
    "    (6.5, 2.8, 4.6, 1.5, 'versicolor'),\n",
    "    (6.3, 3.3, 6.0, 2.5, 'virginica'),\n",
    "    (6.9, 3.1, 4.9, 1.5, 'versicolor'),\n",
    "    (4.6, 3.1, 1.5, 0.2, 'setosa'),\n",
    "]"
   ]
  },
  {
   "cell_type": "code",
   "execution_count": 34,
   "metadata": {},
   "outputs": [
    {
     "data": {
      "text/plain": [
       "list"
      ]
     },
     "execution_count": 34,
     "metadata": {},
     "output_type": "execute_result"
    }
   ],
   "source": [
    "type(INPUT)"
   ]
  },
  {
   "cell_type": "code",
   "execution_count": 35,
   "metadata": {},
   "outputs": [
    {
     "data": {
      "text/plain": [
       "('Sepal length', 'Sepal width', 'Petal length', 'Petal width', 'Species')"
      ]
     },
     "execution_count": 35,
     "metadata": {},
     "output_type": "execute_result"
    }
   ],
   "source": [
    "INPUT[0]"
   ]
  },
  {
   "cell_type": "code",
   "execution_count": 36,
   "metadata": {},
   "outputs": [],
   "source": [
    "haeder = INPUT[0]"
   ]
  },
  {
   "cell_type": "code",
   "execution_count": 41,
   "metadata": {},
   "outputs": [],
   "source": [
    "output = []\n"
   ]
  },
  {
   "cell_type": "code",
   "execution_count": 42,
   "metadata": {},
   "outputs": [
    {
     "data": {
      "text/plain": [
       "[[(5.8, 2.7, 5.1, 1.9, 'virginica'),\n",
       "  (6.4, 3.2, 4.5, 1.5, 'versicolor'),\n",
       "  (7.6, 3.0, 6.6, 2.1, 'virginica')]]"
      ]
     },
     "execution_count": 42,
     "metadata": {},
     "output_type": "execute_result"
    }
   ],
   "source": [
    "output.append([INPUT[1], INPUT[5], INPUT[8]])\n",
    "output"
   ]
  },
  {
   "cell_type": "code",
   "execution_count": 43,
   "metadata": {},
   "outputs": [],
   "source": [
    "output.append((INPUT[14], INPUT[15], INPUT[16]))"
   ]
  },
  {
   "cell_type": "code",
   "execution_count": 44,
   "metadata": {},
   "outputs": [],
   "source": [
    "output.append(set())"
   ]
  },
  {
   "cell_type": "code",
   "execution_count": 45,
   "metadata": {},
   "outputs": [
    {
     "data": {
      "text/plain": [
       "[[(5.8, 2.7, 5.1, 1.9, 'virginica'),\n",
       "  (6.4, 3.2, 4.5, 1.5, 'versicolor'),\n",
       "  (7.6, 3.0, 6.6, 2.1, 'virginica')],\n",
       " ((5.7, 2.8, 4.5, 1.3, 'versicolor'),\n",
       "  (5.0, 3.6, 1.4, 0.3, 'setosa'),\n",
       "  (5.5, 2.3, 4.0, 1.3, 'versicolor')),\n",
       " set()]"
      ]
     },
     "execution_count": 45,
     "metadata": {},
     "output_type": "execute_result"
    }
   ],
   "source": [
    "output"
   ]
  },
  {
   "cell_type": "code",
   "execution_count": 51,
   "metadata": {},
   "outputs": [
    {
     "name": "stdout",
     "output_type": "stream",
     "text": [
      "{0, 2, 4}\n"
     ]
    }
   ],
   "source": [
    "'''\n",
    "\n",
    "\n",
    "        Stwórz tuplę a z cyframi: 0, 1, 2, 3\n",
    "\n",
    "        Stwórz listę b z cyframi: 2, 3, 4, 5\n",
    "\n",
    "        Stwórz zbiór c z co drugim elementem a i b\n",
    "\n",
    "        Wypisz c\n",
    "\n",
    "'''\n",
    "\n",
    "a = (0,1,2,3)\n",
    "b = [2,3,4,5]\n",
    "c = set(a[::2])\n",
    "c.update(b[::2])\n",
    "print(c)\n",
    "        \n",
    "                 "
   ]
  },
  {
   "cell_type": "code",
   "execution_count": 54,
   "metadata": {},
   "outputs": [
    {
     "name": "stdout",
     "output_type": "stream",
     "text": [
      "header ('Sepal length', 'Sepal width', 'Petal length', 'Petal width', 'Species')\n",
      "\n",
      "data:\n",
      "[(5.8, 2.7, 5.1, 1.9, 'virginica'), (5.1, 3.5, 1.4, 0.2, 'setosa'), (5.7, 2.8, 4.1, 1.3, 'versicolor'), (6.3, 2.9, 5.6, 1.8, 'virginica'), (6.4, 3.2, 4.5, 1.5, 'versicolor'), (4.7, 3.2, 1.3, 0.2, 'setosa'), (7.0, 3.2, 4.7, 1.4, 'versicolor'), (7.6, 3.0, 6.6, 2.1, 'virginica'), (4.9, 3.0, 1.4, 0.2, 'setosa'), (4.9, 2.5, 4.5, 1.7, 'virginica'), (7.1, 3.0, 5.9, 2.1, 'virginica'), (4.6, 3.4, 1.4, 0.3, 'setosa'), (5.4, 3.9, 1.7, 0.4, 'setosa'), (5.7, 2.8, 4.5, 1.3, 'versicolor'), (5.0, 3.6, 1.4, 0.3, 'setosa'), (5.5, 2.3, 4.0, 1.3, 'versicolor'), (6.5, 3.0, 5.8, 2.2, 'virginica'), (6.5, 2.8, 4.6, 1.5, 'versicolor'), (6.3, 3.3, 6.0, 2.5, 'virginica'), (6.9, 3.1, 4.9, 1.5, 'versicolor'), (4.6, 3.1, 1.5, 0.2, 'setosa')]\n",
      "\n",
      "podzial: 35\n"
     ]
    }
   ],
   "source": [
    "'''\n",
    "\n",
    "\n",
    "        Dla danych wejściowych (patrz poniżej)\n",
    "\n",
    "        Zapisz nagłówek (pierwsza linia) do zmiennej header\n",
    "\n",
    "        Zapisz dane bez nagłówka do zmiennej data\n",
    "\n",
    "        Wylicz punkt podziału: ilość rekordów w data razy PROCENT\n",
    "\n",
    "        Podziel data na dwie listy:\n",
    "\n",
    "                features: 60% - dane do uczenia\n",
    "\n",
    "                labels: 40% - dane do testów\n",
    "\n",
    "        Z data zapisz do uczenia rekordy od początku do punktu podziału\n",
    "\n",
    "        Z data zapisz do testów rekordy od punktu podziału do końca\n",
    "\n",
    "'''\n",
    "\n",
    "INPUT = [\n",
    "    ('Sepal length', 'Sepal width', 'Petal length', 'Petal width', 'Species'),\n",
    "    (5.8, 2.7, 5.1, 1.9, 'virginica'),\n",
    "    (5.1, 3.5, 1.4, 0.2, 'setosa'),\n",
    "    (5.7, 2.8, 4.1, 1.3, 'versicolor'),\n",
    "    (6.3, 2.9, 5.6, 1.8, 'virginica'),\n",
    "    (6.4, 3.2, 4.5, 1.5, 'versicolor'),\n",
    "    (4.7, 3.2, 1.3, 0.2, 'setosa'),\n",
    "    (7.0, 3.2, 4.7, 1.4, 'versicolor'),\n",
    "    (7.6, 3.0, 6.6, 2.1, 'virginica'),\n",
    "    (4.9, 3.0, 1.4, 0.2, 'setosa'),\n",
    "    (4.9, 2.5, 4.5, 1.7, 'virginica'),\n",
    "    (7.1, 3.0, 5.9, 2.1, 'virginica'),\n",
    "    (4.6, 3.4, 1.4, 0.3, 'setosa'),\n",
    "    (5.4, 3.9, 1.7, 0.4, 'setosa'),\n",
    "    (5.7, 2.8, 4.5, 1.3, 'versicolor'),\n",
    "    (5.0, 3.6, 1.4, 0.3, 'setosa'),\n",
    "    (5.5, 2.3, 4.0, 1.3, 'versicolor'),\n",
    "    (6.5, 3.0, 5.8, 2.2, 'virginica'),\n",
    "    (6.5, 2.8, 4.6, 1.5, 'versicolor'),\n",
    "    (6.3, 3.3, 6.0, 2.5, 'virginica'),\n",
    "    (6.9, 3.1, 4.9, 1.5, 'versicolor'),\n",
    "    (4.6, 3.1, 1.5, 0.2, 'setosa'),\n",
    "]\n",
    "\n",
    "header = INPUT[0]\n",
    "data = INPUT[1:]\n",
    "PROCENT = 0.6\n",
    "podzial = int(len(data)/PROCENT)\n",
    "features = data[:podzial]\n",
    "labels = data[podzial:]\n",
    "\n",
    "print(f'header {header}\\n\\ndata:\\n{data}\\n\\npodzial: {podzial}')"
   ]
  },
  {
   "cell_type": "code",
   "execution_count": 58,
   "metadata": {},
   "outputs": [
    {
     "ename": "TypeError",
     "evalue": "slice indices must be integers or None or have an __index__ method",
     "output_type": "error",
     "traceback": [
      "\u001b[0;31m---------------------------------------------------------------------------\u001b[0m",
      "\u001b[0;31mTypeError\u001b[0m                                 Traceback (most recent call last)",
      "\u001b[0;32m<ipython-input-58-d8baccddc165>\u001b[0m in \u001b[0;36m<module>\u001b[0;34m()\u001b[0m\n\u001b[1;32m     21\u001b[0m )\n\u001b[1;32m     22\u001b[0m \u001b[0mbeetwen\u001b[0m \u001b[0;34m=\u001b[0m \u001b[0mslice\u001b[0m\u001b[0;34m(\u001b[0m\u001b[0;34m[\u001b[0m\u001b[0;36m0\u001b[0m\u001b[0;34m,\u001b[0m\u001b[0;36m4\u001b[0m\u001b[0;34m,\u001b[0m \u001b[0;36m6\u001b[0m\u001b[0;34m,\u001b[0m\u001b[0;36m9\u001b[0m\u001b[0;34m,\u001b[0m \u001b[0;36m11\u001b[0m\u001b[0;34m,\u001b[0m\u001b[0;36m14\u001b[0m\u001b[0;34m,\u001b[0m \u001b[0;36m16\u001b[0m\u001b[0;34m,\u001b[0m\u001b[0;36m19\u001b[0m\u001b[0;34m]\u001b[0m\u001b[0;34m)\u001b[0m\u001b[0;34m\u001b[0m\u001b[0m\n\u001b[0;32m---> 23\u001b[0;31m \u001b[0mfeatures\u001b[0m \u001b[0;34m=\u001b[0m \u001b[0mINPUT\u001b[0m\u001b[0;34m[\u001b[0m\u001b[0mbeetwen\u001b[0m\u001b[0;34m]\u001b[0m\u001b[0;34m\u001b[0m\u001b[0m\n\u001b[0m\u001b[1;32m     24\u001b[0m \u001b[0mfeatures\u001b[0m\u001b[0;34m\u001b[0m\u001b[0m\n",
      "\u001b[0;31mTypeError\u001b[0m: slice indices must be integers or None or have an __index__ method"
     ]
    }
   ],
   "source": [
    "'''\n",
    "\n",
    "        Dla danych wejściowych (patrz poniżej)\n",
    "\n",
    "        Użyj tylko slice\n",
    "\n",
    "        Wyodrębnij listę features z pomiarami (każdy wiersz ma być krotką)\n",
    "\n",
    "        Wyodrębnij nazwę gatunku (co piąty element) i zapisz do listy labels\n",
    "\n",
    "        Zapisz unikalne nazwy gatunków do zbioru species\n",
    "\n",
    "'''\n",
    "INPUT = (\n",
    "    5.8, 2.7, 5.1, 1.9, 'virginica',\n",
    "    5.1, 3.5, 1.4, 0.2, 'setosa',\n",
    "    5.7, 2.8, 4.1, 1.3, 'versicolor',\n",
    "    6.3, 2.9, 5.6, 1.8, 'virginica',\n",
    "    6.4, 3.2, 4.5, 1.5, 'versicolor',\n",
    "    4.7, 3.2, 1.3, 0.2, 'setosa',\n",
    ")\n"
   ]
  },
  {
   "cell_type": "code",
   "execution_count": 60,
   "metadata": {},
   "outputs": [
    {
     "name": "stdout",
     "output_type": "stream",
     "text": [
      "10.13.37.1\n",
      "['nasa.gov', 'esa.int', 'roscosmos.ru']\n"
     ]
    }
   ],
   "source": [
    "'''\n",
    "\n",
    "        Podziel dane wejściowe (patrz poniżej) po białych znakach\n",
    "\n",
    "        Odseparuj adres ip i nazw hostów\n",
    "\n",
    "        Skorzystaj z notacji z gwiazdką *\n",
    "\n",
    "'''\n",
    "INPUT = '10.13.37.1      nasa.gov esa.int roscosmos.ru'\n",
    "ip,*host = INPUT.split()\n",
    "\n",
    "print(ip)\n",
    "print(host)"
   ]
  },
  {
   "cell_type": "code",
   "execution_count": 62,
   "metadata": {},
   "outputs": [
    {
     "name": "stdout",
     "output_type": "stream",
     "text": [
      "('Sepal length', 'Sepal width', 'Petal length', 'Petal width', 'Species')\n",
      "[(5.8, 2.7, 5.1, 1.9, 'virginica'), (5.1, 3.5, 1.4, 0.2, 'setosa'), (5.7, 2.8, 4.1, 1.3, 'versicolor'), (6.3, 2.9, 5.6, 1.8, 'virginica'), (6.4, 3.2, 4.5, 1.5, 'versicolor'), (4.7, 3.2, 1.3, 0.2, 'setosa'), (7.0, 3.2, 4.7, 1.4, 'versicolor'), (7.6, 3.0, 6.6, 2.1, 'virginica'), (4.9, 3.0, 1.4, 0.2, 'setosa'), (4.9, 2.5, 4.5, 1.7, 'virginica'), (7.1, 3.0, 5.9, 2.1, 'virginica'), (4.6, 3.4, 1.4, 0.3, 'setosa'), (5.4, 3.9, 1.7, 0.4, 'setosa'), (5.7, 2.8, 4.5, 1.3, 'versicolor'), (5.0, 3.6, 1.4, 0.3, 'setosa'), (5.5, 2.3, 4.0, 1.3, 'versicolor'), (6.5, 3.0, 5.8, 2.2, 'virginica'), (6.5, 2.8, 4.6, 1.5, 'versicolor'), (6.3, 3.3, 6.0, 2.5, 'virginica'), (6.9, 3.1, 4.9, 1.5, 'versicolor'), (4.6, 3.1, 1.5, 0.2, 'setosa')]\n"
     ]
    }
   ],
   "source": [
    "INPUT: list = [\n",
    "    ('Sepal length', 'Sepal width', 'Petal length', 'Petal width', 'Species'),\n",
    "    (5.8, 2.7, 5.1, 1.9, 'virginica'),\n",
    "    (5.1, 3.5, 1.4, 0.2, 'setosa'),\n",
    "    (5.7, 2.8, 4.1, 1.3, 'versicolor'),\n",
    "    (6.3, 2.9, 5.6, 1.8, 'virginica'),\n",
    "    (6.4, 3.2, 4.5, 1.5, 'versicolor'),\n",
    "    (4.7, 3.2, 1.3, 0.2, 'setosa'),\n",
    "    (7.0, 3.2, 4.7, 1.4, 'versicolor'),\n",
    "    (7.6, 3.0, 6.6, 2.1, 'virginica'),\n",
    "    (4.9, 3.0, 1.4, 0.2, 'setosa'),\n",
    "    (4.9, 2.5, 4.5, 1.7, 'virginica'),\n",
    "    (7.1, 3.0, 5.9, 2.1, 'virginica'),\n",
    "    (4.6, 3.4, 1.4, 0.3, 'setosa'),\n",
    "    (5.4, 3.9, 1.7, 0.4, 'setosa'),\n",
    "    (5.7, 2.8, 4.5, 1.3, 'versicolor'),\n",
    "    (5.0, 3.6, 1.4, 0.3, 'setosa'),\n",
    "    (5.5, 2.3, 4.0, 1.3, 'versicolor'),\n",
    "    (6.5, 3.0, 5.8, 2.2, 'virginica'),\n",
    "    (6.5, 2.8, 4.6, 1.5, 'versicolor'),\n",
    "    (6.3, 3.3, 6.0, 2.5, 'virginica'),\n",
    "    (6.9, 3.1, 4.9, 1.5, 'versicolor'),\n",
    "    (4.6, 3.1, 1.5, 0.2, 'setosa'),\n",
    "]\n",
    "haeder, *data = INPUT\n",
    "\n",
    "print(haeder)\n",
    "print(data)"
   ]
  },
  {
   "cell_type": "code",
   "execution_count": 68,
   "metadata": {},
   "outputs": [
    {
     "data": {
      "text/plain": [
       "True"
      ]
     },
     "execution_count": 68,
     "metadata": {},
     "output_type": "execute_result"
    }
   ],
   "source": [
    "my_dict = {\n",
    "    'first_name': 'Jan',\n",
    "    'last_name': 'Twardowski',\n",
    "}\n",
    "\n",
    "'first_name' in my_dict\n",
    "# True\n",
    "\n",
    "'Twardowski' in my_dict.values()\n",
    "# False"
   ]
  },
  {
   "cell_type": "code",
   "execution_count": 74,
   "metadata": {},
   "outputs": [
    {
     "name": "stdout",
     "output_type": "stream",
     "text": [
      "Podaj litere: A\n"
     ]
    },
    {
     "data": {
      "text/plain": [
       "'Alfa'"
      ]
     },
     "execution_count": 74,
     "metadata": {},
     "output_type": "execute_result"
    }
   ],
   "source": [
    "'''\n",
    "\n",
    "        Stwórz tłumacza do alfabetu pilotów\n",
    "\n",
    "        Pojedynczym literom przyporządkuj ich fonetyczne odpowiedniki\n",
    "\n",
    "        Do przekonwertowania tabelki wykorzystaj zaznaczanie wielu linijek za pomocą klawisza alt w Twoim IDE\n",
    "\n",
    "        Zapytaj użytkownika o wprowadzenie litery\n",
    "\n",
    "        Użytkownik zawsze poda tylko jedną dużą literę lub cyfrę\n",
    "\n",
    "        Wypisz nazwę fonetyczną wymowę litery\n",
    "\n",
    "        Jeżeli wpisał znak, który nie jest w alfabecie, wypisz: \"Pilots don't say that\"\n",
    "\n",
    "        Nie używaj if, try ani except\n",
    "\n",
    "'''\n",
    "\n",
    "slownik = {\n",
    "'A': 'Alfa',\n",
    "'B': 'Bravo',\n",
    "'C': 'Charlie',\n",
    "'D': 'Delta',\n",
    "'E': 'Echo',\n",
    "'F': 'Foxtrot',\n",
    "'G': 'Golf',\n",
    "'H': 'Hotel',\n",
    "'I': 'India',\n",
    "'J': 'Juliet',\n",
    "'K': 'Kilo',\n",
    "'L': 'Lima',\n",
    "'M': 'Mike',\n",
    "'N': 'November',\n",
    "'O': 'Oscar',\n",
    "'P': 'Papa',\n",
    "'Q': 'Quebec',\n",
    "'R': 'Romeo',\n",
    "'S': 'Sierra',\n",
    "'T': 'Tango',\n",
    "'U': 'Uniform',\n",
    "'V': 'Victor',\n",
    "'W': 'Whisky',\n",
    "'X': 'X-Ray',\n",
    "'Y': 'Yankee',\n",
    "'Z': 'Zulu'}\n",
    "letter = input(\"Podaj litere: \")\n",
    "slownik.get(letter, 'Pilots don\\'t say that')"
   ]
  },
  {
   "cell_type": "code",
   "execution_count": 75,
   "metadata": {},
   "outputs": [
    {
     "name": "stdout",
     "output_type": "stream",
     "text": [
      "liczba: 10\n"
     ]
    },
    {
     "data": {
      "text/plain": [
       "True"
      ]
     },
     "execution_count": 75,
     "metadata": {},
     "output_type": "execute_result"
    }
   ],
   "source": [
    "number = input(\"liczba: \")\n",
    "int(number) % 2 == 0"
   ]
  },
  {
   "cell_type": "code",
   "execution_count": 78,
   "metadata": {},
   "outputs": [
    {
     "name": "stdout",
     "output_type": "stream",
     "text": [
      "Podaj wiek: 5\n",
      "niepelnoletni\n"
     ]
    }
   ],
   "source": [
    "\n",
    "PELNLETNOSC = 18\n",
    "number = input(\"Podaj wiek: \")\n",
    "if int(number) >  PELNLETNOSC:\n",
    "    print('pelnoletni')\n",
    "else:\n",
    "    print('niepelnoletni')"
   ]
  },
  {
   "cell_type": "code",
   "execution_count": 79,
   "metadata": {},
   "outputs": [
    {
     "data": {
      "text/plain": [
       "'\\n\\n        Tabela zawiera klasyfikację danych wejściowych (patrz poniżej)\\n\\n        Klasyfikacja ciśnienia krwi wg. American Heart Association\\n\\n        Użytkownik wprowadza ciśnienie krwi w formacie XXX/YY, gdzie:\\n\\n                XXX: int to wartość ciśnienia skurczowego (ang. systolic)\\n\\n                YY: int to wartość ciśnienia rozkurczowego (ang. diastolic)\\n\\n        Wypisz status wprowadzonego ciśnienia krwi\\n\\n        Gdy wartości ciśnienia skurczowego i rozkurczowego należą do różnych kategorii, przyjmij gorszy przypadek\\n\\n'"
      ]
     },
     "execution_count": 79,
     "metadata": {},
     "output_type": "execute_result"
    }
   ],
   "source": [
    "'''\n",
    "\n",
    "        Tabela zawiera klasyfikację danych wejściowych (patrz poniżej)\n",
    "\n",
    "        Klasyfikacja ciśnienia krwi wg. American Heart Association\n",
    "\n",
    "        Użytkownik wprowadza ciśnienie krwi w formacie XXX/YY, gdzie:\n",
    "\n",
    "                XXX: int to wartość ciśnienia skurczowego (ang. systolic)\n",
    "\n",
    "                YY: int to wartość ciśnienia rozkurczowego (ang. diastolic)\n",
    "\n",
    "        Wypisz status wprowadzonego ciśnienia krwi\n",
    "\n",
    "        Gdy wartości ciśnienia skurczowego i rozkurczowego należą do różnych kategorii, przyjmij gorszy przypadek\n",
    "\n",
    "'''\n",
    "\n"
   ]
  },
  {
   "cell_type": "code",
   "execution_count": 107,
   "metadata": {},
   "outputs": [
    {
     "name": "stdout",
     "output_type": "stream",
     "text": [
      "Podaj ocene: 5\n",
      "Podaj ocene: 4\n",
      "Podaj ocene: 3\n",
      "Podaj ocene: 0\n",
      "Grade is not allowed\n",
      "Podaj ocene: \n",
      "4.0\n"
     ]
    }
   ],
   "source": [
    "'''\n",
    "\n",
    "        Dla skali ocen w danych wejściowych (patrz poniżej)\n",
    "\n",
    "        Przekonwertuj skalę do List[float] używając pętli while\n",
    "\n",
    "        Poproś użytkownika o ocenę, jedną na raz\n",
    "\n",
    "        Użytkownik poda tylko poprawne int lub float\n",
    "\n",
    "        Jeżeli ocena jest na nowej skali - dodaj ją do dzienniczka\n",
    "\n",
    "        Jeżeli oceny nie ma na liście - wyświetl \"Grade is not allowed\" i kontynuuj wpisywanie\n",
    "\n",
    "        Jeżeli użytkownik wcisnął Enter, zakończ wprowadzanie danych\n",
    "\n",
    "        Na zakończenie wyświetl wyliczoną dla dzienniczka średnią arytmetyczną\n",
    "\n",
    "        Przetestuj przypadek, gdy dzienniczek jest pusty\n",
    "\n",
    "'''\n",
    "INPUT = (2, 3, 3.5, 4, 4.5, 5)\n",
    "oceny = []\n",
    "i = 0\n",
    "while i < len(INPUT):\n",
    "    oceny.append(INPUT[i])\n",
    "    i += 1\n",
    "ocena = ''\n",
    "dzienniczek = []\n",
    "while True:\n",
    "    ocena = input('Podaj ocene: ')\n",
    "    if not ocena:\n",
    "        break\n",
    "    elif float(ocena) in oceny:\n",
    "        dzienniczek.append(float(ocena))\n",
    "\n",
    "    else:\n",
    "        print(\"Grade is not allowed\")\n",
    "if dzienniczek:\n",
    "    print(sum(dzienniczek)/len(dzienniczek))"
   ]
  },
  {
   "cell_type": "code",
   "execution_count": 108,
   "metadata": {},
   "outputs": [
    {
     "data": {
      "text/plain": [
       "[5.0, 4.0, 3.0]"
      ]
     },
     "execution_count": 108,
     "metadata": {},
     "output_type": "execute_result"
    }
   ],
   "source": [
    "dzienniczek"
   ]
  },
  {
   "cell_type": "code",
   "execution_count": 109,
   "metadata": {},
   "outputs": [
    {
     "data": {
      "text/plain": [
       "[2, 3, 3.5, 4, 4.5, 5]"
      ]
     },
     "execution_count": 109,
     "metadata": {},
     "output_type": "execute_result"
    }
   ],
   "source": [
    "oceny"
   ]
  },
  {
   "cell_type": "code",
   "execution_count": 119,
   "metadata": {},
   "outputs": [],
   "source": [
    "'''\n",
    "\n",
    "        Dla danych wejściowych (patrz poniżej)\n",
    "\n",
    "        Policz wystąpienia każdej z cyfr\n",
    "\n",
    "        Wypisz OUTPUT: Dict[int, int]:\n",
    "\n",
    "                klucz - cyfra\n",
    "\n",
    "                wartość - liczba wystąpień\n",
    "\n",
    "\n",
    "'''\n",
    "\n",
    "INPUT = [1, 4, 6, 7, 4, 4, 4, 5, 1, 7, 0,\n",
    "         0, 6, 5, 0, 0, 9, 7, 0, 4, 4, 8,\n",
    "         2, 4, 0, 0, 1, 9, 1, 7, 8, 8, 9,\n",
    "         1, 3, 5, 6, 8, 2, 8, 1, 3, 9, 5,\n",
    "         4, 8, 1, 9, 6, 3]\n",
    "numbers = {}\n",
    "\n",
    "for num in INPUT:\n",
    "    if num in numbers.keys():\n",
    "        numbers[num] += 1\n",
    "    else:\n",
    "        numbers[num] = 1\n",
    "        "
   ]
  },
  {
   "cell_type": "code",
   "execution_count": 121,
   "metadata": {},
   "outputs": [
    {
     "name": "stdout",
     "output_type": "stream",
     "text": [
      "1\n",
      "4\n",
      "6\n",
      "7\n",
      "5\n",
      "0\n",
      "9\n",
      "8\n",
      "2\n",
      "3\n"
     ]
    }
   ],
   "source": [
    "for num in numbers:\n",
    "    print(num)"
   ]
  },
  {
   "cell_type": "code",
   "execution_count": 123,
   "metadata": {},
   "outputs": [
    {
     "ename": "KeyError",
     "evalue": "4",
     "output_type": "error",
     "traceback": [
      "\u001b[0;31m---------------------------------------------------------------------------\u001b[0m",
      "\u001b[0;31mKeyError\u001b[0m                                  Traceback (most recent call last)",
      "\u001b[0;32m<ipython-input-123-243ceb528b8e>\u001b[0m in \u001b[0;36m<module>\u001b[0;34m()\u001b[0m\n\u001b[1;32m     33\u001b[0m \u001b[0mOUTPUT\u001b[0m \u001b[0;34m=\u001b[0m \u001b[0;34m{\u001b[0m\u001b[0;34m'small'\u001b[0m\u001b[0;34m:\u001b[0m \u001b[0;36m0\u001b[0m\u001b[0;34m,\u001b[0m \u001b[0;34m'medium'\u001b[0m\u001b[0;34m:\u001b[0m \u001b[0;36m0\u001b[0m\u001b[0;34m,\u001b[0m \u001b[0;34m'large'\u001b[0m\u001b[0;34m:\u001b[0m \u001b[0;36m0\u001b[0m\u001b[0;34m}\u001b[0m\u001b[0;34m\u001b[0m\u001b[0m\n\u001b[1;32m     34\u001b[0m \u001b[0;32mfor\u001b[0m \u001b[0mnum\u001b[0m \u001b[0;32min\u001b[0m \u001b[0mINPUT\u001b[0m\u001b[0;34m:\u001b[0m\u001b[0;34m\u001b[0m\u001b[0m\n\u001b[0;32m---> 35\u001b[0;31m     \u001b[0;32mif\u001b[0m \u001b[0msmall\u001b[0m\u001b[0;34m[\u001b[0m\u001b[0mnum\u001b[0m\u001b[0;34m]\u001b[0m\u001b[0;34m:\u001b[0m\u001b[0;34m\u001b[0m\u001b[0m\n\u001b[0m\u001b[1;32m     36\u001b[0m         \u001b[0msmall\u001b[0m\u001b[0;34m[\u001b[0m\u001b[0mnum\u001b[0m\u001b[0;34m]\u001b[0m \u001b[0;34m+=\u001b[0m\u001b[0;36m1\u001b[0m\u001b[0;34m\u001b[0m\u001b[0m\n\u001b[1;32m     37\u001b[0m \u001b[0mOUTPUT\u001b[0m\u001b[0;34m\u001b[0m\u001b[0m\n",
      "\u001b[0;31mKeyError\u001b[0m: 4"
     ]
    }
   ],
   "source": [
    "'''\n",
    "\n",
    "\n",
    "        Dla danych wejściowych (patrz poniżej)\n",
    "\n",
    "        Policz wystąpienia każdej z group\n",
    "\n",
    "        Zdefiniuj grupy\n",
    "\n",
    "                small - liczby z przedziału [0-2]\n",
    "\n",
    "                medium - liczby z przedziału [3-7]\n",
    "\n",
    "                large - liczby z przedziału [8-9]\n",
    "\n",
    "        Wypisz OUTPUT: Dict[str, int]:\n",
    "\n",
    "                klucz - grupa\n",
    "\n",
    "                wartość - liczba wystąpień\n",
    "\n",
    "'''\n",
    "\n",
    "INPUT = [1, 4, 6, 7, 4, 4, 4, 5, 1, 7, 0,\n",
    "         0, 6, 5, 0, 0, 9, 7, 0, 4, 4, 8,\n",
    "         2, 4, 0, 0, 1, 9, 1, 7, 8, 8, 9,\n",
    "         1, 3, 5, 6, 8, 2, 8, 1, 3, 9, 5,\n",
    "         4, 8, 1, 9, 6, 3]\n",
    "small = {0:0, 1:0, 2:0}\n",
    "medium = {3:0, 4:0, 5:0, 6:0, 7:0}\n",
    "large = {8:0, 9:0}\n",
    "\n",
    "OUTPUT = {'small': 0, 'medium': 0, 'large': 0}\n",
    "for num in INPUT:\n",
    "    if small[num]:\n",
    "        small[num] +=1\n",
    "OUTPUT"
   ]
  },
  {
   "cell_type": "code",
   "execution_count": 137,
   "metadata": {},
   "outputs": [],
   "source": [
    "'''\n",
    "\n",
    "        Dany jest tekst przemówienia \"Moon Speech\" wygłoszonej przez John F. Kennedy'ego (patrz poniżej)\n",
    "\n",
    "        Zdania oddzielone są kropkami (.)\n",
    "\n",
    "        Każde zdanie oczyść z białych znaków na początku i końcu\n",
    "\n",
    "        Słowa oddzielone są spacjami\n",
    "\n",
    "        Policz ile jest słów w każdym zdaniu\n",
    "\n",
    "        Wypisz Dict[str, int]:\n",
    "\n",
    "                klucz - zdanie\n",
    "\n",
    "                wartość - liczba słów\n",
    "\n",
    "        Wypisz także ile jest łącznie w całym tekście:\n",
    "\n",
    "                przysłówków (słów zakończonych na \"ly\")\n",
    "\n",
    "                zdań\n",
    "\n",
    "                słów\n",
    "\n",
    "                liter\n",
    "\n",
    "                znaków (łącznie ze spacjami wewnątrz zdań, ale bez kropek .)\n",
    "\n",
    "                przecinków (,)\n",
    "\n",
    "'''\n",
    "\n",
    "moon_speech = 'We choose to go to the Moon. We choose to go to the Moon in this decade and do the other things. Not because they are easy, but because they are hard. Because that goal will serve to organize and measure the best of our energies and skills. Because that challenge is one that we are willing to accept. One we are unwilling to postpone. And one we intend to win'\n"
   ]
  },
  {
   "cell_type": "code",
   "execution_count": 139,
   "metadata": {},
   "outputs": [
    {
     "data": {
      "text/plain": [
       "{'We choose to go to the Moon': {'We': 1,\n",
       "  'choose': 1,\n",
       "  'to': 2,\n",
       "  'go': 1,\n",
       "  'the': 1,\n",
       "  'Moon': 1},\n",
       " 'We choose to go to the Moon in this decade and do the other things': {'We': 1,\n",
       "  'choose': 1,\n",
       "  'to': 2,\n",
       "  'go': 1,\n",
       "  'the': 2,\n",
       "  'Moon': 1,\n",
       "  'in': 1,\n",
       "  'this': 1,\n",
       "  'decade': 1,\n",
       "  'and': 1,\n",
       "  'do': 1,\n",
       "  'other': 1,\n",
       "  'things': 1},\n",
       " 'Not because they are easy, but because they are hard': {'Not': 1,\n",
       "  'because': 2,\n",
       "  'they': 2,\n",
       "  'are': 2,\n",
       "  'easy,': 1,\n",
       "  'but': 1,\n",
       "  'hard': 1},\n",
       " 'Because that goal will serve to organize and measure the best of our energies and skills': {'Because': 1,\n",
       "  'that': 1,\n",
       "  'goal': 1,\n",
       "  'will': 1,\n",
       "  'serve': 1,\n",
       "  'to': 1,\n",
       "  'organize': 1,\n",
       "  'and': 2,\n",
       "  'measure': 1,\n",
       "  'the': 1,\n",
       "  'best': 1,\n",
       "  'of': 1,\n",
       "  'our': 1,\n",
       "  'energies': 1,\n",
       "  'skills': 1},\n",
       " 'Because that challenge is one that we are willing to accept': {'Because': 1,\n",
       "  'that': 2,\n",
       "  'challenge': 1,\n",
       "  'is': 1,\n",
       "  'one': 1,\n",
       "  'we': 1,\n",
       "  'are': 1,\n",
       "  'willing': 1,\n",
       "  'to': 1,\n",
       "  'accept': 1},\n",
       " 'One we are unwilling to postpone': {'One': 1,\n",
       "  'we': 1,\n",
       "  'are': 1,\n",
       "  'unwilling': 1,\n",
       "  'to': 1,\n",
       "  'postpone': 1},\n",
       " 'And one we intend to win': {'And': 1,\n",
       "  'one': 1,\n",
       "  'we': 1,\n",
       "  'intend': 1,\n",
       "  'to': 1,\n",
       "  'win': 1}}"
      ]
     },
     "execution_count": 139,
     "metadata": {},
     "output_type": "execute_result"
    }
   ],
   "source": [
    "OUTPUT = {}\n",
    "for sentence in sentences:\n",
    "    sentece = sentence.rstrip().lstrip()\n",
    "    words_dic = {}\n",
    "    words = sentence.split(' ')\n",
    "    for word in words:\n",
    "        if word in words_dic.keys():\n",
    "            words_dic[word] += 1\n",
    "        else: \n",
    "            words_dic[word] = 1\n",
    "    OUTPUT[sentence] = words_dic\n",
    "\n",
    "OUTPUT"
   ]
  },
  {
   "cell_type": "code",
   "execution_count": 146,
   "metadata": {},
   "outputs": [
    {
     "name": "stdout",
     "output_type": "stream",
     "text": [
      "virginica\n",
      "setosa\n",
      "virginica\n",
      "setosa\n",
      "virginica\n",
      "setosa\n"
     ]
    }
   ],
   "source": [
    "'''\n",
    "\n",
    "        Dla danych wejściowych (patrz poniżej)\n",
    "\n",
    "        Oddziel nagłówek od danych\n",
    "\n",
    "        Iteruj po danych\n",
    "\n",
    "        Wypisz nazwy gatunków kończące się na \"ca\" lub \"sa\"\n",
    "\n",
    "'''\n",
    "INPUT = [\n",
    "    ('Sepal length', 'Sepal width', 'Petal length', 'Petal width', 'Species'),\n",
    "    (5.8, 2.7, 5.1, 1.9, {'virginica'}),\n",
    "    (5.1, 3.5, 1.4, 0.2, {'setosa'}),\n",
    "    (5.7, 2.8, 4.1, 1.3, {'versicolor'}),\n",
    "    (6.3, 2.9, 5.6, 1.8, {'virginica'}),\n",
    "    (6.4, 3.2, 4.5, 1.5, {'versicolor'}),\n",
    "    (4.7, 3.2, 1.3, 0.2, {'setosa'}),\n",
    "    (7.0, 3.2, 4.7, 1.4, {'versicolor'}),\n",
    "    (7.6, 3.0, 6.6, 2.1, {'virginica'}),\n",
    "    (4.6, 3.1, 1.5, 0.2, {'setosa'}),\n",
    "]\n",
    "header, *data = INPUT\n",
    "for row in data:\n",
    "    *numer, name = row\n",
    "    gatunek = name.pop()\n",
    "    if gatunek.endswith('ca') or  gatunek.endswith('sa'):\n",
    "        print(gatunek)"
   ]
  },
  {
   "cell_type": "code",
   "execution_count": 147,
   "metadata": {},
   "outputs": [],
   "source": [
    "'''\n",
    "\n",
    "\n",
    "        Dla danych wejściowych (patrz poniżej)\n",
    "\n",
    "        Zbierz unikalne klucze w jednej sekwencji\n",
    "\n",
    "        Wypisz sekwencję\n",
    "\n",
    "'''\n",
    "INPUT = [\n",
    "    {'Sepal length': 5.1, 'Sepal width': 3.5, 'Species': 'setosa'},\n",
    "    {'Petal length': 4.1, 'Petal width': 1.3, 'Species': 'versicolor'},\n",
    "    {'Sepal length': 6.3, 'Petal width': 1.8, 'Species': 'virginica'},\n",
    "    {'Sepal length': 5.0, 'Petal width': 0.2, 'Species': 'setosa'},\n",
    "    {'Sepal width': 2.8, 'Petal length': 4.1, 'Species': 'versicolor'},\n",
    "    {'Sepal width': 2.9, 'Petal width': 1.8, 'Species': 'virginica'},\n",
    "]\n",
    "klucze = set()\n",
    "for row in INPUT:\n",
    "        klucze.update(row.keys())"
   ]
  },
  {
   "cell_type": "code",
   "execution_count": 148,
   "metadata": {},
   "outputs": [
    {
     "data": {
      "text/plain": [
       "{'Petal length', 'Petal width', 'Sepal length', 'Sepal width', 'Species'}"
      ]
     },
     "execution_count": 148,
     "metadata": {},
     "output_type": "execute_result"
    }
   ],
   "source": [
    "klucze\n"
   ]
  },
  {
   "cell_type": "code",
   "execution_count": 160,
   "metadata": {},
   "outputs": [
    {
     "data": {
      "text/plain": [
       "{'Doctorate': '6',\n",
       " 'Prof-school': '6',\n",
       " 'Masters': '5',\n",
       " 'Bachelor': '5',\n",
       " 'Engineer': '5',\n",
       " 'HS-grad': '4',\n",
       " 'Junior High': '3',\n",
       " 'Primary School': '2',\n",
       " 'Kindergarten': '1'}"
      ]
     },
     "execution_count": 160,
     "metadata": {},
     "output_type": "execute_result"
    }
   ],
   "source": [
    "'''\n",
    "\n",
    "        Dla danych wejściowych (patrz poniżej)\n",
    "\n",
    "        Przekonwertuj do Dict[str, str]\n",
    "\n",
    "        Rezultat powinien być identyczny do wyjściowego (patrz poniżej)\n",
    "\n",
    "'''\n",
    "INPUT = {\n",
    "    6: ['Doctorate', 'Prof-school'],\n",
    "    5: ['Masters', 'Bachelor', 'Engineer'],\n",
    "    4: ['HS-grad'],\n",
    "    3: ['Junior High'],\n",
    "    2: ['Primary School'],\n",
    "    1: ['Kindergarten'],\n",
    "}\n",
    "\n",
    "OUTPUT = {}\n",
    "for key, values in INPUT.items():\n",
    "    for value in values:\n",
    "        OUTPUT[value] = str(key)\n",
    "OUTPUT"
   ]
  },
  {
   "cell_type": "code",
   "execution_count": 168,
   "metadata": {},
   "outputs": [
    {
     "ename": "NameError",
     "evalue": "name 'flabels' is not defined",
     "output_type": "error",
     "traceback": [
      "\u001b[0;31m---------------------------------------------------------------------------\u001b[0m",
      "\u001b[0;31mNameError\u001b[0m                                 Traceback (most recent call last)",
      "\u001b[0;32m<ipython-input-168-28a33817196c>\u001b[0m in \u001b[0;36m<module>\u001b[0;34m()\u001b[0m\n\u001b[1;32m     49\u001b[0m         \u001b[0mlabel_encoder\u001b[0m\u001b[0;34m[\u001b[0m\u001b[0mnr\u001b[0m\u001b[0;34m]\u001b[0m \u001b[0;34m=\u001b[0m \u001b[0mgatunek\u001b[0m\u001b[0;34m\u001b[0m\u001b[0m\n\u001b[1;32m     50\u001b[0m \u001b[0;34m\u001b[0m\u001b[0m\n\u001b[0;32m---> 51\u001b[0;31m     \u001b[0mflabels\u001b[0m\u001b[0;34m.\u001b[0m\u001b[0mappend\u001b[0m\u001b[0;34m(\u001b[0m\u001b[0;34m)\u001b[0m\u001b[0;34m\u001b[0m\u001b[0m\n\u001b[0m\u001b[1;32m     52\u001b[0m     \u001b[0mfeatures\u001b[0m\u001b[0;34m.\u001b[0m\u001b[0mappend\u001b[0m\u001b[0;34m(\u001b[0m\u001b[0mtuple\u001b[0m\u001b[0;34m(\u001b[0m\u001b[0mpomiary\u001b[0m\u001b[0;34m)\u001b[0m\u001b[0;34m)\u001b[0m\u001b[0;34m\u001b[0m\u001b[0m\n\u001b[1;32m     53\u001b[0m \u001b[0;34m\u001b[0m\u001b[0m\n",
      "\u001b[0;31mNameError\u001b[0m: name 'flabels' is not defined"
     ]
    }
   ],
   "source": [
    "'''\n",
    "\n",
    "        Dla danych wejściowych (patrz poniżej)\n",
    "\n",
    "        Odseparuj nagłówek i dane\n",
    "\n",
    "        Wypisz List[dict]\n",
    "\n",
    "                klucz: nazwa z nagłówka\n",
    "\n",
    "                wartość: wyniki pomiarów lub gatunek\n",
    "\n",
    "'''\n",
    "INPUT = [\n",
    "    ('Sepal length', 'Sepal width', 'Petal length', 'Petal width', 'Species'),\n",
    "    (5.8, 2.7, 5.1, 1.9, 'virginica'),\n",
    "    (5.1, 3.5, 1.4, 0.2, 'setosa'),\n",
    "    (5.7, 2.8, 4.1, 1.3, 'versicolor'),\n",
    "    (6.3, 2.9, 5.6, 1.8, 'virginica'),\n",
    "    (6.4, 3.2, 4.5, 1.5, 'versicolor'),\n",
    "    (4.7, 3.2, 1.3, 0.2, 'setosa'),\n",
    "    (7.0, 3.2, 4.7, 1.4, 'versicolor'),\n",
    "    (7.6, 3.0, 6.6, 2.1, 'virginica'),\n",
    "    (4.9, 3.0, 1.4, 0.2, 'setosa'),\n",
    "    (4.9, 2.5, 4.5, 1.7, 'virginica'),\n",
    "    (7.1, 3.0, 5.9, 2.1, 'virginica'),\n",
    "    (4.6, 3.4, 1.4, 0.3, 'setosa'),\n",
    "    (5.4, 3.9, 1.7, 0.4, 'setosa'),\n",
    "    (5.7, 2.8, 4.5, 1.3, 'versicolor'),\n",
    "    (5.0, 3.6, 1.4, 0.3, 'setosa'),\n",
    "    (5.5, 2.3, 4.0, 1.3, 'versicolor'),\n",
    "    (6.5, 3.0, 5.8, 2.2, 'virginica'),\n",
    "    (6.5, 2.8, 4.6, 1.5, 'versicolor'),\n",
    "    (6.3, 3.3, 6.0, 2.5, 'virginica'),\n",
    "    (6.9, 3.1, 4.9, 1.5, 'versicolor'),\n",
    "    (4.6, 3.1, 1.5, 0.2, 'setosa'),\n",
    "]\n",
    "\n",
    "header, *data = INPUT\n",
    "\n",
    "features = []\n",
    "labels = []\n",
    "label_encoder = {}\n",
    "\n",
    "for *pomiary, gatunek in data:\n",
    "    \n",
    "    if gatunek not in label_encoder.keys():\n",
    "        nr = len(label_encoder)\n",
    "        label_encoder[nr] = gatunek\n",
    "    \n",
    "    flabels.append()\n",
    "    features.append(tuple(pomiary))\n",
    "\n",
    "\n",
    "print(labels)"
   ]
  },
  {
   "cell_type": "code",
   "execution_count": null,
   "metadata": {},
   "outputs": [],
   "source": []
  }
 ],
 "metadata": {
  "kernelspec": {
   "display_name": "Python 3",
   "language": "python",
   "name": "python3"
  },
  "language_info": {
   "codemirror_mode": {
    "name": "ipython",
    "version": 3
   },
   "file_extension": ".py",
   "mimetype": "text/x-python",
   "name": "python",
   "nbconvert_exporter": "python",
   "pygments_lexer": "ipython3",
   "version": "3.7.0"
  }
 },
 "nbformat": 4,
 "nbformat_minor": 2
}
