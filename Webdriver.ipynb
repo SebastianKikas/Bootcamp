{
 "cells": [
  {
   "cell_type": "code",
   "execution_count": 1,
   "metadata": {},
   "outputs": [],
   "source": [
    "from selenium import webdriver\n",
    "from selenium.webdriver.common.by import By\n",
    "from selenium.webdriver.support.ui import WebDriverWait\n",
    "from selenium.webdriver.support import expected_conditions as EC\n"
   ]
  },
  {
   "cell_type": "code",
   "execution_count": 7,
   "metadata": {},
   "outputs": [],
   "source": [
    "with webdriver.Firefox(executable_path='/home/kodolamacz/geckodriver') as driver:\n",
    "    site = driver.get('https://www.otomoto.pl/oferta/chrysler-300c-pierwszy-wlasciciel-sprowadzony-z-usa-ID6CQjDE.html')\n",
    "    wait = WebDriverWait(driver, 30)\n",
    "    el = driver.find_element_by_css_selector('#siteWrap > main > div.flex-container-main > div.flex-container-main__right > div.offer-content__aside > div.seller-box > div.seller-box__seller-links.seller-box__seller-links--secondary > div > div > a')\n",
    "    el.click()\n",
    "    wait.until(EC.presence_of_element_located((By.CSS_SELECTOR, '#siteWrap > main > div.flex-container-main > div.flex-container-main__right > div.offer-content__aside > div.seller-box > div.seller-box__seller-links.seller-box__seller-links--secondary > div > div > span.phone-n\\$numberBoxumber.seller-phones__number')))\n",
    "    page = driver.page_source\n",
    "\n"
   ]
  },
  {
   "cell_type": "code",
   "execution_count": 9,
   "metadata": {},
   "outputs": [],
   "source": [
    "from bs4 import BeautifulSoup\n",
    "soup = BeautifulSoup(page, 'lxml')"
   ]
  },
  {
   "cell_type": "code",
   "execution_count": 22,
   "metadata": {},
   "outputs": [
    {
     "data": {
      "text/plain": [
       "'739 231 054'"
      ]
     },
     "execution_count": 22,
     "metadata": {},
     "output_type": "execute_result"
    }
   ],
   "source": [
    "soup.select('.phone-n\\$numberBoxumber')[0].text"
   ]
  },
  {
   "cell_type": "code",
   "execution_count": null,
   "metadata": {},
   "outputs": [],
   "source": []
  }
 ],
 "metadata": {
  "kernelspec": {
   "display_name": "Python 3",
   "language": "python",
   "name": "python3"
  },
  "language_info": {
   "codemirror_mode": {
    "name": "ipython",
    "version": 3
   },
   "file_extension": ".py",
   "mimetype": "text/x-python",
   "name": "python",
   "nbconvert_exporter": "python",
   "pygments_lexer": "ipython3",
   "version": "3.7.0"
  }
 },
 "nbformat": 4,
 "nbformat_minor": 4
}
