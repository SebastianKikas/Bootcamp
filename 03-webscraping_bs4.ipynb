{
 "cells": [
  {
   "cell_type": "markdown",
   "metadata": {},
   "source": [
    "\n",
    "# HTML\n",
    "\n",
    "## Wymagania\n",
    "\n",
    "Do wykonania ćwiczeń należy zainstalować parser lxml oraz bibliotekę BeautifulSoup4:\n",
    "\n",
    "```\n",
    "pip install beautifulsoup4 lxml\n",
    "```\n"
   ]
  },
  {
   "cell_type": "markdown",
   "metadata": {},
   "source": [
    "## Dane do parse'owania"
   ]
  },
  {
   "cell_type": "code",
   "execution_count": 1,
   "metadata": {},
   "outputs": [],
   "source": [
    "website = \"\"\"\n",
    "<!DOCTYPE html>\n",
    "<html lang=\"en\">\n",
    "<head>\n",
    "        <title>The Linux Kernel Archives</title>\n",
    "        <meta charset=\"utf-8\" />\n",
    "\t<link rel=\"icon\" type=\"image/png\" href=\"./theme/images/logos/favicon.png\" />\n",
    "        <link rel=\"stylesheet\" href=\"./theme/css/main.css\" type=\"text/css\" />\n",
    "                <link href=\"https://www.kernel.org/feeds/all.atom.xml\" type=\"application/atom+xml\" rel=\"alternate\" title=\"The Linux Kernel Archives Atom Feed\" />\n",
    "                \n",
    "        <link href=\"https://www.kernel.org/feeds/kdist.xml\" type=\"application/atom+xml\" rel=\"alternate\" title=\"Latest Linux Kernel Releases\" />\n",
    "\n",
    "        <!--[if IE]>\n",
    "                <script src=\"https://html5shiv.googlecode.com/svn/trunk/html5.js\"></script><![endif]-->\n",
    "\n",
    "        <!--[if lte IE 7]>\n",
    "                <link rel=\"stylesheet\" type=\"text/css\" media=\"all\" href=\"./css/ie.css\"/>\n",
    "                <script src=\"./js/IE8.js\" type=\"text/javascript\"></script><![endif]-->\n",
    "\n",
    "        <!--[if lt IE 7]>\n",
    "                <link rel=\"stylesheet\" type=\"text/css\" media=\"all\" href=\"./css/ie6.css\"/><![endif]-->\n",
    "\n",
    "</head>\n",
    "\n",
    "<body id=\"index\" class=\"home\">\n",
    "        <header id=\"banner\" class=\"body\">\n",
    "\t        <div id=\"tux-gear\"></div>\n",
    "                <h1><a href=\"./\">The Linux Kernel Archives </a></h1>\n",
    "                <nav><ul>\n",
    "                                                                                                    <li ><a href=\"./category/about.html\">About</a></li>\n",
    "                                    <li ><a href=\"./category/contact-us.html\">Contact us</a></li>\n",
    "                                    <li ><a href=\"./category/faq.html\">FAQ</a></li>\n",
    "                                    <li ><a href=\"./category/releases.html\">Releases</a></li>\n",
    "                                    <li ><a href=\"./category/signatures.html\">Signatures</a></li>\n",
    "                                    <li ><a href=\"./category/site-news.html\">Site news</a></li>\n",
    "                                </ul></nav>\n",
    "        </header><!-- /#banner -->\n",
    "                \n",
    "    <aside id=\"featured\" class=\"body\">\n",
    "    <article>\n",
    "        <table id=\"protocols\">\n",
    "        <tr>\n",
    "          <th>Protocol</th>\n",
    "          <th>Location</th>\n",
    "        </tr>\n",
    "        <tr>\n",
    "          <td><a href=\"https://www.ietf.org/rfc/rfc2616.txt\">HTTP</a></td>\n",
    "          <td><a href=\"https://www.kernel.org/pub/\">https://www.kernel.org/pub/</a></td>\n",
    "        </tr>\n",
    "\n",
    "        <tr>\n",
    "          <td><a href=\"https://git-scm.com/\">GIT</a></td>\n",
    "          <td><a href=\"https://git.kernel.org/\">https://git.kernel.org/</a></td>\n",
    "        </tr>\n",
    "\n",
    "        <tr>\n",
    "            <td><a href=\"https://rsync.samba.org/\">RSYNC</a></td>\n",
    "            <td>rsync://rsync.kernel.org/pub/</td>\n",
    "        </tr>\n",
    "        </table>\n",
    "\n",
    "        <table id=\"latest\">\n",
    "        <tr>\n",
    "            <td colspan=\"2\" id=\"latest_label\">\n",
    "                <strong>Latest Stable Kernel:</strong>\n",
    "            </td>\n",
    "        </tr>\n",
    "        <tr>\n",
    "            <td id=\"latest_button\">\n",
    "                <a href=\"https://cdn.kernel.org/pub/linux/kernel/v4.x/linux-4.18.9.tar.xz\"><img src=\"./theme/images/icons/downloadarrow_small.png\" width=\"48\" height=\"48\" border=\"0\" alt=\"Download\"/></a>\n",
    "            </td>\n",
    "            <td id=\"latest_link\">\n",
    "                <a href=\"https://cdn.kernel.org/pub/linux/kernel/v4.x/linux-4.18.9.tar.xz\">4.18.9</a>\n",
    "            </td>\n",
    "        </tr>\n",
    "        </table>\n",
    "\n",
    "        <table id=\"releases\">\n",
    "                <tr align=\"left\">\n",
    "            <td>mainline:</td>\n",
    "            <td><strong>4.19-rc4</strong></td>\n",
    "            <td>2018-09-16</td>\n",
    "            <td>[<a href=\"https://git.kernel.org/torvalds/t/linux-4.19-rc4.tar.gz\" title=\"Download complete tarball\">tarball</a>] </td>\n",
    "            <td> </td>\n",
    "            <td>[<a href=\"https://git.kernel.org/torvalds/p/v4.19-rc4/v4.18\" title=\"Download patch to previous mainline\">patch</a>] </td>\n",
    "            <td>[<a href=\"https://git.kernel.org/torvalds/p/v4.19-rc4/v4.19-rc3\" title=\"Download incremental patch\">inc.&nbsp;patch</a>] </td>\n",
    "            <td>[<a href=\"https://git.kernel.org/torvalds/ds/v4.19-rc4/v4.19-rc3\" title=\"View diff in cgit\">view&nbsp;diff</a>] </td>\n",
    "            <td>[<a href=\"https://git.kernel.org/torvalds/h/v4.19-rc4\" title=\"Browse the git tree using cgit\">browse</a>]  </td>\n",
    "            <td> </td>\n",
    "        </tr>\n",
    "                <tr align=\"left\">\n",
    "            <td>stable:</td>\n",
    "            <td><strong>4.18.9</strong></td>\n",
    "            <td>2018-09-19</td>\n",
    "            <td>[<a href=\"https://cdn.kernel.org/pub/linux/kernel/v4.x/linux-4.18.9.tar.xz\" title=\"Download complete tarball\">tarball</a>] </td>\n",
    "            <td>[<a href=\"https://cdn.kernel.org/pub/linux/kernel/v4.x/linux-4.18.9.tar.sign\" title=\"Download PGP verification signature\">pgp</a>]  </td>\n",
    "            <td>[<a href=\"https://cdn.kernel.org/pub/linux/kernel/v4.x/patch-4.18.9.xz\" title=\"Download patch to previous mainline\">patch</a>] </td>\n",
    "            <td>[<a href=\"https://cdn.kernel.org/pub/linux/kernel/v4.x/incr/patch-4.18.8-9.xz\" title=\"Download incremental patch\">inc.&nbsp;patch</a>] </td>\n",
    "            <td>[<a href=\"https://git.kernel.org/stable/ds/v4.18.9/v4.18.8\" title=\"View diff in cgit\">view&nbsp;diff</a>] </td>\n",
    "            <td>[<a href=\"https://git.kernel.org/stable/h/v4.18.9\" title=\"Browse the git tree using cgit\">browse</a>]  </td>\n",
    "            <td>[<a href=\"https://cdn.kernel.org/pub/linux/kernel/v4.x/ChangeLog-4.18.9\" title=\"View detailed change logs\">changelog</a>] </td>\n",
    "        </tr>\n",
    "                <tr align=\"left\">\n",
    "            <td>stable:</td>\n",
    "            <td><strong>4.17.19 <span class=\"eolkernel\" title=\"This release is End-of-Life\">[EOL]</span></strong></td>\n",
    "            <td>2018-08-24</td>\n",
    "            <td>[<a href=\"https://cdn.kernel.org/pub/linux/kernel/v4.x/linux-4.17.19.tar.xz\" title=\"Download complete tarball\">tarball</a>] </td>\n",
    "            <td>[<a href=\"https://cdn.kernel.org/pub/linux/kernel/v4.x/linux-4.17.19.tar.sign\" title=\"Download PGP verification signature\">pgp</a>]  </td>\n",
    "            <td>[<a href=\"https://cdn.kernel.org/pub/linux/kernel/v4.x/patch-4.17.19.xz\" title=\"Download patch to previous mainline\">patch</a>] </td>\n",
    "            <td>[<a href=\"https://cdn.kernel.org/pub/linux/kernel/v4.x/incr/patch-4.17.18-19.xz\" title=\"Download incremental patch\">inc.&nbsp;patch</a>] </td>\n",
    "            <td>[<a href=\"https://git.kernel.org/stable/ds/v4.17.19/v4.17.18\" title=\"View diff in cgit\">view&nbsp;diff</a>] </td>\n",
    "            <td>[<a href=\"https://git.kernel.org/stable/h/v4.17.19\" title=\"Browse the git tree using cgit\">browse</a>]  </td>\n",
    "            <td>[<a href=\"https://cdn.kernel.org/pub/linux/kernel/v4.x/ChangeLog-4.17.19\" title=\"View detailed change logs\">changelog</a>] </td>\n",
    "        </tr>\n",
    "                <tr align=\"left\">\n",
    "            <td>longterm:</td>\n",
    "            <td><strong>4.14.71</strong></td>\n",
    "            <td>2018-09-19</td>\n",
    "            <td>[<a href=\"https://cdn.kernel.org/pub/linux/kernel/v4.x/linux-4.14.71.tar.xz\" title=\"Download complete tarball\">tarball</a>] </td>\n",
    "            <td>[<a href=\"https://cdn.kernel.org/pub/linux/kernel/v4.x/linux-4.14.71.tar.sign\" title=\"Download PGP verification signature\">pgp</a>]  </td>\n",
    "            <td>[<a href=\"https://cdn.kernel.org/pub/linux/kernel/v4.x/patch-4.14.71.xz\" title=\"Download patch to previous mainline\">patch</a>] </td>\n",
    "            <td>[<a href=\"https://cdn.kernel.org/pub/linux/kernel/v4.x/incr/patch-4.14.70-71.xz\" title=\"Download incremental patch\">inc.&nbsp;patch</a>] </td>\n",
    "            <td>[<a href=\"https://git.kernel.org/stable/ds/v4.14.71/v4.14.70\" title=\"View diff in cgit\">view&nbsp;diff</a>] </td>\n",
    "            <td>[<a href=\"https://git.kernel.org/stable/h/v4.14.71\" title=\"Browse the git tree using cgit\">browse</a>]  </td>\n",
    "            <td>[<a href=\"https://cdn.kernel.org/pub/linux/kernel/v4.x/ChangeLog-4.14.71\" title=\"View detailed change logs\">changelog</a>] </td>\n",
    "        </table>\n",
    "    </article>\n",
    "</aside>\n",
    "        <section id=\"extras\" class=\"body\">\n",
    "                        <div class=\"blogroll\">\n",
    "                        <h2>Other resources</h2>\n",
    "                        <ul>\n",
    "                                                    <li><a href=\"https://git.kernel.org/\">Cgit</a></li>\n",
    "                                                    <li><a href=\"https://www.kernel.org/doc/html/latest/\">Documentation</a></li>\n",
    "                                                    <li><a href=\"https://www.wiki.kernel.org/\">Wikis</a></li>\n",
    "                                                    <li><a href=\"https://bugzilla.kernel.org/\">Bugzilla</a></li>\n",
    "                                                </ul>\n",
    "                </div><!-- /.blogroll -->\n",
    "                                <div class=\"social\">\n",
    "                        <h2>Social</h2>\n",
    "                        <ul>\n",
    "                            <li><a href=\"https://www.kernel.org/feeds/all.atom.xml\" type=\"application/atom+xml\" rel=\"alternate\">Site Atom feed</a></li>\n",
    "                                                        <li><a href=\"https://www.kernel.org/feeds/kdist.xml\" type=\"application/atom+xml\" rel=\"alternate\">Releases Atom Feed</a></li>\n",
    "\n",
    "                                                    <li><a href=\"http://planet.kernel.org/\">Kernel Planet</a></li>\n",
    "                                                </ul>\n",
    "                </div><!-- /.social -->\n",
    "                </section><!-- /#extras -->\n",
    "\n",
    "        <footer id=\"contentinfo\" class=\"body\">\n",
    "                <address id=\"about\" class=\"vcard body\">\n",
    "                    This site is operated by the Linux Kernel Organization, Inc., a <a href=\"./nonprofit.html\">501(c)3 nonprofit corporation</a>, with support from the following sponsors.\n",
    "                </address><!-- /#about -->\n",
    "\n",
    "                <address id=\"donors\">\n",
    "                  <a href=\"https://www.redhat.com/\"><img src=\"./theme/images/logos/redhat-logo.png\"\n",
    "                  alt=\"Red Hat\" height=\"36\" width=\"108\" /></a>\n",
    "                  &nbsp;\n",
    "                  <a href=\"https://www.packet.net/\"><img src=\"./theme/images/logos/packetnet.png\"\n",
    "                  alt=\"Packet\" height=\"36\" width=\"106\" /></a>\n",
    "                  &nbsp;\n",
    "                  <a href=\"https://www.fastly.com/\"><img src=\"./theme/images/logos/fastly-logo.png\"\n",
    "                  alt=\"Fastly\" width=\"91\" height=\"35\" /></a>\n",
    "                  &nbsp;\n",
    "                  <a href=\"https://www.google.com/\"><img src=\"./theme/images/logos/google.png\"\n",
    "                  alt=\"Google\" height=\"42\" width=\"128\" /></a>\n",
    "                  <br/>\n",
    "                  <a href=\"https://www.constellix.com/\"><img src=\"./theme/images/logos/constellix-green-logo.png\"\n",
    "                  alt=\"Constellix\" width=\"193\" height=\"21\" style=\"vertical-align: bottom; padding-bottom: 4px\" /></a>\n",
    "                  &nbsp;\n",
    "                  <a href=\"https://www.purestorage.com/\"><img src=\"./theme/images/logos/purestorage.png\"\n",
    "                  alt=\"PureStorage\" width=\"179\" height=\"45\" /></a>\n",
    "                  <br/>&nbsp;<br/>\n",
    "                  <a href=\"https://www.linuxfoundation.org/\"><img src=\"./theme/images/logos/thelinuxfoundation.png\"\n",
    "                  alt=\"The Linux Foundation\" width=\"137\" height=\"45\" /></a>\n",
    "                </address><!-- /#about -->\n",
    "        </footer><!-- /#contentinfo -->\n",
    "\n",
    "</body>\n",
    "</html>\n",
    "\"\"\""
   ]
  },
  {
   "cell_type": "markdown",
   "metadata": {},
   "source": [
    "## Uruchomienie parsera"
   ]
  },
  {
   "cell_type": "code",
   "execution_count": 2,
   "metadata": {},
   "outputs": [],
   "source": [
    "from bs4 import BeautifulSoup\n",
    "\n",
    "soup = BeautifulSoup(website, 'lxml')"
   ]
  },
  {
   "cell_type": "markdown",
   "metadata": {},
   "source": [
    "## Wyciąganie tagów"
   ]
  },
  {
   "cell_type": "code",
   "execution_count": 3,
   "metadata": {},
   "outputs": [
    {
     "name": "stdout",
     "output_type": "stream",
     "text": [
      "<head>\n",
      "<title>The Linux Kernel Archives</title>\n",
      "<meta charset=\"utf-8\"/>\n",
      "<link href=\"./theme/images/logos/favicon.png\" rel=\"icon\" type=\"image/png\"/>\n",
      "<link href=\"./theme/css/main.css\" rel=\"stylesheet\" type=\"text/css\"/>\n",
      "<link href=\"https://www.kernel.org/feeds/all.atom.xml\" rel=\"alternate\" title=\"The Linux Kernel Archives Atom Feed\" type=\"application/atom+xml\"/>\n",
      "<link href=\"https://www.kernel.org/feeds/kdist.xml\" rel=\"alternate\" title=\"Latest Linux Kernel Releases\" type=\"application/atom+xml\"/>\n",
      "<!--[if IE]>\n",
      "                <script src=\"https://html5shiv.googlecode.com/svn/trunk/html5.js\"></script><![endif]-->\n",
      "<!--[if lte IE 7]>\n",
      "                <link rel=\"stylesheet\" type=\"text/css\" media=\"all\" href=\"./css/ie.css\"/>\n",
      "                <script src=\"./js/IE8.js\" type=\"text/javascript\"></script><![endif]-->\n",
      "<!--[if lt IE 7]>\n",
      "                <link rel=\"stylesheet\" type=\"text/css\" media=\"all\" href=\"./css/ie6.css\"/><![endif]-->\n",
      "</head>\n"
     ]
    }
   ],
   "source": [
    "print(soup.head)"
   ]
  },
  {
   "cell_type": "code",
   "execution_count": 4,
   "metadata": {},
   "outputs": [
    {
     "name": "stdout",
     "output_type": "stream",
     "text": [
      "<title>The Linux Kernel Archives</title>\n"
     ]
    }
   ],
   "source": [
    "print(soup.head.title)"
   ]
  },
  {
   "cell_type": "code",
   "execution_count": 5,
   "metadata": {},
   "outputs": [
    {
     "name": "stdout",
     "output_type": "stream",
     "text": [
      "title\n",
      "The Linux Kernel Archives\n"
     ]
    }
   ],
   "source": [
    "print(soup.head.title.name)\n",
    "print(soup.head.title.text)"
   ]
  },
  {
   "cell_type": "markdown",
   "metadata": {},
   "source": [
    "## Wyciąganie atrybutów"
   ]
  },
  {
   "cell_type": "code",
   "execution_count": 6,
   "metadata": {},
   "outputs": [
    {
     "name": "stdout",
     "output_type": "stream",
     "text": [
      "index\n",
      "protocols\n"
     ]
    }
   ],
   "source": [
    "print(soup.body['id'])\n",
    "print(soup.body.table['id'])"
   ]
  },
  {
   "cell_type": "code",
   "execution_count": 7,
   "metadata": {},
   "outputs": [
    {
     "name": "stdout",
     "output_type": "stream",
     "text": [
      "{'id': 'index', 'class': ['home']}\n"
     ]
    }
   ],
   "source": [
    "print(soup.body.attrs)"
   ]
  },
  {
   "cell_type": "markdown",
   "metadata": {},
   "source": [
    "## Wyszukiwanie"
   ]
  },
  {
   "cell_type": "code",
   "execution_count": 8,
   "metadata": {},
   "outputs": [
    {
     "name": "stdout",
     "output_type": "stream",
     "text": [
      "[<table id=\"protocols\">\n",
      "<tr>\n",
      "<th>Protocol</th>\n",
      "<th>Location</th>\n",
      "</tr>\n",
      "<tr>\n",
      "<td><a href=\"https://www.ietf.org/rfc/rfc2616.txt\">HTTP</a></td>\n",
      "<td><a href=\"https://www.kernel.org/pub/\">https://www.kernel.org/pub/</a></td>\n",
      "</tr>\n",
      "<tr>\n",
      "<td><a href=\"https://git-scm.com/\">GIT</a></td>\n",
      "<td><a href=\"https://git.kernel.org/\">https://git.kernel.org/</a></td>\n",
      "</tr>\n",
      "<tr>\n",
      "<td><a href=\"https://rsync.samba.org/\">RSYNC</a></td>\n",
      "<td>rsync://rsync.kernel.org/pub/</td>\n",
      "</tr>\n",
      "</table>, <table id=\"latest\">\n",
      "<tr>\n",
      "<td colspan=\"2\" id=\"latest_label\">\n",
      "<strong>Latest Stable Kernel:</strong>\n",
      "</td>\n",
      "</tr>\n",
      "<tr>\n",
      "<td id=\"latest_button\">\n",
      "<a href=\"https://cdn.kernel.org/pub/linux/kernel/v4.x/linux-4.18.9.tar.xz\"><img alt=\"Download\" border=\"0\" height=\"48\" src=\"./theme/images/icons/downloadarrow_small.png\" width=\"48\"/></a>\n",
      "</td>\n",
      "<td id=\"latest_link\">\n",
      "<a href=\"https://cdn.kernel.org/pub/linux/kernel/v4.x/linux-4.18.9.tar.xz\">4.18.9</a>\n",
      "</td>\n",
      "</tr>\n",
      "</table>, <table id=\"releases\">\n",
      "<tr align=\"left\">\n",
      "<td>mainline:</td>\n",
      "<td><strong>4.19-rc4</strong></td>\n",
      "<td>2018-09-16</td>\n",
      "<td>[<a href=\"https://git.kernel.org/torvalds/t/linux-4.19-rc4.tar.gz\" title=\"Download complete tarball\">tarball</a>] </td>\n",
      "<td> </td>\n",
      "<td>[<a href=\"https://git.kernel.org/torvalds/p/v4.19-rc4/v4.18\" title=\"Download patch to previous mainline\">patch</a>] </td>\n",
      "<td>[<a href=\"https://git.kernel.org/torvalds/p/v4.19-rc4/v4.19-rc3\" title=\"Download incremental patch\">inc. patch</a>] </td>\n",
      "<td>[<a href=\"https://git.kernel.org/torvalds/ds/v4.19-rc4/v4.19-rc3\" title=\"View diff in cgit\">view diff</a>] </td>\n",
      "<td>[<a href=\"https://git.kernel.org/torvalds/h/v4.19-rc4\" title=\"Browse the git tree using cgit\">browse</a>]  </td>\n",
      "<td> </td>\n",
      "</tr>\n",
      "<tr align=\"left\">\n",
      "<td>stable:</td>\n",
      "<td><strong>4.18.9</strong></td>\n",
      "<td>2018-09-19</td>\n",
      "<td>[<a href=\"https://cdn.kernel.org/pub/linux/kernel/v4.x/linux-4.18.9.tar.xz\" title=\"Download complete tarball\">tarball</a>] </td>\n",
      "<td>[<a href=\"https://cdn.kernel.org/pub/linux/kernel/v4.x/linux-4.18.9.tar.sign\" title=\"Download PGP verification signature\">pgp</a>]  </td>\n",
      "<td>[<a href=\"https://cdn.kernel.org/pub/linux/kernel/v4.x/patch-4.18.9.xz\" title=\"Download patch to previous mainline\">patch</a>] </td>\n",
      "<td>[<a href=\"https://cdn.kernel.org/pub/linux/kernel/v4.x/incr/patch-4.18.8-9.xz\" title=\"Download incremental patch\">inc. patch</a>] </td>\n",
      "<td>[<a href=\"https://git.kernel.org/stable/ds/v4.18.9/v4.18.8\" title=\"View diff in cgit\">view diff</a>] </td>\n",
      "<td>[<a href=\"https://git.kernel.org/stable/h/v4.18.9\" title=\"Browse the git tree using cgit\">browse</a>]  </td>\n",
      "<td>[<a href=\"https://cdn.kernel.org/pub/linux/kernel/v4.x/ChangeLog-4.18.9\" title=\"View detailed change logs\">changelog</a>] </td>\n",
      "</tr>\n",
      "<tr align=\"left\">\n",
      "<td>stable:</td>\n",
      "<td><strong>4.17.19 <span class=\"eolkernel\" title=\"This release is End-of-Life\">[EOL]</span></strong></td>\n",
      "<td>2018-08-24</td>\n",
      "<td>[<a href=\"https://cdn.kernel.org/pub/linux/kernel/v4.x/linux-4.17.19.tar.xz\" title=\"Download complete tarball\">tarball</a>] </td>\n",
      "<td>[<a href=\"https://cdn.kernel.org/pub/linux/kernel/v4.x/linux-4.17.19.tar.sign\" title=\"Download PGP verification signature\">pgp</a>]  </td>\n",
      "<td>[<a href=\"https://cdn.kernel.org/pub/linux/kernel/v4.x/patch-4.17.19.xz\" title=\"Download patch to previous mainline\">patch</a>] </td>\n",
      "<td>[<a href=\"https://cdn.kernel.org/pub/linux/kernel/v4.x/incr/patch-4.17.18-19.xz\" title=\"Download incremental patch\">inc. patch</a>] </td>\n",
      "<td>[<a href=\"https://git.kernel.org/stable/ds/v4.17.19/v4.17.18\" title=\"View diff in cgit\">view diff</a>] </td>\n",
      "<td>[<a href=\"https://git.kernel.org/stable/h/v4.17.19\" title=\"Browse the git tree using cgit\">browse</a>]  </td>\n",
      "<td>[<a href=\"https://cdn.kernel.org/pub/linux/kernel/v4.x/ChangeLog-4.17.19\" title=\"View detailed change logs\">changelog</a>] </td>\n",
      "</tr>\n",
      "<tr align=\"left\">\n",
      "<td>longterm:</td>\n",
      "<td><strong>4.14.71</strong></td>\n",
      "<td>2018-09-19</td>\n",
      "<td>[<a href=\"https://cdn.kernel.org/pub/linux/kernel/v4.x/linux-4.14.71.tar.xz\" title=\"Download complete tarball\">tarball</a>] </td>\n",
      "<td>[<a href=\"https://cdn.kernel.org/pub/linux/kernel/v4.x/linux-4.14.71.tar.sign\" title=\"Download PGP verification signature\">pgp</a>]  </td>\n",
      "<td>[<a href=\"https://cdn.kernel.org/pub/linux/kernel/v4.x/patch-4.14.71.xz\" title=\"Download patch to previous mainline\">patch</a>] </td>\n",
      "<td>[<a href=\"https://cdn.kernel.org/pub/linux/kernel/v4.x/incr/patch-4.14.70-71.xz\" title=\"Download incremental patch\">inc. patch</a>] </td>\n",
      "<td>[<a href=\"https://git.kernel.org/stable/ds/v4.14.71/v4.14.70\" title=\"View diff in cgit\">view diff</a>] </td>\n",
      "<td>[<a href=\"https://git.kernel.org/stable/h/v4.14.71\" title=\"Browse the git tree using cgit\">browse</a>]  </td>\n",
      "<td>[<a href=\"https://cdn.kernel.org/pub/linux/kernel/v4.x/ChangeLog-4.14.71\" title=\"View detailed change logs\">changelog</a>] </td>\n",
      "</tr></table>]\n",
      "3\n",
      "[<table id=\"protocols\">\n",
      "<tr>\n",
      "<th>Protocol</th>\n",
      "<th>Location</th>\n",
      "</tr>\n",
      "<tr>\n",
      "<td><a href=\"https://www.ietf.org/rfc/rfc2616.txt\">HTTP</a></td>\n",
      "<td><a href=\"https://www.kernel.org/pub/\">https://www.kernel.org/pub/</a></td>\n",
      "</tr>\n",
      "<tr>\n",
      "<td><a href=\"https://git-scm.com/\">GIT</a></td>\n",
      "<td><a href=\"https://git.kernel.org/\">https://git.kernel.org/</a></td>\n",
      "</tr>\n",
      "<tr>\n",
      "<td><a href=\"https://rsync.samba.org/\">RSYNC</a></td>\n",
      "<td>rsync://rsync.kernel.org/pub/</td>\n",
      "</tr>\n",
      "</table>]\n",
      "1\n"
     ]
    }
   ],
   "source": [
    "print(soup.body.find_all('table'))\n",
    "print(len(soup.body.find_all('table')))\n",
    "print(soup.find_all(id='protocols'))\n",
    "print(len(soup.find_all(id='protocols')))"
   ]
  },
  {
   "cell_type": "code",
   "execution_count": null,
   "metadata": {},
   "outputs": [],
   "source": [
    "import re\n",
    "\n",
    "def is_cdn(url):\n",
    "    if url:\n",
    "        return url.startswith('https://cdn.')\n",
    "    return False\n",
    "\n",
    "\n",
    "\n",
    "soup.find_all(href=lambda url: url and re.compile(r'git\\.').search(url))\n",
    "\n",
    "soup.find_all(href=is_cdn)"
   ]
  },
  {
   "cell_type": "markdown",
   "metadata": {},
   "source": [
    "## Przechodzenie po drzewie DOM"
   ]
  },
  {
   "cell_type": "code",
   "execution_count": null,
   "metadata": {},
   "outputs": [],
   "source": [
    "tag = soup.find_all('table')[0]\n",
    "print(type(tag.contents))\n",
    "tag.contents"
   ]
  },
  {
   "cell_type": "code",
   "execution_count": null,
   "metadata": {},
   "outputs": [],
   "source": [
    "tag = soup.find_all('table')[0]\n",
    "print(type(tag.children))\n",
    "\n",
    "for child in tag.children:\n",
    "    print(child)"
   ]
  },
  {
   "cell_type": "code",
   "execution_count": null,
   "metadata": {},
   "outputs": [],
   "source": [
    "tag = soup.find_all('table')[0]\n",
    "print(tag.parent)"
   ]
  },
  {
   "cell_type": "markdown",
   "metadata": {},
   "source": [
    "## CSS Selectors"
   ]
  },
  {
   "cell_type": "markdown",
   "metadata": {},
   "source": [
    "### Wybieranie taga"
   ]
  },
  {
   "cell_type": "code",
   "execution_count": null,
   "metadata": {},
   "outputs": [],
   "source": [
    "soup.select(\"title\")[0]"
   ]
  },
  {
   "cell_type": "code",
   "execution_count": null,
   "metadata": {},
   "outputs": [],
   "source": [
    "soup.select(\"table:nth-of-type(3)\")"
   ]
  },
  {
   "cell_type": "markdown",
   "metadata": {},
   "source": [
    "### Wybieranie tagów wewnątrz innych"
   ]
  },
  {
   "cell_type": "code",
   "execution_count": null,
   "metadata": {},
   "outputs": [],
   "source": [
    "soup.select(\"table tr td\")"
   ]
  },
  {
   "cell_type": "markdown",
   "metadata": {},
   "source": [
    "### Wybieranie tagów będących bezpośrednimi dziećmi innych."
   ]
  },
  {
   "cell_type": "code",
   "execution_count": null,
   "metadata": {},
   "outputs": [],
   "source": [
    "soup.select(\"table > tr > td\")"
   ]
  },
  {
   "cell_type": "markdown",
   "metadata": {},
   "source": [
    "### Wybór \"rodzeństwa\" tagów"
   ]
  },
  {
   "cell_type": "code",
   "execution_count": null,
   "metadata": {},
   "outputs": [],
   "source": [
    "soup.select(\"#protocols ~ table\")"
   ]
  },
  {
   "cell_type": "code",
   "execution_count": null,
   "metadata": {},
   "outputs": [],
   "source": [
    "soup.select(\"#protocols + table\")"
   ]
  },
  {
   "cell_type": "markdown",
   "metadata": {},
   "source": [
    "### Wybór wg. id i class"
   ]
  },
  {
   "cell_type": "code",
   "execution_count": null,
   "metadata": {},
   "outputs": [],
   "source": [
    "soup.select('#about')"
   ]
  },
  {
   "cell_type": "code",
   "execution_count": null,
   "metadata": {},
   "outputs": [],
   "source": [
    "soup.select('.body')"
   ]
  },
  {
   "cell_type": "markdown",
   "metadata": {},
   "source": [
    "# JSON"
   ]
  },
  {
   "cell_type": "code",
   "execution_count": null,
   "metadata": {},
   "outputs": [],
   "source": [
    "import json\n",
    "\n",
    "print(soup.body.attrs)\n",
    "\n",
    "json_string = json.dumps(soup.body.attrs)\n",
    "\n",
    "print(json_string)\n"
   ]
  },
  {
   "cell_type": "code",
   "execution_count": null,
   "metadata": {},
   "outputs": [],
   "source": [
    "json_dict = json.loads(json_string)\n",
    "print(json_dict)"
   ]
  },
  {
   "cell_type": "markdown",
   "metadata": {},
   "source": [
    "# Zadanie 1\n",
    "\n",
    "Należy wydobyć dane ze strony http://otomoto.pl. \n",
    "1. Wejść w przeglądarce na stronę otomoto.pl i wyświetlić stronę z ogłozeniami sprzedaży używanych samochodów osobowych z Warszawy. Skopiować odpowiedni URL.\n",
    "\n",
    "2. Napisać skrypt z użyciem BeautifulSoup wydobywający ze strony następujące dane n.t. samochodów:\n",
    "\n",
    "    - Marka oraz model (z nagłówka ogłoszenia)\n",
    "    - Rok produkcji\n",
    "    - Przebieg\n",
    "    - Rodzaj paliwa\n",
    "    - Cena\n",
    "\n",
    "3. Zapisać wydobyte dane w pliku CSV na dysku komputera.\n",
    "\n",
    "4. Rozszerzyć działanie programu na wydobywanie danych z n kolejnych podstron."
   ]
  },
  {
   "cell_type": "code",
   "execution_count": 9,
   "metadata": {},
   "outputs": [],
   "source": [
    "import requests\n",
    "url = 'https://www.otomoto.pl/osobowe/warszawa/?search%5Bbrand_program_id%5D%5B0%5D=&search%5Bdist%5D=5&search%5Bcountry%5D='\n",
    "html = requests.get(url).text\n",
    "otomoto = BeautifulSoup(html, 'lxml')"
   ]
  },
  {
   "cell_type": "code",
   "execution_count": 10,
   "metadata": {},
   "outputs": [],
   "source": [
    "import requests\n",
    "import numpy as np\n",
    "import pandas as pd\n"
   ]
  },
  {
   "cell_type": "code",
   "execution_count": 103,
   "metadata": {},
   "outputs": [],
   "source": [
    "from selenium import webdriver\n",
    "from selenium.webdriver.common.by import By\n",
    "from selenium.webdriver.support.ui import WebDriverWait\n",
    "from selenium.webdriver.support import expected_conditions as EC"
   ]
  },
  {
   "cell_type": "code",
   "execution_count": 87,
   "metadata": {
    "collapsed": true
   },
   "outputs": [
    {
     "data": {
      "text/plain": [
       "[['Toyota Auris II', '2016', '91 567 km', 'Benzyna', '49 500'],\n",
       " ['Renault Twingo III', '2018', '7 900 km', 'Benzyna', '29 000'],\n",
       " ['Peugeot 308 T9', '2015', '157 000 km', 'Diesel', '29 900'],\n",
       " ['Volvo XC 60 I', '2010', '499 000 km', 'Diesel', '35 600'],\n",
       " ['BMW X1 F48', '2019', '5 000 km', 'Diesel', '149 900'],\n",
       " ['Volkswagen Golf Sportsvan', '2016', '80 485 km', 'Benzyna', '67 900'],\n",
       " ['BMW M2', '2019', '1 800 km', 'Benzyna', '284 900'],\n",
       " ['BMW 6GT', '2019', '20 000 km', 'Diesel', '229 900'],\n",
       " ['BMW Seria 5 G30/G31', '2019', '6 500 km', 'Benzyna', '399 900'],\n",
       " ['Ford Mondeo Mk5', '2018', '19 476 km', 'Diesel', '86 900'],\n",
       " ['BMW Seria 5 G30/G31', '2019', '3 800 km', 'Diesel', '242 900'],\n",
       " ['Volkswagen Caravelle', '2019', '1 km', 'Diesel', '158 165'],\n",
       " ['Volkswagen Amarok', '2019', '1 km', 'Diesel', '211 916'],\n",
       " ['BMW Seria 5 G30/G31', '2019', '6 300 km', 'Benzyna', '245 900'],\n",
       " ['Ford Fiesta Mk8', '2019', '5 km', 'Benzyna', '67 900'],\n",
       " ['Renault Captur', '2014', '71 337 km', 'Benzyna', '39 900'],\n",
       " ['Seat Arona', '2019', '5 km', 'Benzyna', '80 400'],\n",
       " ['Seat Arona', '2019', '5 km', 'Benzyna', '83 700'],\n",
       " ['Seat Ibiza V', '2019', '5 km', 'Benzyna', '74 990'],\n",
       " ['Seat Arona', '2019', '5 km', 'Benzyna', '90 600'],\n",
       " ['Seat Tarraco', '2019', '5 km', 'Benzyna', '152 500'],\n",
       " ['Seat Leon III', '2019', '5 km', 'Benzyna', '67 500'],\n",
       " ['Seat Leon III', '2019', '5 km', 'Benzyna', '78 900'],\n",
       " ['Seat Leon III', '2019', '5 km', 'Benzyna', '82 500'],\n",
       " ['Seat Leon III', '2019', '5 km', 'Benzyna', '78 500'],\n",
       " ['Seat Leon III', '2019', '5 km', 'Benzyna', '73 700'],\n",
       " ['Seat Leon III', '2019', '5 km', 'Benzyna', '67 900'],\n",
       " ['Seat Leon III', '2019', '5 km', 'Benzyna', '85 990'],\n",
       " ['Audi A1', '2019', '5 km', 'Benzyna', '124 924'],\n",
       " ['Audi A7 C8', '2019', '5 km', 'Diesel', '521 881'],\n",
       " ['Audi Q8', '2019', '5 km', 'Diesel', '435 216'],\n",
       " ['Audi', '2019', '5 km', 'Elektryczny', '467 080']]"
      ]
     },
     "execution_count": 87,
     "metadata": {},
     "output_type": "execute_result"
    }
   ],
   "source": [
    "auta = otomoto.body.findAll(\"div\", attrs={\"class\": \"offer-item__content ds-details-container\"})\n",
    "ogloszenia =[[a.find(\"a\").attrs['title'],\\\n",
    "              a.find('li', attrs={'class':\"ds-param\", 'data-code':\"year\"}).span.text[:-1],\\\n",
    "              a.find('li', attrs={'class':\"ds-param\", 'data-code':\"mileage\"}).span.text,\\\n",
    "              a.find('li', attrs={'class':\"ds-param\", 'data-code':\"fuel_type\"}).span.text,\\\n",
    "              a.find('span', attrs={'class':\"offer-price__number ds-price-number\"}).span.text] for a in auta]\n",
    "ogloszenia"
   ]
  },
  {
   "cell_type": "code",
   "execution_count": 104,
   "metadata": {},
   "outputs": [],
   "source": [
    "otomoto_list = []\n",
    "url_list = []\n",
    "for a in auta:\n",
    "    url = a.find('a', attrs = {'class':\"offer-title__link\"}).attrs['href']\n",
    "    url_list.append(url)\n",
    "    html = requests.get(url).text\n",
    "    otomoto_list.append(BeautifulSoup(html, 'lxml'))"
   ]
  },
  {
   "cell_type": "code",
   "execution_count": 124,
   "metadata": {
    "scrolled": true
   },
   "outputs": [],
   "source": [
    "page_list = []\n",
    "with webdriver.Firefox(executable_path='/home/kodolamacz/geckodriver') as driver:\n",
    "    for url in url_list[:4]:\n",
    "        site = driver.get(url)\n",
    "        wait = WebDriverWait(driver, 30)\n",
    "        if url == url_list[0]:\n",
    "            cookie = driver.find_element_by_css_selector('.agree-button')\n",
    "            cookie.click()\n",
    "        wait.until(EC.presence_of_element_located((By.CSS_SELECTOR, '.css-4lku6l')))\n",
    "        el = driver.find_element_by_css_selector('.css-4lku6l')\n",
    "        el.click()\n",
    "        wait.until(EC.presence_of_element_located((By.CSS_SELECTOR, 'div.css-13d41y2:nth-child(1)')))\n",
    "        page_list.append(driver.page_source)"
   ]
  },
  {
   "cell_type": "code",
   "execution_count": 88,
   "metadata": {
    "collapsed": true
   },
   "outputs": [
    {
     "data": {
      "text/plain": [
       "[['Renault Twingo III',\n",
       "  '2018',\n",
       "  '7 900 km',\n",
       "  'Benzyna',\n",
       "  '29 000',\n",
       "  'Na tylne koła',\n",
       "  'Manualna',\n",
       "  'Benzyna'],\n",
       " ['Peugeot 308 T9',\n",
       "  '2015',\n",
       "  '157 000 km',\n",
       "  'Diesel',\n",
       "  '29 900',\n",
       "  '100 KM',\n",
       "  'Diesel',\n",
       "  'VF3LBBHYBFS279898']]"
      ]
     },
     "execution_count": 88,
     "metadata": {},
     "output_type": "execute_result"
    }
   ],
   "source": [
    "for i, ogloszenie in enumerate(ogloszenia):\n",
    "    ogloszenie.append(otomoto_list[i].body.findAll(\"li\", attrs = {'class':\"offer-params__item\"})[10].div.text.strip())\n",
    "    ogloszenie.append(otomoto_list[i].body.findAll(\"li\", attrs = {'class':\"offer-params__item\"})[9].div.text.strip())\n",
    "    ogloszenie.append(otomoto_list[i].body.findAll(\"li\", attrs = {'class':\"offer-params__item\"})[8].div.text.strip())\n",
    "#.findAll('div', attrs={'class':\"parametersArea\"})[0]\\"
   ]
  },
  {
   "cell_type": "code",
   "execution_count": 142,
   "metadata": {},
   "outputs": [
    {
     "data": {
      "text/plain": [
       "['695634920', '793665184', '607555118', '693654701']"
      ]
     },
     "execution_count": 142,
     "metadata": {},
     "output_type": "execute_result"
    }
   ],
   "source": [
    "oto = [BeautifulSoup(page, 'lxml') for page in page_list]\n",
    "[a.find('span', attrs={'class':'css-ynbl8e'}).text for a in oto]"
   ]
  },
  {
   "cell_type": "code",
   "execution_count": 51,
   "metadata": {
    "scrolled": false
   },
   "outputs": [
    {
     "data": {
      "text/html": [
       "<div>\n",
       "<style scoped>\n",
       "    .dataframe tbody tr th:only-of-type {\n",
       "        vertical-align: middle;\n",
       "    }\n",
       "\n",
       "    .dataframe tbody tr th {\n",
       "        vertical-align: top;\n",
       "    }\n",
       "\n",
       "    .dataframe thead th {\n",
       "        text-align: right;\n",
       "    }\n",
       "</style>\n",
       "<table border=\"1\" class=\"dataframe\">\n",
       "  <thead>\n",
       "    <tr style=\"text-align: right;\">\n",
       "      <th></th>\n",
       "      <th>Marka oraz model</th>\n",
       "      <th>Rok produkcji</th>\n",
       "      <th>Przebieg</th>\n",
       "      <th>Rodzaj paliwa</th>\n",
       "      <th>Cena</th>\n",
       "    </tr>\n",
       "  </thead>\n",
       "  <tbody>\n",
       "    <tr>\n",
       "      <th>0</th>\n",
       "      <td>Toyota Auris II</td>\n",
       "      <td>2016</td>\n",
       "      <td>91 567 km</td>\n",
       "      <td>Benzyna</td>\n",
       "      <td>49 500</td>\n",
       "    </tr>\n",
       "    <tr>\n",
       "      <th>1</th>\n",
       "      <td>Renault Twingo III</td>\n",
       "      <td>2018</td>\n",
       "      <td>7 900 km</td>\n",
       "      <td>Benzyna</td>\n",
       "      <td>29 000</td>\n",
       "    </tr>\n",
       "    <tr>\n",
       "      <th>2</th>\n",
       "      <td>Peugeot 308 T9</td>\n",
       "      <td>2015</td>\n",
       "      <td>157 000 km</td>\n",
       "      <td>Diesel</td>\n",
       "      <td>29 900</td>\n",
       "    </tr>\n",
       "    <tr>\n",
       "      <th>3</th>\n",
       "      <td>Volvo XC 60 I</td>\n",
       "      <td>2010</td>\n",
       "      <td>499 000 km</td>\n",
       "      <td>Diesel</td>\n",
       "      <td>35 600</td>\n",
       "    </tr>\n",
       "    <tr>\n",
       "      <th>4</th>\n",
       "      <td>BMW X1 F48</td>\n",
       "      <td>2019</td>\n",
       "      <td>5 000 km</td>\n",
       "      <td>Diesel</td>\n",
       "      <td>149 900</td>\n",
       "    </tr>\n",
       "    <tr>\n",
       "      <th>5</th>\n",
       "      <td>Volkswagen Golf Sportsvan</td>\n",
       "      <td>2016</td>\n",
       "      <td>80 485 km</td>\n",
       "      <td>Benzyna</td>\n",
       "      <td>67 900</td>\n",
       "    </tr>\n",
       "    <tr>\n",
       "      <th>6</th>\n",
       "      <td>BMW M2</td>\n",
       "      <td>2019</td>\n",
       "      <td>1 800 km</td>\n",
       "      <td>Benzyna</td>\n",
       "      <td>284 900</td>\n",
       "    </tr>\n",
       "    <tr>\n",
       "      <th>7</th>\n",
       "      <td>BMW 6GT</td>\n",
       "      <td>2019</td>\n",
       "      <td>20 000 km</td>\n",
       "      <td>Diesel</td>\n",
       "      <td>229 900</td>\n",
       "    </tr>\n",
       "    <tr>\n",
       "      <th>8</th>\n",
       "      <td>BMW Seria 5 G30/G31</td>\n",
       "      <td>2019</td>\n",
       "      <td>6 500 km</td>\n",
       "      <td>Benzyna</td>\n",
       "      <td>399 900</td>\n",
       "    </tr>\n",
       "    <tr>\n",
       "      <th>9</th>\n",
       "      <td>Ford Mondeo Mk5</td>\n",
       "      <td>2018</td>\n",
       "      <td>19 476 km</td>\n",
       "      <td>Diesel</td>\n",
       "      <td>86 900</td>\n",
       "    </tr>\n",
       "    <tr>\n",
       "      <th>10</th>\n",
       "      <td>BMW Seria 5 G30/G31</td>\n",
       "      <td>2019</td>\n",
       "      <td>3 800 km</td>\n",
       "      <td>Diesel</td>\n",
       "      <td>242 900</td>\n",
       "    </tr>\n",
       "    <tr>\n",
       "      <th>11</th>\n",
       "      <td>Volkswagen Caravelle</td>\n",
       "      <td>2019</td>\n",
       "      <td>1 km</td>\n",
       "      <td>Diesel</td>\n",
       "      <td>158 165</td>\n",
       "    </tr>\n",
       "    <tr>\n",
       "      <th>12</th>\n",
       "      <td>Volkswagen Amarok</td>\n",
       "      <td>2019</td>\n",
       "      <td>1 km</td>\n",
       "      <td>Diesel</td>\n",
       "      <td>211 916</td>\n",
       "    </tr>\n",
       "    <tr>\n",
       "      <th>13</th>\n",
       "      <td>BMW Seria 5 G30/G31</td>\n",
       "      <td>2019</td>\n",
       "      <td>6 300 km</td>\n",
       "      <td>Benzyna</td>\n",
       "      <td>245 900</td>\n",
       "    </tr>\n",
       "    <tr>\n",
       "      <th>14</th>\n",
       "      <td>Ford Fiesta Mk8</td>\n",
       "      <td>2019</td>\n",
       "      <td>5 km</td>\n",
       "      <td>Benzyna</td>\n",
       "      <td>67 900</td>\n",
       "    </tr>\n",
       "    <tr>\n",
       "      <th>15</th>\n",
       "      <td>Renault Captur</td>\n",
       "      <td>2014</td>\n",
       "      <td>71 337 km</td>\n",
       "      <td>Benzyna</td>\n",
       "      <td>39 900</td>\n",
       "    </tr>\n",
       "    <tr>\n",
       "      <th>16</th>\n",
       "      <td>Seat Arona</td>\n",
       "      <td>2019</td>\n",
       "      <td>5 km</td>\n",
       "      <td>Benzyna</td>\n",
       "      <td>80 400</td>\n",
       "    </tr>\n",
       "    <tr>\n",
       "      <th>17</th>\n",
       "      <td>Seat Arona</td>\n",
       "      <td>2019</td>\n",
       "      <td>5 km</td>\n",
       "      <td>Benzyna</td>\n",
       "      <td>83 700</td>\n",
       "    </tr>\n",
       "    <tr>\n",
       "      <th>18</th>\n",
       "      <td>Seat Ibiza V</td>\n",
       "      <td>2019</td>\n",
       "      <td>5 km</td>\n",
       "      <td>Benzyna</td>\n",
       "      <td>74 990</td>\n",
       "    </tr>\n",
       "    <tr>\n",
       "      <th>19</th>\n",
       "      <td>Seat Arona</td>\n",
       "      <td>2019</td>\n",
       "      <td>5 km</td>\n",
       "      <td>Benzyna</td>\n",
       "      <td>90 600</td>\n",
       "    </tr>\n",
       "    <tr>\n",
       "      <th>20</th>\n",
       "      <td>Seat Tarraco</td>\n",
       "      <td>2019</td>\n",
       "      <td>5 km</td>\n",
       "      <td>Benzyna</td>\n",
       "      <td>152 500</td>\n",
       "    </tr>\n",
       "    <tr>\n",
       "      <th>21</th>\n",
       "      <td>Seat Leon III</td>\n",
       "      <td>2019</td>\n",
       "      <td>5 km</td>\n",
       "      <td>Benzyna</td>\n",
       "      <td>67 500</td>\n",
       "    </tr>\n",
       "    <tr>\n",
       "      <th>22</th>\n",
       "      <td>Seat Leon III</td>\n",
       "      <td>2019</td>\n",
       "      <td>5 km</td>\n",
       "      <td>Benzyna</td>\n",
       "      <td>78 900</td>\n",
       "    </tr>\n",
       "    <tr>\n",
       "      <th>23</th>\n",
       "      <td>Seat Leon III</td>\n",
       "      <td>2019</td>\n",
       "      <td>5 km</td>\n",
       "      <td>Benzyna</td>\n",
       "      <td>82 500</td>\n",
       "    </tr>\n",
       "    <tr>\n",
       "      <th>24</th>\n",
       "      <td>Seat Leon III</td>\n",
       "      <td>2019</td>\n",
       "      <td>5 km</td>\n",
       "      <td>Benzyna</td>\n",
       "      <td>78 500</td>\n",
       "    </tr>\n",
       "    <tr>\n",
       "      <th>25</th>\n",
       "      <td>Seat Leon III</td>\n",
       "      <td>2019</td>\n",
       "      <td>5 km</td>\n",
       "      <td>Benzyna</td>\n",
       "      <td>73 700</td>\n",
       "    </tr>\n",
       "    <tr>\n",
       "      <th>26</th>\n",
       "      <td>Seat Leon III</td>\n",
       "      <td>2019</td>\n",
       "      <td>5 km</td>\n",
       "      <td>Benzyna</td>\n",
       "      <td>67 900</td>\n",
       "    </tr>\n",
       "    <tr>\n",
       "      <th>27</th>\n",
       "      <td>Seat Leon III</td>\n",
       "      <td>2019</td>\n",
       "      <td>5 km</td>\n",
       "      <td>Benzyna</td>\n",
       "      <td>85 990</td>\n",
       "    </tr>\n",
       "    <tr>\n",
       "      <th>28</th>\n",
       "      <td>Audi A1</td>\n",
       "      <td>2019</td>\n",
       "      <td>5 km</td>\n",
       "      <td>Benzyna</td>\n",
       "      <td>124 924</td>\n",
       "    </tr>\n",
       "    <tr>\n",
       "      <th>29</th>\n",
       "      <td>Audi A7 C8</td>\n",
       "      <td>2019</td>\n",
       "      <td>5 km</td>\n",
       "      <td>Diesel</td>\n",
       "      <td>521 881</td>\n",
       "    </tr>\n",
       "    <tr>\n",
       "      <th>30</th>\n",
       "      <td>Audi Q8</td>\n",
       "      <td>2019</td>\n",
       "      <td>5 km</td>\n",
       "      <td>Diesel</td>\n",
       "      <td>435 216</td>\n",
       "    </tr>\n",
       "    <tr>\n",
       "      <th>31</th>\n",
       "      <td>Audi</td>\n",
       "      <td>2019</td>\n",
       "      <td>5 km</td>\n",
       "      <td>Elektryczny</td>\n",
       "      <td>467 080</td>\n",
       "    </tr>\n",
       "  </tbody>\n",
       "</table>\n",
       "</div>"
      ],
      "text/plain": [
       "             Marka oraz model Rok produkcji    Przebieg Rodzaj paliwa     Cena\n",
       "0             Toyota Auris II          2016   91 567 km       Benzyna   49 500\n",
       "1          Renault Twingo III          2018    7 900 km       Benzyna   29 000\n",
       "2              Peugeot 308 T9          2015  157 000 km        Diesel   29 900\n",
       "3               Volvo XC 60 I          2010  499 000 km        Diesel   35 600\n",
       "4                  BMW X1 F48          2019    5 000 km        Diesel  149 900\n",
       "5   Volkswagen Golf Sportsvan          2016   80 485 km       Benzyna   67 900\n",
       "6                      BMW M2          2019    1 800 km       Benzyna  284 900\n",
       "7                     BMW 6GT          2019   20 000 km        Diesel  229 900\n",
       "8         BMW Seria 5 G30/G31          2019    6 500 km       Benzyna  399 900\n",
       "9             Ford Mondeo Mk5          2018   19 476 km        Diesel   86 900\n",
       "10        BMW Seria 5 G30/G31          2019    3 800 km        Diesel  242 900\n",
       "11       Volkswagen Caravelle          2019        1 km        Diesel  158 165\n",
       "12          Volkswagen Amarok          2019        1 km        Diesel  211 916\n",
       "13        BMW Seria 5 G30/G31          2019    6 300 km       Benzyna  245 900\n",
       "14            Ford Fiesta Mk8          2019        5 km       Benzyna   67 900\n",
       "15             Renault Captur          2014   71 337 km       Benzyna   39 900\n",
       "16                 Seat Arona          2019        5 km       Benzyna   80 400\n",
       "17                 Seat Arona          2019        5 km       Benzyna   83 700\n",
       "18               Seat Ibiza V          2019        5 km       Benzyna   74 990\n",
       "19                 Seat Arona          2019        5 km       Benzyna   90 600\n",
       "20               Seat Tarraco          2019        5 km       Benzyna  152 500\n",
       "21              Seat Leon III          2019        5 km       Benzyna   67 500\n",
       "22              Seat Leon III          2019        5 km       Benzyna   78 900\n",
       "23              Seat Leon III          2019        5 km       Benzyna   82 500\n",
       "24              Seat Leon III          2019        5 km       Benzyna   78 500\n",
       "25              Seat Leon III          2019        5 km       Benzyna   73 700\n",
       "26              Seat Leon III          2019        5 km       Benzyna   67 900\n",
       "27              Seat Leon III          2019        5 km       Benzyna   85 990\n",
       "28                    Audi A1          2019        5 km       Benzyna  124 924\n",
       "29                 Audi A7 C8          2019        5 km        Diesel  521 881\n",
       "30                    Audi Q8          2019        5 km        Diesel  435 216\n",
       "31                       Audi          2019        5 km   Elektryczny  467 080"
      ]
     },
     "execution_count": 51,
     "metadata": {},
     "output_type": "execute_result"
    }
   ],
   "source": [
    "df = pd.DataFrame(ogloszenia, columns=['Marka oraz model','Rok produkcji','Przebieg','Rodzaj paliwa','Cena'])\n",
    "df"
   ]
  },
  {
   "cell_type": "code",
   "execution_count": 54,
   "metadata": {
    "scrolled": true
   },
   "outputs": [
    {
     "data": {
      "text/html": [
       "<div>\n",
       "<style scoped>\n",
       "    .dataframe tbody tr th:only-of-type {\n",
       "        vertical-align: middle;\n",
       "    }\n",
       "\n",
       "    .dataframe tbody tr th {\n",
       "        vertical-align: top;\n",
       "    }\n",
       "\n",
       "    .dataframe thead th {\n",
       "        text-align: right;\n",
       "    }\n",
       "</style>\n",
       "<table border=\"1\" class=\"dataframe\">\n",
       "  <thead>\n",
       "    <tr style=\"text-align: right;\">\n",
       "      <th></th>\n",
       "      <th></th>\n",
       "      <th></th>\n",
       "      <th>Marka oraz model</th>\n",
       "      <th>Cena</th>\n",
       "    </tr>\n",
       "    <tr>\n",
       "      <th>Rok produkcji</th>\n",
       "      <th>Rodzaj paliwa</th>\n",
       "      <th>Przebieg</th>\n",
       "      <th></th>\n",
       "      <th></th>\n",
       "    </tr>\n",
       "  </thead>\n",
       "  <tbody>\n",
       "    <tr>\n",
       "      <th>2010</th>\n",
       "      <th>Diesel</th>\n",
       "      <th>499 000 km</th>\n",
       "      <td>1</td>\n",
       "      <td>1</td>\n",
       "    </tr>\n",
       "    <tr>\n",
       "      <th>2014</th>\n",
       "      <th>Benzyna</th>\n",
       "      <th>71 337 km</th>\n",
       "      <td>1</td>\n",
       "      <td>1</td>\n",
       "    </tr>\n",
       "    <tr>\n",
       "      <th>2015</th>\n",
       "      <th>Diesel</th>\n",
       "      <th>157 000 km</th>\n",
       "      <td>1</td>\n",
       "      <td>1</td>\n",
       "    </tr>\n",
       "    <tr>\n",
       "      <th rowspan=\"2\" valign=\"top\">2016</th>\n",
       "      <th rowspan=\"2\" valign=\"top\">Benzyna</th>\n",
       "      <th>80 485 km</th>\n",
       "      <td>1</td>\n",
       "      <td>1</td>\n",
       "    </tr>\n",
       "    <tr>\n",
       "      <th>91 567 km</th>\n",
       "      <td>1</td>\n",
       "      <td>1</td>\n",
       "    </tr>\n",
       "    <tr>\n",
       "      <th rowspan=\"2\" valign=\"top\">2018</th>\n",
       "      <th>Benzyna</th>\n",
       "      <th>7 900 km</th>\n",
       "      <td>1</td>\n",
       "      <td>1</td>\n",
       "    </tr>\n",
       "    <tr>\n",
       "      <th>Diesel</th>\n",
       "      <th>19 476 km</th>\n",
       "      <td>1</td>\n",
       "      <td>1</td>\n",
       "    </tr>\n",
       "    <tr>\n",
       "      <th rowspan=\"10\" valign=\"top\">2019</th>\n",
       "      <th rowspan=\"4\" valign=\"top\">Benzyna</th>\n",
       "      <th>1 800 km</th>\n",
       "      <td>1</td>\n",
       "      <td>1</td>\n",
       "    </tr>\n",
       "    <tr>\n",
       "      <th>5 km</th>\n",
       "      <td>14</td>\n",
       "      <td>14</td>\n",
       "    </tr>\n",
       "    <tr>\n",
       "      <th>6 300 km</th>\n",
       "      <td>1</td>\n",
       "      <td>1</td>\n",
       "    </tr>\n",
       "    <tr>\n",
       "      <th>6 500 km</th>\n",
       "      <td>1</td>\n",
       "      <td>1</td>\n",
       "    </tr>\n",
       "    <tr>\n",
       "      <th rowspan=\"5\" valign=\"top\">Diesel</th>\n",
       "      <th>1 km</th>\n",
       "      <td>2</td>\n",
       "      <td>2</td>\n",
       "    </tr>\n",
       "    <tr>\n",
       "      <th>20 000 km</th>\n",
       "      <td>1</td>\n",
       "      <td>1</td>\n",
       "    </tr>\n",
       "    <tr>\n",
       "      <th>3 800 km</th>\n",
       "      <td>1</td>\n",
       "      <td>1</td>\n",
       "    </tr>\n",
       "    <tr>\n",
       "      <th>5 000 km</th>\n",
       "      <td>1</td>\n",
       "      <td>1</td>\n",
       "    </tr>\n",
       "    <tr>\n",
       "      <th>5 km</th>\n",
       "      <td>2</td>\n",
       "      <td>2</td>\n",
       "    </tr>\n",
       "    <tr>\n",
       "      <th>Elektryczny</th>\n",
       "      <th>5 km</th>\n",
       "      <td>1</td>\n",
       "      <td>1</td>\n",
       "    </tr>\n",
       "  </tbody>\n",
       "</table>\n",
       "</div>"
      ],
      "text/plain": [
       "                                        Marka oraz model  Cena\n",
       "Rok produkcji Rodzaj paliwa Przebieg                          \n",
       "2010          Diesel        499 000 km                 1     1\n",
       "2014          Benzyna       71 337 km                  1     1\n",
       "2015          Diesel        157 000 km                 1     1\n",
       "2016          Benzyna       80 485 km                  1     1\n",
       "                            91 567 km                  1     1\n",
       "2018          Benzyna       7 900 km                   1     1\n",
       "              Diesel        19 476 km                  1     1\n",
       "2019          Benzyna       1 800 km                   1     1\n",
       "                            5 km                      14    14\n",
       "                            6 300 km                   1     1\n",
       "                            6 500 km                   1     1\n",
       "              Diesel        1 km                       2     2\n",
       "                            20 000 km                  1     1\n",
       "                            3 800 km                   1     1\n",
       "                            5 000 km                   1     1\n",
       "                            5 km                       2     2\n",
       "              Elektryczny   5 km                       1     1"
      ]
     },
     "execution_count": 54,
     "metadata": {},
     "output_type": "execute_result"
    }
   ],
   "source": [
    "df.groupby(['Rok produkcji', 'Rodzaj paliwa','Przebieg']).count()"
   ]
  },
  {
   "cell_type": "code",
   "execution_count": 55,
   "metadata": {},
   "outputs": [],
   "source": [
    "df.to_csv(\"ogloszenia.csv\")"
   ]
  },
  {
   "cell_type": "code",
   "execution_count": 102,
   "metadata": {},
   "outputs": [
    {
     "data": {
      "text/plain": [
       "<selenium.webdriver.firefox.webdriver.WebDriver (session=\"883e8a35-bedc-416a-b9c4-17b669b2ef06\")>"
      ]
     },
     "execution_count": 102,
     "metadata": {},
     "output_type": "execute_result"
    }
   ],
   "source": [
    "from selenium import webdriver\n",
    "\n",
    "webdriver.Firefox(executable_path='/home/kodolamacz/geckodriver')"
   ]
  },
  {
   "cell_type": "markdown",
   "metadata": {},
   "source": [
    "# Zadanie 2"
   ]
  },
  {
   "cell_type": "markdown",
   "metadata": {},
   "source": [
    "Należy ściągnąć dane ze sklepu internetowego Agencji Mienia Wojskowego, ze strony:\n",
    "\n",
    "https://sklep.amw.com.pl/pl/c/Odziez-i-elementy-umundurowania/16/1/full\n",
    "\n",
    "1. Ze strony należy wydobyć dane takie jak:\n",
    "    - Nazwa towaru\n",
    "    - dostępność\n",
    "    - cena\n",
    "2. Z wyciągniętych danych należy wygenerować JSON w formacie:\n",
    "\n",
    "```json\n",
    "[\n",
    "    {\n",
    "       'name': \"nazwa towaru\",\n",
    "       'availbility': \"dostępność\",\n",
    "       'price': 10.50\n",
    "    },\n",
    "        {\n",
    "       'name': \"nazwa innego towaru\",\n",
    "       'availbility': \"mała\",\n",
    "       'price': 12.00\n",
    "    }\n",
    "]\n",
    "```\n",
    "3. Z podanych danych w formacie JSON wygenerować plik CSV z danymi n.t. towarów w kolejnych wierszach.\n",
    "\n",
    "Nazwy kolumn w pliku CSV: `name`, `availbility`, `price`\n",
    "\n",
    "**Linki**\n",
    "\n",
    "Dokumentacja Beautiful Soup:\n",
    "\n",
    "https://www.crummy.com/software/BeautifulSoup/bs4/doc/\n",
    "\n",
    "Dokumentacja modułu `json`:\n",
    "\n",
    "https://docs.python.org/3/library/json.html\n",
    "\n",
    "Dokumentacja modułu `csv`:\n",
    "\n",
    "https://docs.python.org/3/library/csv.html"
   ]
  },
  {
   "cell_type": "code",
   "execution_count": null,
   "metadata": {},
   "outputs": [],
   "source": []
  }
 ],
 "metadata": {
  "kernelspec": {
   "display_name": "Python 3",
   "language": "python",
   "name": "python3"
  },
  "language_info": {
   "codemirror_mode": {
    "name": "ipython",
    "version": 3
   },
   "file_extension": ".py",
   "mimetype": "text/x-python",
   "name": "python",
   "nbconvert_exporter": "python",
   "pygments_lexer": "ipython3",
   "version": "3.7.0"
  }
 },
 "nbformat": 4,
 "nbformat_minor": 2
}
