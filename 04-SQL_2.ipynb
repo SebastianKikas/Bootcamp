{
 "cells": [
  {
   "cell_type": "code",
   "execution_count": 2,
   "metadata": {},
   "outputs": [],
   "source": [
    "import sqlite3\n",
    "from pprint import pprint"
   ]
  },
  {
   "cell_type": "code",
   "execution_count": 22,
   "metadata": {},
   "outputs": [
    {
     "name": "stdout",
     "output_type": "stream",
     "text": [
      "[(2, 'Edwards', 'Nancy', 'Sales Manager', 1, '1958-12-08 00:00:00', '2002-05-01 00:00:00', '825 8 Ave SW', 'Calgary', 'AB', 'Canada', 'T2P 2T3', '+1 (403) 262-3443', '+1 (403) 262-3322', 'nancy@chinookcorp.com')]\n"
     ]
    }
   ],
   "source": [
    "conn = sqlite3.connect('../data/db/chinook.db')\n",
    "c = conn.cursor()\n",
    "param = ('Nancy',)\n",
    "c.execute('SELECT * FROM employees WHERE FirstName = ?', param)\n",
    "print(c.fetchall())\n",
    "conn.close()\n"
   ]
  },
  {
   "cell_type": "code",
   "execution_count": 12,
   "metadata": {},
   "outputs": [
    {
     "name": "stdout",
     "output_type": "stream",
     "text": [
      "[('albums',),\n",
      " ('sqlite_sequence',),\n",
      " ('artists',),\n",
      " ('customers',),\n",
      " ('employees',),\n",
      " ('genres',),\n",
      " ('invoices',),\n",
      " ('invoice_items',),\n",
      " ('media_types',),\n",
      " ('playlists',),\n",
      " ('playlist_track',),\n",
      " ('tracks',),\n",
      " ('sqlite_stat1',)]\n",
      "[('CREATE TABLE \"albums\"\\r\\n'\n",
      "  '(\\r\\n'\n",
      "  '    [AlbumId] INTEGER PRIMARY KEY AUTOINCREMENT NOT NULL,\\r\\n'\n",
      "  '    [Title] NVARCHAR(160)  NOT NULL,\\r\\n'\n",
      "  '    [ArtistId] INTEGER  NOT NULL,\\r\\n'\n",
      "  '    FOREIGN KEY ([ArtistId]) REFERENCES \"artists\" ([ArtistId]) \\r\\n'\n",
      "  '\\t\\tON DELETE NO ACTION ON UPDATE NO ACTION\\r\\n'\n",
      "  ')',)]\n"
     ]
    }
   ],
   "source": [
    "conn = sqlite3.connect('../data/db/chinook.db')\n",
    "c = conn.cursor()\n",
    "tables_query = \"select name from sqlite_master where type = 'table'\"\n",
    "schema_query = \"select sql from sqlite_master where type = 'table' and name = 'albums'\"\n",
    "\n",
    "c.execute(tables_query)\n",
    "pprint(c.fetchall())\n",
    "c.execute(schema_query)\n",
    "pprint(c.fetchall())\n",
    "conn.close()"
   ]
  },
  {
   "cell_type": "code",
   "execution_count": 27,
   "metadata": {},
   "outputs": [
    {
     "data": {
      "text/plain": [
       "[('Andrew', 'Adams', None, None),\n",
       " ('Nancy', 'Edwards', 'Andrew', 'Adams'),\n",
       " ('Jane', 'Peacock', 'Nancy', 'Edwards'),\n",
       " ('Margaret', 'Park', 'Nancy', 'Edwards'),\n",
       " ('Steve', 'Johnson', 'Nancy', 'Edwards'),\n",
       " ('Michael', 'Mitchell', 'Andrew', 'Adams'),\n",
       " ('Robert', 'King', 'Michael', 'Mitchell'),\n",
       " ('Laura', 'Callahan', 'Michael', 'Mitchell')]"
      ]
     },
     "execution_count": 27,
     "metadata": {},
     "output_type": "execute_result"
    }
   ],
   "source": [
    "db = sqlite3.connect('../data/db/chinook.db')\n",
    "c = db.cursor()\n",
    "\n",
    "sql = 'select e.FirstName, e.LastName, m.FirstName, m.LastName from employees e left join employees m on e.ReportsTo = m.EmployeeId'\n",
    "c.execute(sql).fetchall()\n"
   ]
  },
  {
   "cell_type": "code",
   "execution_count": 28,
   "metadata": {},
   "outputs": [
    {
     "data": {
      "text/html": [
       "<div>\n",
       "<style scoped>\n",
       "    .dataframe tbody tr th:only-of-type {\n",
       "        vertical-align: middle;\n",
       "    }\n",
       "\n",
       "    .dataframe tbody tr th {\n",
       "        vertical-align: top;\n",
       "    }\n",
       "\n",
       "    .dataframe thead th {\n",
       "        text-align: right;\n",
       "    }\n",
       "</style>\n",
       "<table border=\"1\" class=\"dataframe\">\n",
       "  <thead>\n",
       "    <tr style=\"text-align: right;\">\n",
       "      <th></th>\n",
       "      <th>FirstName</th>\n",
       "      <th>LastName</th>\n",
       "      <th>FirstName</th>\n",
       "      <th>LastName</th>\n",
       "    </tr>\n",
       "  </thead>\n",
       "  <tbody>\n",
       "    <tr>\n",
       "      <th>0</th>\n",
       "      <td>Andrew</td>\n",
       "      <td>Adams</td>\n",
       "      <td>None</td>\n",
       "      <td>None</td>\n",
       "    </tr>\n",
       "    <tr>\n",
       "      <th>1</th>\n",
       "      <td>Nancy</td>\n",
       "      <td>Edwards</td>\n",
       "      <td>Andrew</td>\n",
       "      <td>Adams</td>\n",
       "    </tr>\n",
       "    <tr>\n",
       "      <th>2</th>\n",
       "      <td>Jane</td>\n",
       "      <td>Peacock</td>\n",
       "      <td>Nancy</td>\n",
       "      <td>Edwards</td>\n",
       "    </tr>\n",
       "    <tr>\n",
       "      <th>3</th>\n",
       "      <td>Margaret</td>\n",
       "      <td>Park</td>\n",
       "      <td>Nancy</td>\n",
       "      <td>Edwards</td>\n",
       "    </tr>\n",
       "    <tr>\n",
       "      <th>4</th>\n",
       "      <td>Steve</td>\n",
       "      <td>Johnson</td>\n",
       "      <td>Nancy</td>\n",
       "      <td>Edwards</td>\n",
       "    </tr>\n",
       "    <tr>\n",
       "      <th>5</th>\n",
       "      <td>Michael</td>\n",
       "      <td>Mitchell</td>\n",
       "      <td>Andrew</td>\n",
       "      <td>Adams</td>\n",
       "    </tr>\n",
       "    <tr>\n",
       "      <th>6</th>\n",
       "      <td>Robert</td>\n",
       "      <td>King</td>\n",
       "      <td>Michael</td>\n",
       "      <td>Mitchell</td>\n",
       "    </tr>\n",
       "    <tr>\n",
       "      <th>7</th>\n",
       "      <td>Laura</td>\n",
       "      <td>Callahan</td>\n",
       "      <td>Michael</td>\n",
       "      <td>Mitchell</td>\n",
       "    </tr>\n",
       "  </tbody>\n",
       "</table>\n",
       "</div>"
      ],
      "text/plain": [
       "  FirstName  LastName FirstName  LastName\n",
       "0    Andrew     Adams      None      None\n",
       "1     Nancy   Edwards    Andrew     Adams\n",
       "2      Jane   Peacock     Nancy   Edwards\n",
       "3  Margaret      Park     Nancy   Edwards\n",
       "4     Steve   Johnson     Nancy   Edwards\n",
       "5   Michael  Mitchell    Andrew     Adams\n",
       "6    Robert      King   Michael  Mitchell\n",
       "7     Laura  Callahan   Michael  Mitchell"
      ]
     },
     "execution_count": 28,
     "metadata": {},
     "output_type": "execute_result"
    }
   ],
   "source": [
    "import pandas as pd\n",
    "df = pd.read_sql(sql, db)\n",
    "df"
   ]
  },
  {
   "cell_type": "markdown",
   "metadata": {},
   "source": [
    "# Zadania\n",
    "\n",
    "Korzystając z bazy `chinook.db` rozwiąż zadania.\n",
    "\n",
    "1. Wyświetl tytuły albumów dostępnych w sklepie w kolejności alfabetycznej.\n",
    "2. Wyświetl imię, nazwisko i tytuł pracownika. Listę posortuj w malejąco po nazwisku.\n",
    "3. Ile albumów jest dostępnych w sklepie?\n",
    "4. Jaka jest średnia długość utworu sprzedawanego w sklepie?\n",
    "5. Ile trwa najkrótszy utwór w dostępny w sklepie sklepie?\n",
    "6. Jaki jest najdłuższy utwór w dostępny w sklepie?\n",
    "7. Utwórów którego artysty jest najwięcej w sklepie?\n",
    "8. Który pracownik opiekuje się największą liczbą klientów?\n",
    "9. Ile wynosi najwyższa kwota na fakturze?\n",
    "10. Który klient wydał w sklepie najmniej pieniędzy?\n",
    "11. Jaki jest tytuł utworu, który najlepiej się sprzedaje?\n",
    "12. Jaki jest tytuł albumu z którego sprzedało się najwięcej piosenek?\n",
    "13. Wyświetl imię i nazwisko pracownika oraz przypisanego mu kierownika.\n",
    "14. Jakiego gatunku utworów jest najwięcej w sklepie?\n",
    "15. Jaki artysta posiada najmniej utworów w sklepie?\n",
    "16. Wyświetl utwory wraz z kwotą jaką \"zarobiły\" dla sklepu.\n",
    "17. Wyświetl listę tytułów albumów i sumę jaką zarobiły dla sklepu począwszy od tego, który zarobił najwięcej."
   ]
  }
 ],
 "metadata": {
  "kernelspec": {
   "display_name": "Python 3",
   "language": "python",
   "name": "python3"
  },
  "language_info": {
   "codemirror_mode": {
    "name": "ipython",
    "version": 3
   },
   "file_extension": ".py",
   "mimetype": "text/x-python",
   "name": "python",
   "nbconvert_exporter": "python",
   "pygments_lexer": "ipython3",
   "version": "3.7.6"
  }
 },
 "nbformat": 4,
 "nbformat_minor": 4
}
