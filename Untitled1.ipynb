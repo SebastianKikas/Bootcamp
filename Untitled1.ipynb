{
 "cells": [
  {
   "cell_type": "code",
   "execution_count": 1,
   "metadata": {},
   "outputs": [],
   "source": [
    "header = ['a','b', 'c']"
   ]
  },
  {
   "cell_type": "code",
   "execution_count": 2,
   "metadata": {},
   "outputs": [
    {
     "data": {
      "text/plain": [
       "{0: 'a', 1: 'b', 2: 'c'}"
      ]
     },
     "execution_count": 2,
     "metadata": {},
     "output_type": "execute_result"
    }
   ],
   "source": [
    "{k:v for k,v in enumerate(header)}"
   ]
  },
  {
   "cell_type": "code",
   "execution_count": 3,
   "metadata": {},
   "outputs": [],
   "source": [
    "data = [888, 77,44]"
   ]
  },
  {
   "cell_type": "code",
   "execution_count": 4,
   "metadata": {},
   "outputs": [
    {
     "data": {
      "text/plain": [
       "{'a': 888, 'b': 77, 'c': 44}"
      ]
     },
     "execution_count": 4,
     "metadata": {},
     "output_type": "execute_result"
    }
   ],
   "source": [
    "{k:v for k,v in zip(header, data)}"
   ]
  },
  {
   "cell_type": "code",
   "execution_count": 5,
   "metadata": {},
   "outputs": [
    {
     "name": "stdout",
     "output_type": "stream",
     "text": [
      "[['5.8', '2.7', '5.1', '1.9', 'virginica'], ['5.1', '3.5', '1.4', '0.2', 'setosa'], ['5.7', '2.8', '4.1', '1.3', 'versicolor']]\n"
     ]
    }
   ],
   "source": [
    "DATA = [\n",
    "    '5.8,2.7,5.1,1.9,virginica',\n",
    "    '5.1,3.5,1.4,0.2,setosa',\n",
    "    '5.7,2.8,4.1,1.3,versicolor',\n",
    "]\n",
    "\n",
    "output = [row.split(',') for row in DATA]\n",
    "\n",
    "print(output)"
   ]
  },
  {
   "cell_type": "code",
   "execution_count": 8,
   "metadata": {},
   "outputs": [],
   "source": [
    "INPUT = [\n",
    "    ('Sepal length', 'Sepal width', 'Petal length', 'Petal width', 'Species'),\n",
    "    (5.8, 2.7, 5.1, 1.9, 'virginica'),\n",
    "    (5.1, 3.5, 1.4, 0.2, 'setosa'),\n",
    "    (5.7, 2.8, 4.1, 1.3, 'versicolor'),\n",
    "    (6.3, 2.9, 5.6, 1.8, 'virginica'),\n",
    "    (6.4, 3.2, 4.5, 1.5, 'versicolor'),\n",
    "    (4.7, 3.2, 1.3, 0.2, 'setosa'),\n",
    "    (7.0, 3.2, 4.7, 1.4, 'versicolor'),\n",
    "    (7.6, 3.0, 6.6, 2.1, 'virginica'),\n",
    "    (4.9, 3.0, 1.4, 0.2, 'setosa'),\n",
    "    (4.9, 2.5, 4.5, 1.7, 'virginica'),\n",
    "    (7.1, 3.0, 5.9, 2.1, 'virginica'),\n",
    "    (4.6, 3.4, 1.4, 0.3, 'setosa'),\n",
    "    (5.4, 3.9, 1.7, 0.4, 'setosa'),\n",
    "    (5.7, 2.8, 4.5, 1.3, 'versicolor'),\n",
    "    (5.0, 3.6, 1.4, 0.3, 'setosa'),\n",
    "    (5.5, 2.3, 4.0, 1.3, 'versicolor'),\n",
    "    (6.5, 3.0, 5.8, 2.2, 'virginica'),\n",
    "    (6.5, 2.8, 4.6, 1.5, 'versicolor'),\n",
    "    (6.3, 3.3, 6.0, 2.5, 'virginica'),\n",
    "    (6.9, 3.1, 4.9, 1.5, 'versicolor'),\n",
    "    (4.6, 3.1, 1.5, 0.2, 'setosa'),\n",
    "]"
   ]
  },
  {
   "cell_type": "code",
   "execution_count": 9,
   "metadata": {},
   "outputs": [],
   "source": [
    "# header, *data = INPUT\n",
    "header = INPUT[0]\n",
    "data = INPUT[1:]"
   ]
  },
  {
   "cell_type": "code",
   "execution_count": 10,
   "metadata": {},
   "outputs": [],
   "source": [
    "pivot = len(data) * 0.6\n",
    "pivot = int(pivot)"
   ]
  },
  {
   "cell_type": "code",
   "execution_count": 11,
   "metadata": {},
   "outputs": [],
   "source": [
    "features = [tuple(features) for *features,labels in data ]\n",
    "X_train = features[:pivot]\n",
    "X_test = features[pivot:]"
   ]
  },
  {
   "cell_type": "code",
   "execution_count": 12,
   "metadata": {},
   "outputs": [],
   "source": [
    "labels = [labels for *features,labels in data ]\n",
    "y_test = labels[pivot:]\n",
    "y_tain = labels[:pivot]"
   ]
  },
  {
   "cell_type": "code",
   "execution_count": 13,
   "metadata": {},
   "outputs": [],
   "source": [
    "#features_train = [tuple(X) for X in features[:pivot]]\n",
    "features_train = [tuple(X) for num, X in enumerate(features) if num > pivot]  "
   ]
  },
  {
   "cell_type": "code",
   "execution_count": 14,
   "metadata": {},
   "outputs": [],
   "source": [
    "#features_test = [tuple(X) for X in features[pivot:]]\n",
    "features_test = [tuple(X) for num, X in enumerate(features) if num < pivot]  "
   ]
  },
  {
   "cell_type": "code",
   "execution_count": 15,
   "metadata": {},
   "outputs": [],
   "source": [
    "labels_train = [tuple(X) for num, X in enumerate(labels) if num > pivot]  "
   ]
  },
  {
   "cell_type": "code",
   "execution_count": 16,
   "metadata": {},
   "outputs": [],
   "source": [
    "labels_test = [tuple(X) for num, X in enumerate(labels) if num < pivot] "
   ]
  },
  {
   "cell_type": "code",
   "execution_count": 17,
   "metadata": {},
   "outputs": [],
   "source": [
    "OUTPUT = X_train, X_test,y_tain,y_test"
   ]
  },
  {
   "cell_type": "code",
   "execution_count": 18,
   "metadata": {},
   "outputs": [
    {
     "name": "stdout",
     "output_type": "stream",
     "text": [
      "Podaj wiek: \n"
     ]
    },
    {
     "ename": "ValueError",
     "evalue": "invalid literal for int() with base 10: ''",
     "output_type": "error",
     "traceback": [
      "\u001b[0;31m---------------------------------------------------------------------------\u001b[0m",
      "\u001b[0;31mValueError\u001b[0m                                Traceback (most recent call last)",
      "\u001b[0;32m<ipython-input-18-f1b48ba0970a>\u001b[0m in \u001b[0;36m<module>\u001b[0;34m()\u001b[0m\n\u001b[1;32m     12\u001b[0m \u001b[0;34m\u001b[0m\u001b[0m\n\u001b[1;32m     13\u001b[0m \u001b[0mage\u001b[0m \u001b[0;34m=\u001b[0m \u001b[0minput\u001b[0m\u001b[0;34m(\u001b[0m\u001b[0;34m'Podaj wiek: '\u001b[0m\u001b[0;34m)\u001b[0m\u001b[0;34m\u001b[0m\u001b[0m\n\u001b[0;32m---> 14\u001b[0;31m \u001b[0;32mif\u001b[0m \u001b[0mint\u001b[0m\u001b[0;34m(\u001b[0m\u001b[0mage\u001b[0m\u001b[0;34m)\u001b[0m \u001b[0;34m>\u001b[0m \u001b[0madult\u001b[0m\u001b[0;34m:\u001b[0m\u001b[0;34m\u001b[0m\u001b[0m\n\u001b[0m\u001b[1;32m     15\u001b[0m     \u001b[0;32mraise\u001b[0m \u001b[0mPermissionError\u001b[0m\u001b[0;34m(\u001b[0m\u001b[0;34m'Only for kids'\u001b[0m\u001b[0;34m)\u001b[0m\u001b[0;34m\u001b[0m\u001b[0m\n",
      "\u001b[0;31mValueError\u001b[0m: invalid literal for int() with base 10: ''"
     ]
    }
   ],
   "source": [
    "'''\n",
    "\n",
    "        Poproś użytkownika o wprowadzenie wieku\n",
    "\n",
    "        Jeżeli użytkownik ma więcej niż 18 lat\n",
    "\n",
    "        Wyrzuć wyjątek PermissionError z komunikatem \"Only for kids\"\n",
    "\n",
    "'''\n",
    "adult = 18\n",
    "\n",
    "\n",
    "age = input('Podaj wiek: ')\n",
    "if int(age) > adult:\n",
    "    raise PermissionError('Only for kids')"
   ]
  },
  {
   "cell_type": "code",
   "execution_count": 19,
   "metadata": {},
   "outputs": [
    {
     "name": "stdout",
     "output_type": "stream",
     "text": [
      "Podaj temperatue w kelwinach:\n",
      "Invalid temperature \n"
     ]
    }
   ],
   "source": [
    "'''\n",
    "\n",
    "        Poproś użytkownika o wprowadzenie temperatury w Kelwinach\n",
    "\n",
    "        Przekonwertuj temperaturę do float\n",
    "\n",
    "        Wypisz \"Invalid temperature\" jak nie można rzutować do float\n",
    "\n",
    "        Wypisz temperaturę\n",
    "\n",
    "'''\n",
    "\n",
    "kelwin = input('Podaj temperatue w kelwinach:')\n",
    "\n",
    "try:\n",
    "    kelwin = float(kelwin)\n",
    "except Exception:\n",
    "    print('Invalid temperature', str(kelwin))"
   ]
  },
  {
   "cell_type": "code",
   "execution_count": 20,
   "metadata": {},
   "outputs": [
    {
     "name": "stdout",
     "output_type": "stream",
     "text": [
      "Podaj temperatue w kelwinach:\n"
     ]
    },
    {
     "ename": "ValueError",
     "evalue": "could not convert string to float: ",
     "output_type": "error",
     "traceback": [
      "\u001b[0;31m---------------------------------------------------------------------------\u001b[0m",
      "\u001b[0;31mValueError\u001b[0m                                Traceback (most recent call last)",
      "\u001b[0;32m<ipython-input-20-58e6a0e03217>\u001b[0m in \u001b[0;36m<module>\u001b[0;34m()\u001b[0m\n\u001b[1;32m     18\u001b[0m \u001b[0;34m\u001b[0m\u001b[0m\n\u001b[1;32m     19\u001b[0m \u001b[0;34m\u001b[0m\u001b[0m\n\u001b[0;32m---> 20\u001b[0;31m \u001b[0mkelwin\u001b[0m \u001b[0;34m=\u001b[0m \u001b[0mfloat\u001b[0m\u001b[0;34m(\u001b[0m\u001b[0mkelwin\u001b[0m\u001b[0;34m)\u001b[0m\u001b[0;34m\u001b[0m\u001b[0m\n\u001b[0m\u001b[1;32m     21\u001b[0m \u001b[0;32mif\u001b[0m \u001b[0mkelwin\u001b[0m \u001b[0;34m<\u001b[0m \u001b[0;36m0\u001b[0m\u001b[0;34m:\u001b[0m\u001b[0;34m\u001b[0m\u001b[0m\n\u001b[1;32m     22\u001b[0m     \u001b[0;32mraise\u001b[0m \u001b[0mbelowZeroError\u001b[0m\u001b[0;34m(\u001b[0m\u001b[0;34m'below 0'\u001b[0m\u001b[0;34m)\u001b[0m\u001b[0;34m\u001b[0m\u001b[0m\n",
      "\u001b[0;31mValueError\u001b[0m: could not convert string to float: "
     ]
    }
   ],
   "source": [
    "'''\n",
    "\n",
    "        Poproś użytkownika o wprowadzenie temperatury w Kelwinach\n",
    "\n",
    "        Użytkownik zawsze poda poprawne int lub float\n",
    "\n",
    "        Zdefiniuj wyjątek dla temperatur ujemnych\n",
    "\n",
    "        Podnieś własny wyjątek jeżeli temperatura jest poniżej 0\n",
    "\n",
    "'''\n",
    "class belowZeroError(Exception):\n",
    "    pass\n",
    "\n",
    "\n",
    "\n",
    "kelwin = input('Podaj temperatue w kelwinach:')\n",
    "\n",
    "\n",
    "kelwin = float(kelwin)\n",
    "if kelwin < 0:\n",
    "    raise belowZeroError('below 0')"
   ]
  },
  {
   "cell_type": "code",
   "execution_count": null,
   "metadata": {},
   "outputs": [],
   "source": [
    "'''\n",
    "\n",
    "\n",
    "        Ściągnij data/iris.csv i zapisz jako iris.csv\n",
    "\n",
    "        Zdefiniuj:\n",
    "\n",
    "                features: List[tuple] - lista pomiarów (każdy wiersz to tuple)\n",
    "\n",
    "                labels: List[str] - lista nazw gatunków\n",
    "\n",
    "        Dla każdej linii:\n",
    "\n",
    "                Usuń białe znaki\n",
    "\n",
    "                Podziel linię po przecinku ,\n",
    "\n",
    "                Dodaj pomiary do features\n",
    "\n",
    "                Dodaj gatunek do labels\n",
    "\n",
    "        Wyświetl features i labels\n",
    "\n",
    "'''\n",
    "FILE = r'./iris.csv'\n",
    "features, labels = [],[]\n",
    "with open(FILE, encoding='utf-8') as file:\n",
    "        header = file.readline()\n",
    "        for line in file.readlines():\n",
    "            splited = line.split(',')\n",
    "            features.append(splited[:-1])\n",
    "            labels.append(splited[-1])\n",
    "            "
   ]
  },
  {
   "cell_type": "code",
   "execution_count": null,
   "metadata": {},
   "outputs": [],
   "source": [
    "'''\n",
    "\n",
    "        Skopiuj dane wejściowe z listingu poniżej i zapisz do pliku hosts.txt\n",
    "\n",
    "        Dla każdej lini w pliku:\n",
    "\n",
    "                Usuń białe znaki na początku i końcu linii\n",
    "\n",
    "                Podziel linię po białych znakach\n",
    "\n",
    "                Odseparuj adres IP i nazwy hostów\n",
    "\n",
    "                Dodaj adres IP i nazwy hostów do OUTPUT\n",
    "\n",
    "        Scal nazwy hostów dla tego samego IP\n",
    "\n",
    "\n",
    "'''\n",
    "IP = ''\n",
    "FILE = r'host.txt'\n",
    "OUTPUT = {'a': ['a']}\n",
    "with open(FILE) as file:\n",
    "    for line in file:\n",
    "        print(line.strip().split()[0])\n",
    "        \n",
    "        IP, *host = line.strip().split()\n",
    "        print(OUTPUT)\n",
    "        OUTPUT[IP] = host\n",
    "        break\n",
    "print(OUTPUT)"
   ]
  },
  {
   "cell_type": "code",
   "execution_count": 21,
   "metadata": {},
   "outputs": [
    {
     "name": "stdout",
     "output_type": "stream",
     "text": [
      "Ehlo World!\n"
     ]
    }
   ],
   "source": [
    "def hello():\n",
    "    '''\n",
    "\n",
    "        Zdefiniuj funkcję hello\n",
    "\n",
    "        Wypisz Ehlo World! na ekranie\n",
    "\n",
    "        Wywołaj funkcję trzy razy\n",
    "\n",
    "'''\n",
    "    print('Ehlo World!')\n",
    "\n",
    "    \n",
    "hello()\n",
    "\n"
   ]
  },
  {
   "cell_type": "code",
   "execution_count": 22,
   "metadata": {},
   "outputs": [],
   "source": [
    "hello?\n"
   ]
  },
  {
   "cell_type": "code",
   "execution_count": 23,
   "metadata": {},
   "outputs": [
    {
     "name": "stdout",
     "output_type": "stream",
     "text": [
      "300.3\n"
     ]
    }
   ],
   "source": [
    "def add(a,b):\n",
    "    return a+b\n",
    "\n",
    "suma = add(100.3, 200)\n",
    "print(suma)"
   ]
  },
  {
   "cell_type": "code",
   "execution_count": 24,
   "metadata": {},
   "outputs": [
    {
     "name": "stdout",
     "output_type": "stream",
     "text": [
      "3.3333333333333335\n",
      "Dzielenie przez zero nie dozwolone\n",
      "None\n"
     ]
    }
   ],
   "source": [
    "def divide(a,b):\n",
    "    '''\n",
    "\n",
    "        Zdefiniuj funkcję divide\n",
    "\n",
    "        Funkcja przyjmuje dwa argumenty\n",
    "\n",
    "        Funkcja zwraca wynik dzielenia jej argumentów\n",
    "\n",
    "        Wywołaj funkcję z divide(10, 3)\n",
    "\n",
    "        Wywołaj funkcję z divide(10, 0)\n",
    "\n",
    "        Wypisz zwracane wartości\n",
    "\n",
    "        Co zrobić w przypadku błędu?\n",
    "\n",
    "'''\n",
    "\n",
    "    try:\n",
    "        div = a/b\n",
    "        return div\n",
    "    except ZeroDivisionError:\n",
    "        print(\"Dzielenie przez zero nie dozwolone\")\n",
    "    \n",
    "print(divide(10,3))\n",
    "print(divide(10,0))"
   ]
  },
  {
   "cell_type": "code",
   "execution_count": 25,
   "metadata": {},
   "outputs": [
    {
     "data": {
      "text/plain": [
       "27"
      ]
     },
     "execution_count": 25,
     "metadata": {},
     "output_type": "execute_result"
    }
   ],
   "source": [
    "def power(a, b=None):\n",
    "    \n",
    "    '''\n",
    "\n",
    "        Zdefiniuj funkcję power\n",
    "\n",
    "        Funkcja przyjmuje dwa argumenty\n",
    "\n",
    "        Drugi argument jest opcjonalny\n",
    "\n",
    "        Funkcja zwraca wynik pierwszego argumentu do potęgi drugiego\n",
    "\n",
    "        Jeżeli tylko jeden argument był podany, przyjmij drugi równy pierwszemu\n",
    "\n",
    "        Wypisz zwracane wartości\n",
    "\n",
    "'''\n",
    "    if b == None:\n",
    "        return a**a\n",
    "    else:\n",
    "        return a**b\n",
    "\n",
    "power(10, 2)\n",
    "power(3)"
   ]
  },
  {
   "cell_type": "code",
   "execution_count": 26,
   "metadata": {},
   "outputs": [],
   "source": [
    "def clear(text):\n",
    "    '''\n",
    "\n",
    "        Dla danych wejściowych (patrz sekcja input)\n",
    "\n",
    "        Napisz funkcję czyszczącą dane\n",
    "\n",
    "        Funkcja przyjmuje jeden argument typu str\n",
    "\n",
    "        Funkcja zwraca oczyszczony tekst\n",
    "\n",
    "'''\n",
    "    text = text.upper()\n",
    "    text = text.replace('UL.', '')\n",
    "    text = text.replace('\\t', '')\n",
    "    text = text.replace('3', 'III')\n",
    "    text = text.title()\n",
    "    text = text.replace('Iii', 'III')\n",
    "    text = text.strip()    \n",
    "    \n",
    "    return text"
   ]
  },
  {
   "cell_type": "code",
   "execution_count": 27,
   "metadata": {},
   "outputs": [
    {
     "name": "stdout",
     "output_type": "stream",
     "text": [
      "Mieszka Ii\n"
     ]
    }
   ],
   "source": [
    "INPUT = [\n",
    "    'ul.Mieszka II',\n",
    "    'UL. Zygmunta III WaZY',\n",
    "    '  bolesława chrobrego ',\n",
    "    'ul Jana III SobIESkiego',\n",
    "    '\\tul. Jana trzeciego Sobieskiego',\n",
    "    'ulicaJana III Sobieskiego',\n",
    "    'UL. JA    NA 3 SOBIES  KIEGO',\n",
    "    'ULICA JANA III SOBIESKIEGO  ',\n",
    "    'ULICA. JANA III SOBIeskieGO',\n",
    "    ' Jana 3 Sobieskiego  ',\n",
    "    'Jana III Sobi  eskiego ',\n",
    "]\n",
    "\n",
    "print(clear(INPUT[0]))"
   ]
  },
  {
   "cell_type": "code",
   "execution_count": 28,
   "metadata": {},
   "outputs": [],
   "source": [
    "def number_text(number):\n",
    "    dictionery = { '0': \"zero\",'1': \"one\",'2': \"two\",'3': \"tree\",'4': \"fower\",'5': \"fife\",'6': \"six\",'7': \"seven\",\n",
    "                  '8': \"ait\",'9': \"niner\", '-': 'minus', '.': 'and' }\n",
    "\n",
    "    return ' '.join(dictionery[char] for char in str(number))"
   ]
  },
  {
   "cell_type": "code",
   "execution_count": 29,
   "metadata": {},
   "outputs": [
    {
     "data": {
      "text/plain": [
       "'tree one tree tree seven'"
      ]
     },
     "execution_count": 29,
     "metadata": {},
     "output_type": "execute_result"
    }
   ],
   "source": [
    "number_text(31337)"
   ]
  },
  {
   "cell_type": "code",
   "execution_count": 30,
   "metadata": {},
   "outputs": [
    {
     "data": {
      "text/plain": [
       "'minus tree one and tree tree seven'"
      ]
     },
     "execution_count": 30,
     "metadata": {},
     "output_type": "execute_result"
    }
   ],
   "source": [
    "number_text(-31.337)"
   ]
  },
  {
   "cell_type": "code",
   "execution_count": 31,
   "metadata": {},
   "outputs": [
    {
     "data": {
      "text/plain": [
       "{'__name__': '__main__',\n",
       " '__doc__': '\\n\\n        Poproś użytkownika o wprowadzenie temperatury w Kelwinach\\n\\n        Użytkownik zawsze poda poprawne int lub float\\n\\n        Zdefiniuj wyjątek dla temperatur ujemnych\\n\\n        Podnieś własny wyjątek jeżeli temperatura jest poniżej 0\\n\\n',\n",
       " '__package__': None,\n",
       " '__loader__': None,\n",
       " '__spec__': None,\n",
       " '__builtin__': <module 'builtins' (built-in)>,\n",
       " '__builtins__': <module 'builtins' (built-in)>,\n",
       " '_ih': ['',\n",
       "  \"header = ['a','b', 'c']\",\n",
       "  '{k:v for k,v in enumerate(header)}',\n",
       "  'data = [888, 77,44]',\n",
       "  '{k:v for k,v in zip(header, data)}',\n",
       "  \"DATA = [\\n    '5.8,2.7,5.1,1.9,virginica',\\n    '5.1,3.5,1.4,0.2,setosa',\\n    '5.7,2.8,4.1,1.3,versicolor',\\n]\\n\\noutput = [row.split(',') for row in DATA]\\n\\nprint(output)\",\n",
       "  '# header, *data = INPUT\\nheader = INPUT[0]\\ndata = INPUT[1:]',\n",
       "  \"INPUT = [\\n    ('Sepal length', 'Sepal width', 'Petal length', 'Petal width', 'Species'),\\n    (5.8, 2.7, 5.1, 1.9, 'virginica'),\\n    (5.1, 3.5, 1.4, 0.2, 'setosa'),\\n    (5.7, 2.8, 4.1, 1.3, 'versicolor'),\\n    (6.3, 2.9, 5.6, 1.8, 'virginica'),\\n    (6.4, 3.2, 4.5, 1.5, 'versicolor'),\\n    (4.7, 3.2, 1.3, 0.2, 'setosa'),\\n    (7.0, 3.2, 4.7, 1.4, 'versicolor'),\\n    (7.6, 3.0, 6.6, 2.1, 'virginica'),\\n    (4.9, 3.0, 1.4, 0.2, 'setosa'),\\n    (4.9, 2.5, 4.5, 1.7, 'virginica'),\\n    (7.1, 3.0, 5.9, 2.1, 'virginica'),\\n    (4.6, 3.4, 1.4, 0.3, 'setosa'),\\n    (5.4, 3.9, 1.7, 0.4, 'setosa'),\\n    (5.7, 2.8, 4.5, 1.3, 'versicolor'),\\n    (5.0, 3.6, 1.4, 0.3, 'setosa'),\\n    (5.5, 2.3, 4.0, 1.3, 'versicolor'),\\n    (6.5, 3.0, 5.8, 2.2, 'virginica'),\\n    (6.5, 2.8, 4.6, 1.5, 'versicolor'),\\n    (6.3, 3.3, 6.0, 2.5, 'virginica'),\\n    (6.9, 3.1, 4.9, 1.5, 'versicolor'),\\n    (4.6, 3.1, 1.5, 0.2, 'setosa'),\\n]\",\n",
       "  \"INPUT = [\\n    ('Sepal length', 'Sepal width', 'Petal length', 'Petal width', 'Species'),\\n    (5.8, 2.7, 5.1, 1.9, 'virginica'),\\n    (5.1, 3.5, 1.4, 0.2, 'setosa'),\\n    (5.7, 2.8, 4.1, 1.3, 'versicolor'),\\n    (6.3, 2.9, 5.6, 1.8, 'virginica'),\\n    (6.4, 3.2, 4.5, 1.5, 'versicolor'),\\n    (4.7, 3.2, 1.3, 0.2, 'setosa'),\\n    (7.0, 3.2, 4.7, 1.4, 'versicolor'),\\n    (7.6, 3.0, 6.6, 2.1, 'virginica'),\\n    (4.9, 3.0, 1.4, 0.2, 'setosa'),\\n    (4.9, 2.5, 4.5, 1.7, 'virginica'),\\n    (7.1, 3.0, 5.9, 2.1, 'virginica'),\\n    (4.6, 3.4, 1.4, 0.3, 'setosa'),\\n    (5.4, 3.9, 1.7, 0.4, 'setosa'),\\n    (5.7, 2.8, 4.5, 1.3, 'versicolor'),\\n    (5.0, 3.6, 1.4, 0.3, 'setosa'),\\n    (5.5, 2.3, 4.0, 1.3, 'versicolor'),\\n    (6.5, 3.0, 5.8, 2.2, 'virginica'),\\n    (6.5, 2.8, 4.6, 1.5, 'versicolor'),\\n    (6.3, 3.3, 6.0, 2.5, 'virginica'),\\n    (6.9, 3.1, 4.9, 1.5, 'versicolor'),\\n    (4.6, 3.1, 1.5, 0.2, 'setosa'),\\n]\",\n",
       "  '# header, *data = INPUT\\nheader = INPUT[0]\\ndata = INPUT[1:]',\n",
       "  'pivot = len(data) * 0.6\\npivot = int(pivot)',\n",
       "  'features = [tuple(features) for *features,labels in data ]\\nX_train = features[:pivot]\\nX_test = features[pivot:]',\n",
       "  'labels = [labels for *features,labels in data ]\\ny_test = labels[pivot:]\\ny_tain = labels[:pivot]',\n",
       "  '#features_train = [tuple(X) for X in features[:pivot]]\\nfeatures_train = [tuple(X) for num, X in enumerate(features) if num > pivot]  ',\n",
       "  '#features_test = [tuple(X) for X in features[pivot:]]\\nfeatures_test = [tuple(X) for num, X in enumerate(features) if num < pivot]  ',\n",
       "  'labels_train = [tuple(X) for num, X in enumerate(labels) if num > pivot]  ',\n",
       "  'labels_test = [tuple(X) for num, X in enumerate(labels) if num < pivot] ',\n",
       "  'OUTPUT = X_train, X_test,y_tain,y_test',\n",
       "  '\\'\\'\\'\\n\\n        Poproś użytkownika o wprowadzenie wieku\\n\\n        Jeżeli użytkownik ma więcej niż 18 lat\\n\\n        Wyrzuć wyjątek PermissionError z komunikatem \"Only for kids\"\\n\\n\\'\\'\\'\\nadult = 18\\n\\n\\nage = input(\\'Podaj wiek: \\')\\nif int(age) > adult:\\n    raise PermissionError(\\'Only for kids\\')',\n",
       "  '\\'\\'\\'\\n\\n        Poproś użytkownika o wprowadzenie temperatury w Kelwinach\\n\\n        Przekonwertuj temperaturę do float\\n\\n        Wypisz \"Invalid temperature\" jak nie można rzutować do float\\n\\n        Wypisz temperaturę\\n\\n\\'\\'\\'\\n\\nkelwin = input(\\'Podaj temperatue w kelwinach:\\')\\n\\ntry:\\n    kelwin = float(kelwin)\\nexcept Exception:\\n    print(\\'Invalid temperature\\', str(kelwin))',\n",
       "  \"'''\\n\\n        Poproś użytkownika o wprowadzenie temperatury w Kelwinach\\n\\n        Użytkownik zawsze poda poprawne int lub float\\n\\n        Zdefiniuj wyjątek dla temperatur ujemnych\\n\\n        Podnieś własny wyjątek jeżeli temperatura jest poniżej 0\\n\\n'''\\nclass belowZeroError(Exception):\\n    pass\\n\\n\\n\\nkelwin = input('Podaj temperatue w kelwinach:')\\n\\n\\nkelwin = float(kelwin)\\nif kelwin < 0:\\n    raise belowZeroError('below 0')\",\n",
       "  \"def hello():\\n    '''\\n\\n        Zdefiniuj funkcję hello\\n\\n        Wypisz Ehlo World! na ekranie\\n\\n        Wywołaj funkcję trzy razy\\n\\n'''\\n    print('Ehlo World!')\\n\\n    \\nhello()\",\n",
       "  \"get_ipython().run_line_magic('pinfo', 'hello')\",\n",
       "  'def add(a,b):\\n    return a+b\\n\\nsuma = add(100.3, 200)\\nprint(suma)',\n",
       "  'def divide(a,b):\\n    \\'\\'\\'\\n\\n        Zdefiniuj funkcję divide\\n\\n        Funkcja przyjmuje dwa argumenty\\n\\n        Funkcja zwraca wynik dzielenia jej argumentów\\n\\n        Wywołaj funkcję z divide(10, 3)\\n\\n        Wywołaj funkcję z divide(10, 0)\\n\\n        Wypisz zwracane wartości\\n\\n        Co zrobić w przypadku błędu?\\n\\n\\'\\'\\'\\n\\n    try:\\n        div = a/b\\n        return div\\n    except ZeroDivisionError:\\n        print(\"Dzielenie przez zero nie dozwolone\")\\n    \\nprint(divide(10,3))\\nprint(divide(10,0))',\n",
       "  \"def power(a, b=None):\\n    \\n    '''\\n\\n        Zdefiniuj funkcję power\\n\\n        Funkcja przyjmuje dwa argumenty\\n\\n        Drugi argument jest opcjonalny\\n\\n        Funkcja zwraca wynik pierwszego argumentu do potęgi drugiego\\n\\n        Jeżeli tylko jeden argument był podany, przyjmij drugi równy pierwszemu\\n\\n        Wypisz zwracane wartości\\n\\n'''\\n    if b == None:\\n        return a**a\\n    else:\\n        return a**b\\n\\npower(10, 2)\\npower(3)\",\n",
       "  \"def clear(text):\\n    '''\\n\\n        Dla danych wejściowych (patrz sekcja input)\\n\\n        Napisz funkcję czyszczącą dane\\n\\n        Funkcja przyjmuje jeden argument typu str\\n\\n        Funkcja zwraca oczyszczony tekst\\n\\n'''\\n    text = text.upper()\\n    text = text.replace('UL.', '')\\n    text = text.replace('\\\\t', '')\\n    text = text.replace('3', 'III')\\n    text = text.title()\\n    text = text.replace('Iii', 'III')\\n    text = text.strip()    \\n    \\n    return text\",\n",
       "  \"INPUT = [\\n    'ul.Mieszka II',\\n    'UL. Zygmunta III WaZY',\\n    '  bolesława chrobrego ',\\n    'ul Jana III SobIESkiego',\\n    '\\\\tul. Jana trzeciego Sobieskiego',\\n    'ulicaJana III Sobieskiego',\\n    'UL. JA    NA 3 SOBIES  KIEGO',\\n    'ULICA JANA III SOBIESKIEGO  ',\\n    'ULICA. JANA III SOBIeskieGO',\\n    ' Jana 3 Sobieskiego  ',\\n    'Jana III Sobi  eskiego ',\\n]\\n\\nprint(clear(INPUT[0]))\",\n",
       "  'def number_text(number):\\n    dictionery = { \\'0\\': \"zero\",\\'1\\': \"one\",\\'2\\': \"two\",\\'3\\': \"tree\",\\'4\\': \"fower\",\\'5\\': \"fife\",\\'6\\': \"six\",\\'7\\': \"seven\",\\n                  \\'8\\': \"ait\",\\'9\\': \"niner\", \\'-\\': \\'minus\\', \\'.\\': \\'and\\' }\\n\\n    return \\' \\'.join(dictionery[char] for char in str(number))',\n",
       "  'number_text(31337)',\n",
       "  'number_text(-31.337)',\n",
       "  'globals()'],\n",
       " '_oh': {2: {0: 'a', 1: 'b', 2: 'c'},\n",
       "  4: {'a': 888, 'b': 77, 'c': 44},\n",
       "  25: 27,\n",
       "  29: 'tree one tree tree seven',\n",
       "  30: 'minus tree one and tree tree seven'},\n",
       " '_dh': ['/home/kodolamacz/src/Bootcamp'],\n",
       " 'In': ['',\n",
       "  \"header = ['a','b', 'c']\",\n",
       "  '{k:v for k,v in enumerate(header)}',\n",
       "  'data = [888, 77,44]',\n",
       "  '{k:v for k,v in zip(header, data)}',\n",
       "  \"DATA = [\\n    '5.8,2.7,5.1,1.9,virginica',\\n    '5.1,3.5,1.4,0.2,setosa',\\n    '5.7,2.8,4.1,1.3,versicolor',\\n]\\n\\noutput = [row.split(',') for row in DATA]\\n\\nprint(output)\",\n",
       "  '# header, *data = INPUT\\nheader = INPUT[0]\\ndata = INPUT[1:]',\n",
       "  \"INPUT = [\\n    ('Sepal length', 'Sepal width', 'Petal length', 'Petal width', 'Species'),\\n    (5.8, 2.7, 5.1, 1.9, 'virginica'),\\n    (5.1, 3.5, 1.4, 0.2, 'setosa'),\\n    (5.7, 2.8, 4.1, 1.3, 'versicolor'),\\n    (6.3, 2.9, 5.6, 1.8, 'virginica'),\\n    (6.4, 3.2, 4.5, 1.5, 'versicolor'),\\n    (4.7, 3.2, 1.3, 0.2, 'setosa'),\\n    (7.0, 3.2, 4.7, 1.4, 'versicolor'),\\n    (7.6, 3.0, 6.6, 2.1, 'virginica'),\\n    (4.9, 3.0, 1.4, 0.2, 'setosa'),\\n    (4.9, 2.5, 4.5, 1.7, 'virginica'),\\n    (7.1, 3.0, 5.9, 2.1, 'virginica'),\\n    (4.6, 3.4, 1.4, 0.3, 'setosa'),\\n    (5.4, 3.9, 1.7, 0.4, 'setosa'),\\n    (5.7, 2.8, 4.5, 1.3, 'versicolor'),\\n    (5.0, 3.6, 1.4, 0.3, 'setosa'),\\n    (5.5, 2.3, 4.0, 1.3, 'versicolor'),\\n    (6.5, 3.0, 5.8, 2.2, 'virginica'),\\n    (6.5, 2.8, 4.6, 1.5, 'versicolor'),\\n    (6.3, 3.3, 6.0, 2.5, 'virginica'),\\n    (6.9, 3.1, 4.9, 1.5, 'versicolor'),\\n    (4.6, 3.1, 1.5, 0.2, 'setosa'),\\n]\",\n",
       "  \"INPUT = [\\n    ('Sepal length', 'Sepal width', 'Petal length', 'Petal width', 'Species'),\\n    (5.8, 2.7, 5.1, 1.9, 'virginica'),\\n    (5.1, 3.5, 1.4, 0.2, 'setosa'),\\n    (5.7, 2.8, 4.1, 1.3, 'versicolor'),\\n    (6.3, 2.9, 5.6, 1.8, 'virginica'),\\n    (6.4, 3.2, 4.5, 1.5, 'versicolor'),\\n    (4.7, 3.2, 1.3, 0.2, 'setosa'),\\n    (7.0, 3.2, 4.7, 1.4, 'versicolor'),\\n    (7.6, 3.0, 6.6, 2.1, 'virginica'),\\n    (4.9, 3.0, 1.4, 0.2, 'setosa'),\\n    (4.9, 2.5, 4.5, 1.7, 'virginica'),\\n    (7.1, 3.0, 5.9, 2.1, 'virginica'),\\n    (4.6, 3.4, 1.4, 0.3, 'setosa'),\\n    (5.4, 3.9, 1.7, 0.4, 'setosa'),\\n    (5.7, 2.8, 4.5, 1.3, 'versicolor'),\\n    (5.0, 3.6, 1.4, 0.3, 'setosa'),\\n    (5.5, 2.3, 4.0, 1.3, 'versicolor'),\\n    (6.5, 3.0, 5.8, 2.2, 'virginica'),\\n    (6.5, 2.8, 4.6, 1.5, 'versicolor'),\\n    (6.3, 3.3, 6.0, 2.5, 'virginica'),\\n    (6.9, 3.1, 4.9, 1.5, 'versicolor'),\\n    (4.6, 3.1, 1.5, 0.2, 'setosa'),\\n]\",\n",
       "  '# header, *data = INPUT\\nheader = INPUT[0]\\ndata = INPUT[1:]',\n",
       "  'pivot = len(data) * 0.6\\npivot = int(pivot)',\n",
       "  'features = [tuple(features) for *features,labels in data ]\\nX_train = features[:pivot]\\nX_test = features[pivot:]',\n",
       "  'labels = [labels for *features,labels in data ]\\ny_test = labels[pivot:]\\ny_tain = labels[:pivot]',\n",
       "  '#features_train = [tuple(X) for X in features[:pivot]]\\nfeatures_train = [tuple(X) for num, X in enumerate(features) if num > pivot]  ',\n",
       "  '#features_test = [tuple(X) for X in features[pivot:]]\\nfeatures_test = [tuple(X) for num, X in enumerate(features) if num < pivot]  ',\n",
       "  'labels_train = [tuple(X) for num, X in enumerate(labels) if num > pivot]  ',\n",
       "  'labels_test = [tuple(X) for num, X in enumerate(labels) if num < pivot] ',\n",
       "  'OUTPUT = X_train, X_test,y_tain,y_test',\n",
       "  '\\'\\'\\'\\n\\n        Poproś użytkownika o wprowadzenie wieku\\n\\n        Jeżeli użytkownik ma więcej niż 18 lat\\n\\n        Wyrzuć wyjątek PermissionError z komunikatem \"Only for kids\"\\n\\n\\'\\'\\'\\nadult = 18\\n\\n\\nage = input(\\'Podaj wiek: \\')\\nif int(age) > adult:\\n    raise PermissionError(\\'Only for kids\\')',\n",
       "  '\\'\\'\\'\\n\\n        Poproś użytkownika o wprowadzenie temperatury w Kelwinach\\n\\n        Przekonwertuj temperaturę do float\\n\\n        Wypisz \"Invalid temperature\" jak nie można rzutować do float\\n\\n        Wypisz temperaturę\\n\\n\\'\\'\\'\\n\\nkelwin = input(\\'Podaj temperatue w kelwinach:\\')\\n\\ntry:\\n    kelwin = float(kelwin)\\nexcept Exception:\\n    print(\\'Invalid temperature\\', str(kelwin))',\n",
       "  \"'''\\n\\n        Poproś użytkownika o wprowadzenie temperatury w Kelwinach\\n\\n        Użytkownik zawsze poda poprawne int lub float\\n\\n        Zdefiniuj wyjątek dla temperatur ujemnych\\n\\n        Podnieś własny wyjątek jeżeli temperatura jest poniżej 0\\n\\n'''\\nclass belowZeroError(Exception):\\n    pass\\n\\n\\n\\nkelwin = input('Podaj temperatue w kelwinach:')\\n\\n\\nkelwin = float(kelwin)\\nif kelwin < 0:\\n    raise belowZeroError('below 0')\",\n",
       "  \"def hello():\\n    '''\\n\\n        Zdefiniuj funkcję hello\\n\\n        Wypisz Ehlo World! na ekranie\\n\\n        Wywołaj funkcję trzy razy\\n\\n'''\\n    print('Ehlo World!')\\n\\n    \\nhello()\",\n",
       "  \"get_ipython().run_line_magic('pinfo', 'hello')\",\n",
       "  'def add(a,b):\\n    return a+b\\n\\nsuma = add(100.3, 200)\\nprint(suma)',\n",
       "  'def divide(a,b):\\n    \\'\\'\\'\\n\\n        Zdefiniuj funkcję divide\\n\\n        Funkcja przyjmuje dwa argumenty\\n\\n        Funkcja zwraca wynik dzielenia jej argumentów\\n\\n        Wywołaj funkcję z divide(10, 3)\\n\\n        Wywołaj funkcję z divide(10, 0)\\n\\n        Wypisz zwracane wartości\\n\\n        Co zrobić w przypadku błędu?\\n\\n\\'\\'\\'\\n\\n    try:\\n        div = a/b\\n        return div\\n    except ZeroDivisionError:\\n        print(\"Dzielenie przez zero nie dozwolone\")\\n    \\nprint(divide(10,3))\\nprint(divide(10,0))',\n",
       "  \"def power(a, b=None):\\n    \\n    '''\\n\\n        Zdefiniuj funkcję power\\n\\n        Funkcja przyjmuje dwa argumenty\\n\\n        Drugi argument jest opcjonalny\\n\\n        Funkcja zwraca wynik pierwszego argumentu do potęgi drugiego\\n\\n        Jeżeli tylko jeden argument był podany, przyjmij drugi równy pierwszemu\\n\\n        Wypisz zwracane wartości\\n\\n'''\\n    if b == None:\\n        return a**a\\n    else:\\n        return a**b\\n\\npower(10, 2)\\npower(3)\",\n",
       "  \"def clear(text):\\n    '''\\n\\n        Dla danych wejściowych (patrz sekcja input)\\n\\n        Napisz funkcję czyszczącą dane\\n\\n        Funkcja przyjmuje jeden argument typu str\\n\\n        Funkcja zwraca oczyszczony tekst\\n\\n'''\\n    text = text.upper()\\n    text = text.replace('UL.', '')\\n    text = text.replace('\\\\t', '')\\n    text = text.replace('3', 'III')\\n    text = text.title()\\n    text = text.replace('Iii', 'III')\\n    text = text.strip()    \\n    \\n    return text\",\n",
       "  \"INPUT = [\\n    'ul.Mieszka II',\\n    'UL. Zygmunta III WaZY',\\n    '  bolesława chrobrego ',\\n    'ul Jana III SobIESkiego',\\n    '\\\\tul. Jana trzeciego Sobieskiego',\\n    'ulicaJana III Sobieskiego',\\n    'UL. JA    NA 3 SOBIES  KIEGO',\\n    'ULICA JANA III SOBIESKIEGO  ',\\n    'ULICA. JANA III SOBIeskieGO',\\n    ' Jana 3 Sobieskiego  ',\\n    'Jana III Sobi  eskiego ',\\n]\\n\\nprint(clear(INPUT[0]))\",\n",
       "  'def number_text(number):\\n    dictionery = { \\'0\\': \"zero\",\\'1\\': \"one\",\\'2\\': \"two\",\\'3\\': \"tree\",\\'4\\': \"fower\",\\'5\\': \"fife\",\\'6\\': \"six\",\\'7\\': \"seven\",\\n                  \\'8\\': \"ait\",\\'9\\': \"niner\", \\'-\\': \\'minus\\', \\'.\\': \\'and\\' }\\n\\n    return \\' \\'.join(dictionery[char] for char in str(number))',\n",
       "  'number_text(31337)',\n",
       "  'number_text(-31.337)',\n",
       "  'globals()'],\n",
       " 'Out': {2: {0: 'a', 1: 'b', 2: 'c'},\n",
       "  4: {'a': 888, 'b': 77, 'c': 44},\n",
       "  25: 27,\n",
       "  29: 'tree one tree tree seven',\n",
       "  30: 'minus tree one and tree tree seven'},\n",
       " 'get_ipython': <bound method InteractiveShell.get_ipython of <ipykernel.zmqshell.ZMQInteractiveShell object at 0x7fd3cb99cda0>>,\n",
       " 'exit': <IPython.core.autocall.ZMQExitAutocall at 0x7fd3c65d1630>,\n",
       " 'quit': <IPython.core.autocall.ZMQExitAutocall at 0x7fd3c65d1630>,\n",
       " '_': 'minus tree one and tree tree seven',\n",
       " '__': 'tree one tree tree seven',\n",
       " '___': 27,\n",
       " '_i': 'number_text(-31.337)',\n",
       " '_ii': 'number_text(31337)',\n",
       " '_iii': 'def number_text(number):\\n    dictionery = { \\'0\\': \"zero\",\\'1\\': \"one\",\\'2\\': \"two\",\\'3\\': \"tree\",\\'4\\': \"fower\",\\'5\\': \"fife\",\\'6\\': \"six\",\\'7\\': \"seven\",\\n                  \\'8\\': \"ait\",\\'9\\': \"niner\", \\'-\\': \\'minus\\', \\'.\\': \\'and\\' }\\n\\n    return \\' \\'.join(dictionery[char] for char in str(number))',\n",
       " '_i1': \"header = ['a','b', 'c']\",\n",
       " 'header': ('Sepal length',\n",
       "  'Sepal width',\n",
       "  'Petal length',\n",
       "  'Petal width',\n",
       "  'Species'),\n",
       " '_i2': '{k:v for k,v in enumerate(header)}',\n",
       " '_2': {0: 'a', 1: 'b', 2: 'c'},\n",
       " '_i3': 'data = [888, 77,44]',\n",
       " 'data': [(5.8, 2.7, 5.1, 1.9, 'virginica'),\n",
       "  (5.1, 3.5, 1.4, 0.2, 'setosa'),\n",
       "  (5.7, 2.8, 4.1, 1.3, 'versicolor'),\n",
       "  (6.3, 2.9, 5.6, 1.8, 'virginica'),\n",
       "  (6.4, 3.2, 4.5, 1.5, 'versicolor'),\n",
       "  (4.7, 3.2, 1.3, 0.2, 'setosa'),\n",
       "  (7.0, 3.2, 4.7, 1.4, 'versicolor'),\n",
       "  (7.6, 3.0, 6.6, 2.1, 'virginica'),\n",
       "  (4.9, 3.0, 1.4, 0.2, 'setosa'),\n",
       "  (4.9, 2.5, 4.5, 1.7, 'virginica'),\n",
       "  (7.1, 3.0, 5.9, 2.1, 'virginica'),\n",
       "  (4.6, 3.4, 1.4, 0.3, 'setosa'),\n",
       "  (5.4, 3.9, 1.7, 0.4, 'setosa'),\n",
       "  (5.7, 2.8, 4.5, 1.3, 'versicolor'),\n",
       "  (5.0, 3.6, 1.4, 0.3, 'setosa'),\n",
       "  (5.5, 2.3, 4.0, 1.3, 'versicolor'),\n",
       "  (6.5, 3.0, 5.8, 2.2, 'virginica'),\n",
       "  (6.5, 2.8, 4.6, 1.5, 'versicolor'),\n",
       "  (6.3, 3.3, 6.0, 2.5, 'virginica'),\n",
       "  (6.9, 3.1, 4.9, 1.5, 'versicolor'),\n",
       "  (4.6, 3.1, 1.5, 0.2, 'setosa')],\n",
       " '_i4': '{k:v for k,v in zip(header, data)}',\n",
       " '_4': {'a': 888, 'b': 77, 'c': 44},\n",
       " '_i5': \"DATA = [\\n    '5.8,2.7,5.1,1.9,virginica',\\n    '5.1,3.5,1.4,0.2,setosa',\\n    '5.7,2.8,4.1,1.3,versicolor',\\n]\\n\\noutput = [row.split(',') for row in DATA]\\n\\nprint(output)\",\n",
       " 'DATA': ['5.8,2.7,5.1,1.9,virginica',\n",
       "  '5.1,3.5,1.4,0.2,setosa',\n",
       "  '5.7,2.8,4.1,1.3,versicolor'],\n",
       " 'output': [['5.8', '2.7', '5.1', '1.9', 'virginica'],\n",
       "  ['5.1', '3.5', '1.4', '0.2', 'setosa'],\n",
       "  ['5.7', '2.8', '4.1', '1.3', 'versicolor']],\n",
       " '_i6': '# header, *data = INPUT\\nheader = INPUT[0]\\ndata = INPUT[1:]',\n",
       " '_i7': \"INPUT = [\\n    ('Sepal length', 'Sepal width', 'Petal length', 'Petal width', 'Species'),\\n    (5.8, 2.7, 5.1, 1.9, 'virginica'),\\n    (5.1, 3.5, 1.4, 0.2, 'setosa'),\\n    (5.7, 2.8, 4.1, 1.3, 'versicolor'),\\n    (6.3, 2.9, 5.6, 1.8, 'virginica'),\\n    (6.4, 3.2, 4.5, 1.5, 'versicolor'),\\n    (4.7, 3.2, 1.3, 0.2, 'setosa'),\\n    (7.0, 3.2, 4.7, 1.4, 'versicolor'),\\n    (7.6, 3.0, 6.6, 2.1, 'virginica'),\\n    (4.9, 3.0, 1.4, 0.2, 'setosa'),\\n    (4.9, 2.5, 4.5, 1.7, 'virginica'),\\n    (7.1, 3.0, 5.9, 2.1, 'virginica'),\\n    (4.6, 3.4, 1.4, 0.3, 'setosa'),\\n    (5.4, 3.9, 1.7, 0.4, 'setosa'),\\n    (5.7, 2.8, 4.5, 1.3, 'versicolor'),\\n    (5.0, 3.6, 1.4, 0.3, 'setosa'),\\n    (5.5, 2.3, 4.0, 1.3, 'versicolor'),\\n    (6.5, 3.0, 5.8, 2.2, 'virginica'),\\n    (6.5, 2.8, 4.6, 1.5, 'versicolor'),\\n    (6.3, 3.3, 6.0, 2.5, 'virginica'),\\n    (6.9, 3.1, 4.9, 1.5, 'versicolor'),\\n    (4.6, 3.1, 1.5, 0.2, 'setosa'),\\n]\",\n",
       " 'INPUT': ['ul.Mieszka II',\n",
       "  'UL. Zygmunta III WaZY',\n",
       "  '  bolesława chrobrego ',\n",
       "  'ul Jana III SobIESkiego',\n",
       "  '\\tul. Jana trzeciego Sobieskiego',\n",
       "  'ulicaJana III Sobieskiego',\n",
       "  'UL. JA    NA 3 SOBIES  KIEGO',\n",
       "  'ULICA JANA III SOBIESKIEGO  ',\n",
       "  'ULICA. JANA III SOBIeskieGO',\n",
       "  ' Jana 3 Sobieskiego  ',\n",
       "  'Jana III Sobi  eskiego '],\n",
       " '_i8': \"INPUT = [\\n    ('Sepal length', 'Sepal width', 'Petal length', 'Petal width', 'Species'),\\n    (5.8, 2.7, 5.1, 1.9, 'virginica'),\\n    (5.1, 3.5, 1.4, 0.2, 'setosa'),\\n    (5.7, 2.8, 4.1, 1.3, 'versicolor'),\\n    (6.3, 2.9, 5.6, 1.8, 'virginica'),\\n    (6.4, 3.2, 4.5, 1.5, 'versicolor'),\\n    (4.7, 3.2, 1.3, 0.2, 'setosa'),\\n    (7.0, 3.2, 4.7, 1.4, 'versicolor'),\\n    (7.6, 3.0, 6.6, 2.1, 'virginica'),\\n    (4.9, 3.0, 1.4, 0.2, 'setosa'),\\n    (4.9, 2.5, 4.5, 1.7, 'virginica'),\\n    (7.1, 3.0, 5.9, 2.1, 'virginica'),\\n    (4.6, 3.4, 1.4, 0.3, 'setosa'),\\n    (5.4, 3.9, 1.7, 0.4, 'setosa'),\\n    (5.7, 2.8, 4.5, 1.3, 'versicolor'),\\n    (5.0, 3.6, 1.4, 0.3, 'setosa'),\\n    (5.5, 2.3, 4.0, 1.3, 'versicolor'),\\n    (6.5, 3.0, 5.8, 2.2, 'virginica'),\\n    (6.5, 2.8, 4.6, 1.5, 'versicolor'),\\n    (6.3, 3.3, 6.0, 2.5, 'virginica'),\\n    (6.9, 3.1, 4.9, 1.5, 'versicolor'),\\n    (4.6, 3.1, 1.5, 0.2, 'setosa'),\\n]\",\n",
       " '_i9': '# header, *data = INPUT\\nheader = INPUT[0]\\ndata = INPUT[1:]',\n",
       " '_i10': 'pivot = len(data) * 0.6\\npivot = int(pivot)',\n",
       " 'pivot': 12,\n",
       " '_i11': 'features = [tuple(features) for *features,labels in data ]\\nX_train = features[:pivot]\\nX_test = features[pivot:]',\n",
       " 'features': [(5.8, 2.7, 5.1, 1.9),\n",
       "  (5.1, 3.5, 1.4, 0.2),\n",
       "  (5.7, 2.8, 4.1, 1.3),\n",
       "  (6.3, 2.9, 5.6, 1.8),\n",
       "  (6.4, 3.2, 4.5, 1.5),\n",
       "  (4.7, 3.2, 1.3, 0.2),\n",
       "  (7.0, 3.2, 4.7, 1.4),\n",
       "  (7.6, 3.0, 6.6, 2.1),\n",
       "  (4.9, 3.0, 1.4, 0.2),\n",
       "  (4.9, 2.5, 4.5, 1.7),\n",
       "  (7.1, 3.0, 5.9, 2.1),\n",
       "  (4.6, 3.4, 1.4, 0.3),\n",
       "  (5.4, 3.9, 1.7, 0.4),\n",
       "  (5.7, 2.8, 4.5, 1.3),\n",
       "  (5.0, 3.6, 1.4, 0.3),\n",
       "  (5.5, 2.3, 4.0, 1.3),\n",
       "  (6.5, 3.0, 5.8, 2.2),\n",
       "  (6.5, 2.8, 4.6, 1.5),\n",
       "  (6.3, 3.3, 6.0, 2.5),\n",
       "  (6.9, 3.1, 4.9, 1.5),\n",
       "  (4.6, 3.1, 1.5, 0.2)],\n",
       " 'X_train': [(5.8, 2.7, 5.1, 1.9),\n",
       "  (5.1, 3.5, 1.4, 0.2),\n",
       "  (5.7, 2.8, 4.1, 1.3),\n",
       "  (6.3, 2.9, 5.6, 1.8),\n",
       "  (6.4, 3.2, 4.5, 1.5),\n",
       "  (4.7, 3.2, 1.3, 0.2),\n",
       "  (7.0, 3.2, 4.7, 1.4),\n",
       "  (7.6, 3.0, 6.6, 2.1),\n",
       "  (4.9, 3.0, 1.4, 0.2),\n",
       "  (4.9, 2.5, 4.5, 1.7),\n",
       "  (7.1, 3.0, 5.9, 2.1),\n",
       "  (4.6, 3.4, 1.4, 0.3)],\n",
       " 'X_test': [(5.4, 3.9, 1.7, 0.4),\n",
       "  (5.7, 2.8, 4.5, 1.3),\n",
       "  (5.0, 3.6, 1.4, 0.3),\n",
       "  (5.5, 2.3, 4.0, 1.3),\n",
       "  (6.5, 3.0, 5.8, 2.2),\n",
       "  (6.5, 2.8, 4.6, 1.5),\n",
       "  (6.3, 3.3, 6.0, 2.5),\n",
       "  (6.9, 3.1, 4.9, 1.5),\n",
       "  (4.6, 3.1, 1.5, 0.2)],\n",
       " '_i12': 'labels = [labels for *features,labels in data ]\\ny_test = labels[pivot:]\\ny_tain = labels[:pivot]',\n",
       " 'labels': ['virginica',\n",
       "  'setosa',\n",
       "  'versicolor',\n",
       "  'virginica',\n",
       "  'versicolor',\n",
       "  'setosa',\n",
       "  'versicolor',\n",
       "  'virginica',\n",
       "  'setosa',\n",
       "  'virginica',\n",
       "  'virginica',\n",
       "  'setosa',\n",
       "  'setosa',\n",
       "  'versicolor',\n",
       "  'setosa',\n",
       "  'versicolor',\n",
       "  'virginica',\n",
       "  'versicolor',\n",
       "  'virginica',\n",
       "  'versicolor',\n",
       "  'setosa'],\n",
       " 'y_test': ['setosa',\n",
       "  'versicolor',\n",
       "  'setosa',\n",
       "  'versicolor',\n",
       "  'virginica',\n",
       "  'versicolor',\n",
       "  'virginica',\n",
       "  'versicolor',\n",
       "  'setosa'],\n",
       " 'y_tain': ['virginica',\n",
       "  'setosa',\n",
       "  'versicolor',\n",
       "  'virginica',\n",
       "  'versicolor',\n",
       "  'setosa',\n",
       "  'versicolor',\n",
       "  'virginica',\n",
       "  'setosa',\n",
       "  'virginica',\n",
       "  'virginica',\n",
       "  'setosa'],\n",
       " '_i13': '#features_train = [tuple(X) for X in features[:pivot]]\\nfeatures_train = [tuple(X) for num, X in enumerate(features) if num > pivot]  ',\n",
       " 'features_train': [(5.7, 2.8, 4.5, 1.3),\n",
       "  (5.0, 3.6, 1.4, 0.3),\n",
       "  (5.5, 2.3, 4.0, 1.3),\n",
       "  (6.5, 3.0, 5.8, 2.2),\n",
       "  (6.5, 2.8, 4.6, 1.5),\n",
       "  (6.3, 3.3, 6.0, 2.5),\n",
       "  (6.9, 3.1, 4.9, 1.5),\n",
       "  (4.6, 3.1, 1.5, 0.2)],\n",
       " '_i14': '#features_test = [tuple(X) for X in features[pivot:]]\\nfeatures_test = [tuple(X) for num, X in enumerate(features) if num < pivot]  ',\n",
       " 'features_test': [(5.8, 2.7, 5.1, 1.9),\n",
       "  (5.1, 3.5, 1.4, 0.2),\n",
       "  (5.7, 2.8, 4.1, 1.3),\n",
       "  (6.3, 2.9, 5.6, 1.8),\n",
       "  (6.4, 3.2, 4.5, 1.5),\n",
       "  (4.7, 3.2, 1.3, 0.2),\n",
       "  (7.0, 3.2, 4.7, 1.4),\n",
       "  (7.6, 3.0, 6.6, 2.1),\n",
       "  (4.9, 3.0, 1.4, 0.2),\n",
       "  (4.9, 2.5, 4.5, 1.7),\n",
       "  (7.1, 3.0, 5.9, 2.1),\n",
       "  (4.6, 3.4, 1.4, 0.3)],\n",
       " '_i15': 'labels_train = [tuple(X) for num, X in enumerate(labels) if num > pivot]  ',\n",
       " 'labels_train': [('v', 'e', 'r', 's', 'i', 'c', 'o', 'l', 'o', 'r'),\n",
       "  ('s', 'e', 't', 'o', 's', 'a'),\n",
       "  ('v', 'e', 'r', 's', 'i', 'c', 'o', 'l', 'o', 'r'),\n",
       "  ('v', 'i', 'r', 'g', 'i', 'n', 'i', 'c', 'a'),\n",
       "  ('v', 'e', 'r', 's', 'i', 'c', 'o', 'l', 'o', 'r'),\n",
       "  ('v', 'i', 'r', 'g', 'i', 'n', 'i', 'c', 'a'),\n",
       "  ('v', 'e', 'r', 's', 'i', 'c', 'o', 'l', 'o', 'r'),\n",
       "  ('s', 'e', 't', 'o', 's', 'a')],\n",
       " '_i16': 'labels_test = [tuple(X) for num, X in enumerate(labels) if num < pivot] ',\n",
       " 'labels_test': [('v', 'i', 'r', 'g', 'i', 'n', 'i', 'c', 'a'),\n",
       "  ('s', 'e', 't', 'o', 's', 'a'),\n",
       "  ('v', 'e', 'r', 's', 'i', 'c', 'o', 'l', 'o', 'r'),\n",
       "  ('v', 'i', 'r', 'g', 'i', 'n', 'i', 'c', 'a'),\n",
       "  ('v', 'e', 'r', 's', 'i', 'c', 'o', 'l', 'o', 'r'),\n",
       "  ('s', 'e', 't', 'o', 's', 'a'),\n",
       "  ('v', 'e', 'r', 's', 'i', 'c', 'o', 'l', 'o', 'r'),\n",
       "  ('v', 'i', 'r', 'g', 'i', 'n', 'i', 'c', 'a'),\n",
       "  ('s', 'e', 't', 'o', 's', 'a'),\n",
       "  ('v', 'i', 'r', 'g', 'i', 'n', 'i', 'c', 'a'),\n",
       "  ('v', 'i', 'r', 'g', 'i', 'n', 'i', 'c', 'a'),\n",
       "  ('s', 'e', 't', 'o', 's', 'a')],\n",
       " '_i17': 'OUTPUT = X_train, X_test,y_tain,y_test',\n",
       " 'OUTPUT': ([(5.8, 2.7, 5.1, 1.9),\n",
       "   (5.1, 3.5, 1.4, 0.2),\n",
       "   (5.7, 2.8, 4.1, 1.3),\n",
       "   (6.3, 2.9, 5.6, 1.8),\n",
       "   (6.4, 3.2, 4.5, 1.5),\n",
       "   (4.7, 3.2, 1.3, 0.2),\n",
       "   (7.0, 3.2, 4.7, 1.4),\n",
       "   (7.6, 3.0, 6.6, 2.1),\n",
       "   (4.9, 3.0, 1.4, 0.2),\n",
       "   (4.9, 2.5, 4.5, 1.7),\n",
       "   (7.1, 3.0, 5.9, 2.1),\n",
       "   (4.6, 3.4, 1.4, 0.3)],\n",
       "  [(5.4, 3.9, 1.7, 0.4),\n",
       "   (5.7, 2.8, 4.5, 1.3),\n",
       "   (5.0, 3.6, 1.4, 0.3),\n",
       "   (5.5, 2.3, 4.0, 1.3),\n",
       "   (6.5, 3.0, 5.8, 2.2),\n",
       "   (6.5, 2.8, 4.6, 1.5),\n",
       "   (6.3, 3.3, 6.0, 2.5),\n",
       "   (6.9, 3.1, 4.9, 1.5),\n",
       "   (4.6, 3.1, 1.5, 0.2)],\n",
       "  ['virginica',\n",
       "   'setosa',\n",
       "   'versicolor',\n",
       "   'virginica',\n",
       "   'versicolor',\n",
       "   'setosa',\n",
       "   'versicolor',\n",
       "   'virginica',\n",
       "   'setosa',\n",
       "   'virginica',\n",
       "   'virginica',\n",
       "   'setosa'],\n",
       "  ['setosa',\n",
       "   'versicolor',\n",
       "   'setosa',\n",
       "   'versicolor',\n",
       "   'virginica',\n",
       "   'versicolor',\n",
       "   'virginica',\n",
       "   'versicolor',\n",
       "   'setosa']),\n",
       " '_i18': '\\'\\'\\'\\n\\n        Poproś użytkownika o wprowadzenie wieku\\n\\n        Jeżeli użytkownik ma więcej niż 18 lat\\n\\n        Wyrzuć wyjątek PermissionError z komunikatem \"Only for kids\"\\n\\n\\'\\'\\'\\nadult = 18\\n\\n\\nage = input(\\'Podaj wiek: \\')\\nif int(age) > adult:\\n    raise PermissionError(\\'Only for kids\\')',\n",
       " 'adult': 18,\n",
       " 'age': '',\n",
       " '_i19': '\\'\\'\\'\\n\\n        Poproś użytkownika o wprowadzenie temperatury w Kelwinach\\n\\n        Przekonwertuj temperaturę do float\\n\\n        Wypisz \"Invalid temperature\" jak nie można rzutować do float\\n\\n        Wypisz temperaturę\\n\\n\\'\\'\\'\\n\\nkelwin = input(\\'Podaj temperatue w kelwinach:\\')\\n\\ntry:\\n    kelwin = float(kelwin)\\nexcept Exception:\\n    print(\\'Invalid temperature\\', str(kelwin))',\n",
       " 'kelwin': '',\n",
       " '_i20': \"'''\\n\\n        Poproś użytkownika o wprowadzenie temperatury w Kelwinach\\n\\n        Użytkownik zawsze poda poprawne int lub float\\n\\n        Zdefiniuj wyjątek dla temperatur ujemnych\\n\\n        Podnieś własny wyjątek jeżeli temperatura jest poniżej 0\\n\\n'''\\nclass belowZeroError(Exception):\\n    pass\\n\\n\\n\\nkelwin = input('Podaj temperatue w kelwinach:')\\n\\n\\nkelwin = float(kelwin)\\nif kelwin < 0:\\n    raise belowZeroError('below 0')\",\n",
       " 'belowZeroError': __main__.belowZeroError,\n",
       " '_i21': \"def hello():\\n    '''\\n\\n        Zdefiniuj funkcję hello\\n\\n        Wypisz Ehlo World! na ekranie\\n\\n        Wywołaj funkcję trzy razy\\n\\n'''\\n    print('Ehlo World!')\\n\\n    \\nhello()\",\n",
       " 'hello': <function __main__.hello()>,\n",
       " '_i22': 'hello?',\n",
       " '_i23': 'def add(a,b):\\n    return a+b\\n\\nsuma = add(100.3, 200)\\nprint(suma)',\n",
       " 'add': <function __main__.add(a, b)>,\n",
       " 'suma': 300.3,\n",
       " '_i24': 'def divide(a,b):\\n    \\'\\'\\'\\n\\n        Zdefiniuj funkcję divide\\n\\n        Funkcja przyjmuje dwa argumenty\\n\\n        Funkcja zwraca wynik dzielenia jej argumentów\\n\\n        Wywołaj funkcję z divide(10, 3)\\n\\n        Wywołaj funkcję z divide(10, 0)\\n\\n        Wypisz zwracane wartości\\n\\n        Co zrobić w przypadku błędu?\\n\\n\\'\\'\\'\\n\\n    try:\\n        div = a/b\\n        return div\\n    except ZeroDivisionError:\\n        print(\"Dzielenie przez zero nie dozwolone\")\\n    \\nprint(divide(10,3))\\nprint(divide(10,0))',\n",
       " 'divide': <function __main__.divide(a, b)>,\n",
       " '_i25': \"def power(a, b=None):\\n    \\n    '''\\n\\n        Zdefiniuj funkcję power\\n\\n        Funkcja przyjmuje dwa argumenty\\n\\n        Drugi argument jest opcjonalny\\n\\n        Funkcja zwraca wynik pierwszego argumentu do potęgi drugiego\\n\\n        Jeżeli tylko jeden argument był podany, przyjmij drugi równy pierwszemu\\n\\n        Wypisz zwracane wartości\\n\\n'''\\n    if b == None:\\n        return a**a\\n    else:\\n        return a**b\\n\\npower(10, 2)\\npower(3)\",\n",
       " 'power': <function __main__.power(a, b=None)>,\n",
       " '_25': 27,\n",
       " '_i26': \"def clear(text):\\n    '''\\n\\n        Dla danych wejściowych (patrz sekcja input)\\n\\n        Napisz funkcję czyszczącą dane\\n\\n        Funkcja przyjmuje jeden argument typu str\\n\\n        Funkcja zwraca oczyszczony tekst\\n\\n'''\\n    text = text.upper()\\n    text = text.replace('UL.', '')\\n    text = text.replace('\\\\t', '')\\n    text = text.replace('3', 'III')\\n    text = text.title()\\n    text = text.replace('Iii', 'III')\\n    text = text.strip()    \\n    \\n    return text\",\n",
       " 'clear': <function __main__.clear(text)>,\n",
       " '_i27': \"INPUT = [\\n    'ul.Mieszka II',\\n    'UL. Zygmunta III WaZY',\\n    '  bolesława chrobrego ',\\n    'ul Jana III SobIESkiego',\\n    '\\\\tul. Jana trzeciego Sobieskiego',\\n    'ulicaJana III Sobieskiego',\\n    'UL. JA    NA 3 SOBIES  KIEGO',\\n    'ULICA JANA III SOBIESKIEGO  ',\\n    'ULICA. JANA III SOBIeskieGO',\\n    ' Jana 3 Sobieskiego  ',\\n    'Jana III Sobi  eskiego ',\\n]\\n\\nprint(clear(INPUT[0]))\",\n",
       " '_i28': 'def number_text(number):\\n    dictionery = { \\'0\\': \"zero\",\\'1\\': \"one\",\\'2\\': \"two\",\\'3\\': \"tree\",\\'4\\': \"fower\",\\'5\\': \"fife\",\\'6\\': \"six\",\\'7\\': \"seven\",\\n                  \\'8\\': \"ait\",\\'9\\': \"niner\", \\'-\\': \\'minus\\', \\'.\\': \\'and\\' }\\n\\n    return \\' \\'.join(dictionery[char] for char in str(number))',\n",
       " 'number_text': <function __main__.number_text(number)>,\n",
       " '_i29': 'number_text(31337)',\n",
       " '_29': 'tree one tree tree seven',\n",
       " '_i30': 'number_text(-31.337)',\n",
       " '_30': 'minus tree one and tree tree seven',\n",
       " '_i31': 'globals()'}"
      ]
     },
     "execution_count": 31,
     "metadata": {},
     "output_type": "execute_result"
    }
   ],
   "source": [
    "globals()"
   ]
  },
  {
   "cell_type": "code",
   "execution_count": 32,
   "metadata": {},
   "outputs": [
    {
     "data": {
      "text/plain": [
       "{'__name__': '__main__',\n",
       " '__doc__': '\\n\\n        Poproś użytkownika o wprowadzenie temperatury w Kelwinach\\n\\n        Użytkownik zawsze poda poprawne int lub float\\n\\n        Zdefiniuj wyjątek dla temperatur ujemnych\\n\\n        Podnieś własny wyjątek jeżeli temperatura jest poniżej 0\\n\\n',\n",
       " '__package__': None,\n",
       " '__loader__': None,\n",
       " '__spec__': None,\n",
       " '__builtin__': <module 'builtins' (built-in)>,\n",
       " '__builtins__': <module 'builtins' (built-in)>,\n",
       " '_ih': ['',\n",
       "  \"header = ['a','b', 'c']\",\n",
       "  '{k:v for k,v in enumerate(header)}',\n",
       "  'data = [888, 77,44]',\n",
       "  '{k:v for k,v in zip(header, data)}',\n",
       "  \"DATA = [\\n    '5.8,2.7,5.1,1.9,virginica',\\n    '5.1,3.5,1.4,0.2,setosa',\\n    '5.7,2.8,4.1,1.3,versicolor',\\n]\\n\\noutput = [row.split(',') for row in DATA]\\n\\nprint(output)\",\n",
       "  '# header, *data = INPUT\\nheader = INPUT[0]\\ndata = INPUT[1:]',\n",
       "  \"INPUT = [\\n    ('Sepal length', 'Sepal width', 'Petal length', 'Petal width', 'Species'),\\n    (5.8, 2.7, 5.1, 1.9, 'virginica'),\\n    (5.1, 3.5, 1.4, 0.2, 'setosa'),\\n    (5.7, 2.8, 4.1, 1.3, 'versicolor'),\\n    (6.3, 2.9, 5.6, 1.8, 'virginica'),\\n    (6.4, 3.2, 4.5, 1.5, 'versicolor'),\\n    (4.7, 3.2, 1.3, 0.2, 'setosa'),\\n    (7.0, 3.2, 4.7, 1.4, 'versicolor'),\\n    (7.6, 3.0, 6.6, 2.1, 'virginica'),\\n    (4.9, 3.0, 1.4, 0.2, 'setosa'),\\n    (4.9, 2.5, 4.5, 1.7, 'virginica'),\\n    (7.1, 3.0, 5.9, 2.1, 'virginica'),\\n    (4.6, 3.4, 1.4, 0.3, 'setosa'),\\n    (5.4, 3.9, 1.7, 0.4, 'setosa'),\\n    (5.7, 2.8, 4.5, 1.3, 'versicolor'),\\n    (5.0, 3.6, 1.4, 0.3, 'setosa'),\\n    (5.5, 2.3, 4.0, 1.3, 'versicolor'),\\n    (6.5, 3.0, 5.8, 2.2, 'virginica'),\\n    (6.5, 2.8, 4.6, 1.5, 'versicolor'),\\n    (6.3, 3.3, 6.0, 2.5, 'virginica'),\\n    (6.9, 3.1, 4.9, 1.5, 'versicolor'),\\n    (4.6, 3.1, 1.5, 0.2, 'setosa'),\\n]\",\n",
       "  \"INPUT = [\\n    ('Sepal length', 'Sepal width', 'Petal length', 'Petal width', 'Species'),\\n    (5.8, 2.7, 5.1, 1.9, 'virginica'),\\n    (5.1, 3.5, 1.4, 0.2, 'setosa'),\\n    (5.7, 2.8, 4.1, 1.3, 'versicolor'),\\n    (6.3, 2.9, 5.6, 1.8, 'virginica'),\\n    (6.4, 3.2, 4.5, 1.5, 'versicolor'),\\n    (4.7, 3.2, 1.3, 0.2, 'setosa'),\\n    (7.0, 3.2, 4.7, 1.4, 'versicolor'),\\n    (7.6, 3.0, 6.6, 2.1, 'virginica'),\\n    (4.9, 3.0, 1.4, 0.2, 'setosa'),\\n    (4.9, 2.5, 4.5, 1.7, 'virginica'),\\n    (7.1, 3.0, 5.9, 2.1, 'virginica'),\\n    (4.6, 3.4, 1.4, 0.3, 'setosa'),\\n    (5.4, 3.9, 1.7, 0.4, 'setosa'),\\n    (5.7, 2.8, 4.5, 1.3, 'versicolor'),\\n    (5.0, 3.6, 1.4, 0.3, 'setosa'),\\n    (5.5, 2.3, 4.0, 1.3, 'versicolor'),\\n    (6.5, 3.0, 5.8, 2.2, 'virginica'),\\n    (6.5, 2.8, 4.6, 1.5, 'versicolor'),\\n    (6.3, 3.3, 6.0, 2.5, 'virginica'),\\n    (6.9, 3.1, 4.9, 1.5, 'versicolor'),\\n    (4.6, 3.1, 1.5, 0.2, 'setosa'),\\n]\",\n",
       "  '# header, *data = INPUT\\nheader = INPUT[0]\\ndata = INPUT[1:]',\n",
       "  'pivot = len(data) * 0.6\\npivot = int(pivot)',\n",
       "  'features = [tuple(features) for *features,labels in data ]\\nX_train = features[:pivot]\\nX_test = features[pivot:]',\n",
       "  'labels = [labels for *features,labels in data ]\\ny_test = labels[pivot:]\\ny_tain = labels[:pivot]',\n",
       "  '#features_train = [tuple(X) for X in features[:pivot]]\\nfeatures_train = [tuple(X) for num, X in enumerate(features) if num > pivot]  ',\n",
       "  '#features_test = [tuple(X) for X in features[pivot:]]\\nfeatures_test = [tuple(X) for num, X in enumerate(features) if num < pivot]  ',\n",
       "  'labels_train = [tuple(X) for num, X in enumerate(labels) if num > pivot]  ',\n",
       "  'labels_test = [tuple(X) for num, X in enumerate(labels) if num < pivot] ',\n",
       "  'OUTPUT = X_train, X_test,y_tain,y_test',\n",
       "  '\\'\\'\\'\\n\\n        Poproś użytkownika o wprowadzenie wieku\\n\\n        Jeżeli użytkownik ma więcej niż 18 lat\\n\\n        Wyrzuć wyjątek PermissionError z komunikatem \"Only for kids\"\\n\\n\\'\\'\\'\\nadult = 18\\n\\n\\nage = input(\\'Podaj wiek: \\')\\nif int(age) > adult:\\n    raise PermissionError(\\'Only for kids\\')',\n",
       "  '\\'\\'\\'\\n\\n        Poproś użytkownika o wprowadzenie temperatury w Kelwinach\\n\\n        Przekonwertuj temperaturę do float\\n\\n        Wypisz \"Invalid temperature\" jak nie można rzutować do float\\n\\n        Wypisz temperaturę\\n\\n\\'\\'\\'\\n\\nkelwin = input(\\'Podaj temperatue w kelwinach:\\')\\n\\ntry:\\n    kelwin = float(kelwin)\\nexcept Exception:\\n    print(\\'Invalid temperature\\', str(kelwin))',\n",
       "  \"'''\\n\\n        Poproś użytkownika o wprowadzenie temperatury w Kelwinach\\n\\n        Użytkownik zawsze poda poprawne int lub float\\n\\n        Zdefiniuj wyjątek dla temperatur ujemnych\\n\\n        Podnieś własny wyjątek jeżeli temperatura jest poniżej 0\\n\\n'''\\nclass belowZeroError(Exception):\\n    pass\\n\\n\\n\\nkelwin = input('Podaj temperatue w kelwinach:')\\n\\n\\nkelwin = float(kelwin)\\nif kelwin < 0:\\n    raise belowZeroError('below 0')\",\n",
       "  \"def hello():\\n    '''\\n\\n        Zdefiniuj funkcję hello\\n\\n        Wypisz Ehlo World! na ekranie\\n\\n        Wywołaj funkcję trzy razy\\n\\n'''\\n    print('Ehlo World!')\\n\\n    \\nhello()\",\n",
       "  \"get_ipython().run_line_magic('pinfo', 'hello')\",\n",
       "  'def add(a,b):\\n    return a+b\\n\\nsuma = add(100.3, 200)\\nprint(suma)',\n",
       "  'def divide(a,b):\\n    \\'\\'\\'\\n\\n        Zdefiniuj funkcję divide\\n\\n        Funkcja przyjmuje dwa argumenty\\n\\n        Funkcja zwraca wynik dzielenia jej argumentów\\n\\n        Wywołaj funkcję z divide(10, 3)\\n\\n        Wywołaj funkcję z divide(10, 0)\\n\\n        Wypisz zwracane wartości\\n\\n        Co zrobić w przypadku błędu?\\n\\n\\'\\'\\'\\n\\n    try:\\n        div = a/b\\n        return div\\n    except ZeroDivisionError:\\n        print(\"Dzielenie przez zero nie dozwolone\")\\n    \\nprint(divide(10,3))\\nprint(divide(10,0))',\n",
       "  \"def power(a, b=None):\\n    \\n    '''\\n\\n        Zdefiniuj funkcję power\\n\\n        Funkcja przyjmuje dwa argumenty\\n\\n        Drugi argument jest opcjonalny\\n\\n        Funkcja zwraca wynik pierwszego argumentu do potęgi drugiego\\n\\n        Jeżeli tylko jeden argument był podany, przyjmij drugi równy pierwszemu\\n\\n        Wypisz zwracane wartości\\n\\n'''\\n    if b == None:\\n        return a**a\\n    else:\\n        return a**b\\n\\npower(10, 2)\\npower(3)\",\n",
       "  \"def clear(text):\\n    '''\\n\\n        Dla danych wejściowych (patrz sekcja input)\\n\\n        Napisz funkcję czyszczącą dane\\n\\n        Funkcja przyjmuje jeden argument typu str\\n\\n        Funkcja zwraca oczyszczony tekst\\n\\n'''\\n    text = text.upper()\\n    text = text.replace('UL.', '')\\n    text = text.replace('\\\\t', '')\\n    text = text.replace('3', 'III')\\n    text = text.title()\\n    text = text.replace('Iii', 'III')\\n    text = text.strip()    \\n    \\n    return text\",\n",
       "  \"INPUT = [\\n    'ul.Mieszka II',\\n    'UL. Zygmunta III WaZY',\\n    '  bolesława chrobrego ',\\n    'ul Jana III SobIESkiego',\\n    '\\\\tul. Jana trzeciego Sobieskiego',\\n    'ulicaJana III Sobieskiego',\\n    'UL. JA    NA 3 SOBIES  KIEGO',\\n    'ULICA JANA III SOBIESKIEGO  ',\\n    'ULICA. JANA III SOBIeskieGO',\\n    ' Jana 3 Sobieskiego  ',\\n    'Jana III Sobi  eskiego ',\\n]\\n\\nprint(clear(INPUT[0]))\",\n",
       "  'def number_text(number):\\n    dictionery = { \\'0\\': \"zero\",\\'1\\': \"one\",\\'2\\': \"two\",\\'3\\': \"tree\",\\'4\\': \"fower\",\\'5\\': \"fife\",\\'6\\': \"six\",\\'7\\': \"seven\",\\n                  \\'8\\': \"ait\",\\'9\\': \"niner\", \\'-\\': \\'minus\\', \\'.\\': \\'and\\' }\\n\\n    return \\' \\'.join(dictionery[char] for char in str(number))',\n",
       "  'number_text(31337)',\n",
       "  'number_text(-31.337)',\n",
       "  'globals()',\n",
       "  'locals()'],\n",
       " '_oh': {2: {0: 'a', 1: 'b', 2: 'c'},\n",
       "  4: {'a': 888, 'b': 77, 'c': 44},\n",
       "  25: 27,\n",
       "  29: 'tree one tree tree seven',\n",
       "  30: 'minus tree one and tree tree seven',\n",
       "  31: {...}},\n",
       " '_dh': ['/home/kodolamacz/src/Bootcamp'],\n",
       " 'In': ['',\n",
       "  \"header = ['a','b', 'c']\",\n",
       "  '{k:v for k,v in enumerate(header)}',\n",
       "  'data = [888, 77,44]',\n",
       "  '{k:v for k,v in zip(header, data)}',\n",
       "  \"DATA = [\\n    '5.8,2.7,5.1,1.9,virginica',\\n    '5.1,3.5,1.4,0.2,setosa',\\n    '5.7,2.8,4.1,1.3,versicolor',\\n]\\n\\noutput = [row.split(',') for row in DATA]\\n\\nprint(output)\",\n",
       "  '# header, *data = INPUT\\nheader = INPUT[0]\\ndata = INPUT[1:]',\n",
       "  \"INPUT = [\\n    ('Sepal length', 'Sepal width', 'Petal length', 'Petal width', 'Species'),\\n    (5.8, 2.7, 5.1, 1.9, 'virginica'),\\n    (5.1, 3.5, 1.4, 0.2, 'setosa'),\\n    (5.7, 2.8, 4.1, 1.3, 'versicolor'),\\n    (6.3, 2.9, 5.6, 1.8, 'virginica'),\\n    (6.4, 3.2, 4.5, 1.5, 'versicolor'),\\n    (4.7, 3.2, 1.3, 0.2, 'setosa'),\\n    (7.0, 3.2, 4.7, 1.4, 'versicolor'),\\n    (7.6, 3.0, 6.6, 2.1, 'virginica'),\\n    (4.9, 3.0, 1.4, 0.2, 'setosa'),\\n    (4.9, 2.5, 4.5, 1.7, 'virginica'),\\n    (7.1, 3.0, 5.9, 2.1, 'virginica'),\\n    (4.6, 3.4, 1.4, 0.3, 'setosa'),\\n    (5.4, 3.9, 1.7, 0.4, 'setosa'),\\n    (5.7, 2.8, 4.5, 1.3, 'versicolor'),\\n    (5.0, 3.6, 1.4, 0.3, 'setosa'),\\n    (5.5, 2.3, 4.0, 1.3, 'versicolor'),\\n    (6.5, 3.0, 5.8, 2.2, 'virginica'),\\n    (6.5, 2.8, 4.6, 1.5, 'versicolor'),\\n    (6.3, 3.3, 6.0, 2.5, 'virginica'),\\n    (6.9, 3.1, 4.9, 1.5, 'versicolor'),\\n    (4.6, 3.1, 1.5, 0.2, 'setosa'),\\n]\",\n",
       "  \"INPUT = [\\n    ('Sepal length', 'Sepal width', 'Petal length', 'Petal width', 'Species'),\\n    (5.8, 2.7, 5.1, 1.9, 'virginica'),\\n    (5.1, 3.5, 1.4, 0.2, 'setosa'),\\n    (5.7, 2.8, 4.1, 1.3, 'versicolor'),\\n    (6.3, 2.9, 5.6, 1.8, 'virginica'),\\n    (6.4, 3.2, 4.5, 1.5, 'versicolor'),\\n    (4.7, 3.2, 1.3, 0.2, 'setosa'),\\n    (7.0, 3.2, 4.7, 1.4, 'versicolor'),\\n    (7.6, 3.0, 6.6, 2.1, 'virginica'),\\n    (4.9, 3.0, 1.4, 0.2, 'setosa'),\\n    (4.9, 2.5, 4.5, 1.7, 'virginica'),\\n    (7.1, 3.0, 5.9, 2.1, 'virginica'),\\n    (4.6, 3.4, 1.4, 0.3, 'setosa'),\\n    (5.4, 3.9, 1.7, 0.4, 'setosa'),\\n    (5.7, 2.8, 4.5, 1.3, 'versicolor'),\\n    (5.0, 3.6, 1.4, 0.3, 'setosa'),\\n    (5.5, 2.3, 4.0, 1.3, 'versicolor'),\\n    (6.5, 3.0, 5.8, 2.2, 'virginica'),\\n    (6.5, 2.8, 4.6, 1.5, 'versicolor'),\\n    (6.3, 3.3, 6.0, 2.5, 'virginica'),\\n    (6.9, 3.1, 4.9, 1.5, 'versicolor'),\\n    (4.6, 3.1, 1.5, 0.2, 'setosa'),\\n]\",\n",
       "  '# header, *data = INPUT\\nheader = INPUT[0]\\ndata = INPUT[1:]',\n",
       "  'pivot = len(data) * 0.6\\npivot = int(pivot)',\n",
       "  'features = [tuple(features) for *features,labels in data ]\\nX_train = features[:pivot]\\nX_test = features[pivot:]',\n",
       "  'labels = [labels for *features,labels in data ]\\ny_test = labels[pivot:]\\ny_tain = labels[:pivot]',\n",
       "  '#features_train = [tuple(X) for X in features[:pivot]]\\nfeatures_train = [tuple(X) for num, X in enumerate(features) if num > pivot]  ',\n",
       "  '#features_test = [tuple(X) for X in features[pivot:]]\\nfeatures_test = [tuple(X) for num, X in enumerate(features) if num < pivot]  ',\n",
       "  'labels_train = [tuple(X) for num, X in enumerate(labels) if num > pivot]  ',\n",
       "  'labels_test = [tuple(X) for num, X in enumerate(labels) if num < pivot] ',\n",
       "  'OUTPUT = X_train, X_test,y_tain,y_test',\n",
       "  '\\'\\'\\'\\n\\n        Poproś użytkownika o wprowadzenie wieku\\n\\n        Jeżeli użytkownik ma więcej niż 18 lat\\n\\n        Wyrzuć wyjątek PermissionError z komunikatem \"Only for kids\"\\n\\n\\'\\'\\'\\nadult = 18\\n\\n\\nage = input(\\'Podaj wiek: \\')\\nif int(age) > adult:\\n    raise PermissionError(\\'Only for kids\\')',\n",
       "  '\\'\\'\\'\\n\\n        Poproś użytkownika o wprowadzenie temperatury w Kelwinach\\n\\n        Przekonwertuj temperaturę do float\\n\\n        Wypisz \"Invalid temperature\" jak nie można rzutować do float\\n\\n        Wypisz temperaturę\\n\\n\\'\\'\\'\\n\\nkelwin = input(\\'Podaj temperatue w kelwinach:\\')\\n\\ntry:\\n    kelwin = float(kelwin)\\nexcept Exception:\\n    print(\\'Invalid temperature\\', str(kelwin))',\n",
       "  \"'''\\n\\n        Poproś użytkownika o wprowadzenie temperatury w Kelwinach\\n\\n        Użytkownik zawsze poda poprawne int lub float\\n\\n        Zdefiniuj wyjątek dla temperatur ujemnych\\n\\n        Podnieś własny wyjątek jeżeli temperatura jest poniżej 0\\n\\n'''\\nclass belowZeroError(Exception):\\n    pass\\n\\n\\n\\nkelwin = input('Podaj temperatue w kelwinach:')\\n\\n\\nkelwin = float(kelwin)\\nif kelwin < 0:\\n    raise belowZeroError('below 0')\",\n",
       "  \"def hello():\\n    '''\\n\\n        Zdefiniuj funkcję hello\\n\\n        Wypisz Ehlo World! na ekranie\\n\\n        Wywołaj funkcję trzy razy\\n\\n'''\\n    print('Ehlo World!')\\n\\n    \\nhello()\",\n",
       "  \"get_ipython().run_line_magic('pinfo', 'hello')\",\n",
       "  'def add(a,b):\\n    return a+b\\n\\nsuma = add(100.3, 200)\\nprint(suma)',\n",
       "  'def divide(a,b):\\n    \\'\\'\\'\\n\\n        Zdefiniuj funkcję divide\\n\\n        Funkcja przyjmuje dwa argumenty\\n\\n        Funkcja zwraca wynik dzielenia jej argumentów\\n\\n        Wywołaj funkcję z divide(10, 3)\\n\\n        Wywołaj funkcję z divide(10, 0)\\n\\n        Wypisz zwracane wartości\\n\\n        Co zrobić w przypadku błędu?\\n\\n\\'\\'\\'\\n\\n    try:\\n        div = a/b\\n        return div\\n    except ZeroDivisionError:\\n        print(\"Dzielenie przez zero nie dozwolone\")\\n    \\nprint(divide(10,3))\\nprint(divide(10,0))',\n",
       "  \"def power(a, b=None):\\n    \\n    '''\\n\\n        Zdefiniuj funkcję power\\n\\n        Funkcja przyjmuje dwa argumenty\\n\\n        Drugi argument jest opcjonalny\\n\\n        Funkcja zwraca wynik pierwszego argumentu do potęgi drugiego\\n\\n        Jeżeli tylko jeden argument był podany, przyjmij drugi równy pierwszemu\\n\\n        Wypisz zwracane wartości\\n\\n'''\\n    if b == None:\\n        return a**a\\n    else:\\n        return a**b\\n\\npower(10, 2)\\npower(3)\",\n",
       "  \"def clear(text):\\n    '''\\n\\n        Dla danych wejściowych (patrz sekcja input)\\n\\n        Napisz funkcję czyszczącą dane\\n\\n        Funkcja przyjmuje jeden argument typu str\\n\\n        Funkcja zwraca oczyszczony tekst\\n\\n'''\\n    text = text.upper()\\n    text = text.replace('UL.', '')\\n    text = text.replace('\\\\t', '')\\n    text = text.replace('3', 'III')\\n    text = text.title()\\n    text = text.replace('Iii', 'III')\\n    text = text.strip()    \\n    \\n    return text\",\n",
       "  \"INPUT = [\\n    'ul.Mieszka II',\\n    'UL. Zygmunta III WaZY',\\n    '  bolesława chrobrego ',\\n    'ul Jana III SobIESkiego',\\n    '\\\\tul. Jana trzeciego Sobieskiego',\\n    'ulicaJana III Sobieskiego',\\n    'UL. JA    NA 3 SOBIES  KIEGO',\\n    'ULICA JANA III SOBIESKIEGO  ',\\n    'ULICA. JANA III SOBIeskieGO',\\n    ' Jana 3 Sobieskiego  ',\\n    'Jana III Sobi  eskiego ',\\n]\\n\\nprint(clear(INPUT[0]))\",\n",
       "  'def number_text(number):\\n    dictionery = { \\'0\\': \"zero\",\\'1\\': \"one\",\\'2\\': \"two\",\\'3\\': \"tree\",\\'4\\': \"fower\",\\'5\\': \"fife\",\\'6\\': \"six\",\\'7\\': \"seven\",\\n                  \\'8\\': \"ait\",\\'9\\': \"niner\", \\'-\\': \\'minus\\', \\'.\\': \\'and\\' }\\n\\n    return \\' \\'.join(dictionery[char] for char in str(number))',\n",
       "  'number_text(31337)',\n",
       "  'number_text(-31.337)',\n",
       "  'globals()',\n",
       "  'locals()'],\n",
       " 'Out': {2: {0: 'a', 1: 'b', 2: 'c'},\n",
       "  4: {'a': 888, 'b': 77, 'c': 44},\n",
       "  25: 27,\n",
       "  29: 'tree one tree tree seven',\n",
       "  30: 'minus tree one and tree tree seven',\n",
       "  31: {...}},\n",
       " 'get_ipython': <bound method InteractiveShell.get_ipython of <ipykernel.zmqshell.ZMQInteractiveShell object at 0x7fd3cb99cda0>>,\n",
       " 'exit': <IPython.core.autocall.ZMQExitAutocall at 0x7fd3c65d1630>,\n",
       " 'quit': <IPython.core.autocall.ZMQExitAutocall at 0x7fd3c65d1630>,\n",
       " '_': {...},\n",
       " '__': 'minus tree one and tree tree seven',\n",
       " '___': 'tree one tree tree seven',\n",
       " '_i': 'globals()',\n",
       " '_ii': 'number_text(-31.337)',\n",
       " '_iii': 'number_text(31337)',\n",
       " '_i1': \"header = ['a','b', 'c']\",\n",
       " 'header': ('Sepal length',\n",
       "  'Sepal width',\n",
       "  'Petal length',\n",
       "  'Petal width',\n",
       "  'Species'),\n",
       " '_i2': '{k:v for k,v in enumerate(header)}',\n",
       " '_2': {0: 'a', 1: 'b', 2: 'c'},\n",
       " '_i3': 'data = [888, 77,44]',\n",
       " 'data': [(5.8, 2.7, 5.1, 1.9, 'virginica'),\n",
       "  (5.1, 3.5, 1.4, 0.2, 'setosa'),\n",
       "  (5.7, 2.8, 4.1, 1.3, 'versicolor'),\n",
       "  (6.3, 2.9, 5.6, 1.8, 'virginica'),\n",
       "  (6.4, 3.2, 4.5, 1.5, 'versicolor'),\n",
       "  (4.7, 3.2, 1.3, 0.2, 'setosa'),\n",
       "  (7.0, 3.2, 4.7, 1.4, 'versicolor'),\n",
       "  (7.6, 3.0, 6.6, 2.1, 'virginica'),\n",
       "  (4.9, 3.0, 1.4, 0.2, 'setosa'),\n",
       "  (4.9, 2.5, 4.5, 1.7, 'virginica'),\n",
       "  (7.1, 3.0, 5.9, 2.1, 'virginica'),\n",
       "  (4.6, 3.4, 1.4, 0.3, 'setosa'),\n",
       "  (5.4, 3.9, 1.7, 0.4, 'setosa'),\n",
       "  (5.7, 2.8, 4.5, 1.3, 'versicolor'),\n",
       "  (5.0, 3.6, 1.4, 0.3, 'setosa'),\n",
       "  (5.5, 2.3, 4.0, 1.3, 'versicolor'),\n",
       "  (6.5, 3.0, 5.8, 2.2, 'virginica'),\n",
       "  (6.5, 2.8, 4.6, 1.5, 'versicolor'),\n",
       "  (6.3, 3.3, 6.0, 2.5, 'virginica'),\n",
       "  (6.9, 3.1, 4.9, 1.5, 'versicolor'),\n",
       "  (4.6, 3.1, 1.5, 0.2, 'setosa')],\n",
       " '_i4': '{k:v for k,v in zip(header, data)}',\n",
       " '_4': {'a': 888, 'b': 77, 'c': 44},\n",
       " '_i5': \"DATA = [\\n    '5.8,2.7,5.1,1.9,virginica',\\n    '5.1,3.5,1.4,0.2,setosa',\\n    '5.7,2.8,4.1,1.3,versicolor',\\n]\\n\\noutput = [row.split(',') for row in DATA]\\n\\nprint(output)\",\n",
       " 'DATA': ['5.8,2.7,5.1,1.9,virginica',\n",
       "  '5.1,3.5,1.4,0.2,setosa',\n",
       "  '5.7,2.8,4.1,1.3,versicolor'],\n",
       " 'output': [['5.8', '2.7', '5.1', '1.9', 'virginica'],\n",
       "  ['5.1', '3.5', '1.4', '0.2', 'setosa'],\n",
       "  ['5.7', '2.8', '4.1', '1.3', 'versicolor']],\n",
       " '_i6': '# header, *data = INPUT\\nheader = INPUT[0]\\ndata = INPUT[1:]',\n",
       " '_i7': \"INPUT = [\\n    ('Sepal length', 'Sepal width', 'Petal length', 'Petal width', 'Species'),\\n    (5.8, 2.7, 5.1, 1.9, 'virginica'),\\n    (5.1, 3.5, 1.4, 0.2, 'setosa'),\\n    (5.7, 2.8, 4.1, 1.3, 'versicolor'),\\n    (6.3, 2.9, 5.6, 1.8, 'virginica'),\\n    (6.4, 3.2, 4.5, 1.5, 'versicolor'),\\n    (4.7, 3.2, 1.3, 0.2, 'setosa'),\\n    (7.0, 3.2, 4.7, 1.4, 'versicolor'),\\n    (7.6, 3.0, 6.6, 2.1, 'virginica'),\\n    (4.9, 3.0, 1.4, 0.2, 'setosa'),\\n    (4.9, 2.5, 4.5, 1.7, 'virginica'),\\n    (7.1, 3.0, 5.9, 2.1, 'virginica'),\\n    (4.6, 3.4, 1.4, 0.3, 'setosa'),\\n    (5.4, 3.9, 1.7, 0.4, 'setosa'),\\n    (5.7, 2.8, 4.5, 1.3, 'versicolor'),\\n    (5.0, 3.6, 1.4, 0.3, 'setosa'),\\n    (5.5, 2.3, 4.0, 1.3, 'versicolor'),\\n    (6.5, 3.0, 5.8, 2.2, 'virginica'),\\n    (6.5, 2.8, 4.6, 1.5, 'versicolor'),\\n    (6.3, 3.3, 6.0, 2.5, 'virginica'),\\n    (6.9, 3.1, 4.9, 1.5, 'versicolor'),\\n    (4.6, 3.1, 1.5, 0.2, 'setosa'),\\n]\",\n",
       " 'INPUT': ['ul.Mieszka II',\n",
       "  'UL. Zygmunta III WaZY',\n",
       "  '  bolesława chrobrego ',\n",
       "  'ul Jana III SobIESkiego',\n",
       "  '\\tul. Jana trzeciego Sobieskiego',\n",
       "  'ulicaJana III Sobieskiego',\n",
       "  'UL. JA    NA 3 SOBIES  KIEGO',\n",
       "  'ULICA JANA III SOBIESKIEGO  ',\n",
       "  'ULICA. JANA III SOBIeskieGO',\n",
       "  ' Jana 3 Sobieskiego  ',\n",
       "  'Jana III Sobi  eskiego '],\n",
       " '_i8': \"INPUT = [\\n    ('Sepal length', 'Sepal width', 'Petal length', 'Petal width', 'Species'),\\n    (5.8, 2.7, 5.1, 1.9, 'virginica'),\\n    (5.1, 3.5, 1.4, 0.2, 'setosa'),\\n    (5.7, 2.8, 4.1, 1.3, 'versicolor'),\\n    (6.3, 2.9, 5.6, 1.8, 'virginica'),\\n    (6.4, 3.2, 4.5, 1.5, 'versicolor'),\\n    (4.7, 3.2, 1.3, 0.2, 'setosa'),\\n    (7.0, 3.2, 4.7, 1.4, 'versicolor'),\\n    (7.6, 3.0, 6.6, 2.1, 'virginica'),\\n    (4.9, 3.0, 1.4, 0.2, 'setosa'),\\n    (4.9, 2.5, 4.5, 1.7, 'virginica'),\\n    (7.1, 3.0, 5.9, 2.1, 'virginica'),\\n    (4.6, 3.4, 1.4, 0.3, 'setosa'),\\n    (5.4, 3.9, 1.7, 0.4, 'setosa'),\\n    (5.7, 2.8, 4.5, 1.3, 'versicolor'),\\n    (5.0, 3.6, 1.4, 0.3, 'setosa'),\\n    (5.5, 2.3, 4.0, 1.3, 'versicolor'),\\n    (6.5, 3.0, 5.8, 2.2, 'virginica'),\\n    (6.5, 2.8, 4.6, 1.5, 'versicolor'),\\n    (6.3, 3.3, 6.0, 2.5, 'virginica'),\\n    (6.9, 3.1, 4.9, 1.5, 'versicolor'),\\n    (4.6, 3.1, 1.5, 0.2, 'setosa'),\\n]\",\n",
       " '_i9': '# header, *data = INPUT\\nheader = INPUT[0]\\ndata = INPUT[1:]',\n",
       " '_i10': 'pivot = len(data) * 0.6\\npivot = int(pivot)',\n",
       " 'pivot': 12,\n",
       " '_i11': 'features = [tuple(features) for *features,labels in data ]\\nX_train = features[:pivot]\\nX_test = features[pivot:]',\n",
       " 'features': [(5.8, 2.7, 5.1, 1.9),\n",
       "  (5.1, 3.5, 1.4, 0.2),\n",
       "  (5.7, 2.8, 4.1, 1.3),\n",
       "  (6.3, 2.9, 5.6, 1.8),\n",
       "  (6.4, 3.2, 4.5, 1.5),\n",
       "  (4.7, 3.2, 1.3, 0.2),\n",
       "  (7.0, 3.2, 4.7, 1.4),\n",
       "  (7.6, 3.0, 6.6, 2.1),\n",
       "  (4.9, 3.0, 1.4, 0.2),\n",
       "  (4.9, 2.5, 4.5, 1.7),\n",
       "  (7.1, 3.0, 5.9, 2.1),\n",
       "  (4.6, 3.4, 1.4, 0.3),\n",
       "  (5.4, 3.9, 1.7, 0.4),\n",
       "  (5.7, 2.8, 4.5, 1.3),\n",
       "  (5.0, 3.6, 1.4, 0.3),\n",
       "  (5.5, 2.3, 4.0, 1.3),\n",
       "  (6.5, 3.0, 5.8, 2.2),\n",
       "  (6.5, 2.8, 4.6, 1.5),\n",
       "  (6.3, 3.3, 6.0, 2.5),\n",
       "  (6.9, 3.1, 4.9, 1.5),\n",
       "  (4.6, 3.1, 1.5, 0.2)],\n",
       " 'X_train': [(5.8, 2.7, 5.1, 1.9),\n",
       "  (5.1, 3.5, 1.4, 0.2),\n",
       "  (5.7, 2.8, 4.1, 1.3),\n",
       "  (6.3, 2.9, 5.6, 1.8),\n",
       "  (6.4, 3.2, 4.5, 1.5),\n",
       "  (4.7, 3.2, 1.3, 0.2),\n",
       "  (7.0, 3.2, 4.7, 1.4),\n",
       "  (7.6, 3.0, 6.6, 2.1),\n",
       "  (4.9, 3.0, 1.4, 0.2),\n",
       "  (4.9, 2.5, 4.5, 1.7),\n",
       "  (7.1, 3.0, 5.9, 2.1),\n",
       "  (4.6, 3.4, 1.4, 0.3)],\n",
       " 'X_test': [(5.4, 3.9, 1.7, 0.4),\n",
       "  (5.7, 2.8, 4.5, 1.3),\n",
       "  (5.0, 3.6, 1.4, 0.3),\n",
       "  (5.5, 2.3, 4.0, 1.3),\n",
       "  (6.5, 3.0, 5.8, 2.2),\n",
       "  (6.5, 2.8, 4.6, 1.5),\n",
       "  (6.3, 3.3, 6.0, 2.5),\n",
       "  (6.9, 3.1, 4.9, 1.5),\n",
       "  (4.6, 3.1, 1.5, 0.2)],\n",
       " '_i12': 'labels = [labels for *features,labels in data ]\\ny_test = labels[pivot:]\\ny_tain = labels[:pivot]',\n",
       " 'labels': ['virginica',\n",
       "  'setosa',\n",
       "  'versicolor',\n",
       "  'virginica',\n",
       "  'versicolor',\n",
       "  'setosa',\n",
       "  'versicolor',\n",
       "  'virginica',\n",
       "  'setosa',\n",
       "  'virginica',\n",
       "  'virginica',\n",
       "  'setosa',\n",
       "  'setosa',\n",
       "  'versicolor',\n",
       "  'setosa',\n",
       "  'versicolor',\n",
       "  'virginica',\n",
       "  'versicolor',\n",
       "  'virginica',\n",
       "  'versicolor',\n",
       "  'setosa'],\n",
       " 'y_test': ['setosa',\n",
       "  'versicolor',\n",
       "  'setosa',\n",
       "  'versicolor',\n",
       "  'virginica',\n",
       "  'versicolor',\n",
       "  'virginica',\n",
       "  'versicolor',\n",
       "  'setosa'],\n",
       " 'y_tain': ['virginica',\n",
       "  'setosa',\n",
       "  'versicolor',\n",
       "  'virginica',\n",
       "  'versicolor',\n",
       "  'setosa',\n",
       "  'versicolor',\n",
       "  'virginica',\n",
       "  'setosa',\n",
       "  'virginica',\n",
       "  'virginica',\n",
       "  'setosa'],\n",
       " '_i13': '#features_train = [tuple(X) for X in features[:pivot]]\\nfeatures_train = [tuple(X) for num, X in enumerate(features) if num > pivot]  ',\n",
       " 'features_train': [(5.7, 2.8, 4.5, 1.3),\n",
       "  (5.0, 3.6, 1.4, 0.3),\n",
       "  (5.5, 2.3, 4.0, 1.3),\n",
       "  (6.5, 3.0, 5.8, 2.2),\n",
       "  (6.5, 2.8, 4.6, 1.5),\n",
       "  (6.3, 3.3, 6.0, 2.5),\n",
       "  (6.9, 3.1, 4.9, 1.5),\n",
       "  (4.6, 3.1, 1.5, 0.2)],\n",
       " '_i14': '#features_test = [tuple(X) for X in features[pivot:]]\\nfeatures_test = [tuple(X) for num, X in enumerate(features) if num < pivot]  ',\n",
       " 'features_test': [(5.8, 2.7, 5.1, 1.9),\n",
       "  (5.1, 3.5, 1.4, 0.2),\n",
       "  (5.7, 2.8, 4.1, 1.3),\n",
       "  (6.3, 2.9, 5.6, 1.8),\n",
       "  (6.4, 3.2, 4.5, 1.5),\n",
       "  (4.7, 3.2, 1.3, 0.2),\n",
       "  (7.0, 3.2, 4.7, 1.4),\n",
       "  (7.6, 3.0, 6.6, 2.1),\n",
       "  (4.9, 3.0, 1.4, 0.2),\n",
       "  (4.9, 2.5, 4.5, 1.7),\n",
       "  (7.1, 3.0, 5.9, 2.1),\n",
       "  (4.6, 3.4, 1.4, 0.3)],\n",
       " '_i15': 'labels_train = [tuple(X) for num, X in enumerate(labels) if num > pivot]  ',\n",
       " 'labels_train': [('v', 'e', 'r', 's', 'i', 'c', 'o', 'l', 'o', 'r'),\n",
       "  ('s', 'e', 't', 'o', 's', 'a'),\n",
       "  ('v', 'e', 'r', 's', 'i', 'c', 'o', 'l', 'o', 'r'),\n",
       "  ('v', 'i', 'r', 'g', 'i', 'n', 'i', 'c', 'a'),\n",
       "  ('v', 'e', 'r', 's', 'i', 'c', 'o', 'l', 'o', 'r'),\n",
       "  ('v', 'i', 'r', 'g', 'i', 'n', 'i', 'c', 'a'),\n",
       "  ('v', 'e', 'r', 's', 'i', 'c', 'o', 'l', 'o', 'r'),\n",
       "  ('s', 'e', 't', 'o', 's', 'a')],\n",
       " '_i16': 'labels_test = [tuple(X) for num, X in enumerate(labels) if num < pivot] ',\n",
       " 'labels_test': [('v', 'i', 'r', 'g', 'i', 'n', 'i', 'c', 'a'),\n",
       "  ('s', 'e', 't', 'o', 's', 'a'),\n",
       "  ('v', 'e', 'r', 's', 'i', 'c', 'o', 'l', 'o', 'r'),\n",
       "  ('v', 'i', 'r', 'g', 'i', 'n', 'i', 'c', 'a'),\n",
       "  ('v', 'e', 'r', 's', 'i', 'c', 'o', 'l', 'o', 'r'),\n",
       "  ('s', 'e', 't', 'o', 's', 'a'),\n",
       "  ('v', 'e', 'r', 's', 'i', 'c', 'o', 'l', 'o', 'r'),\n",
       "  ('v', 'i', 'r', 'g', 'i', 'n', 'i', 'c', 'a'),\n",
       "  ('s', 'e', 't', 'o', 's', 'a'),\n",
       "  ('v', 'i', 'r', 'g', 'i', 'n', 'i', 'c', 'a'),\n",
       "  ('v', 'i', 'r', 'g', 'i', 'n', 'i', 'c', 'a'),\n",
       "  ('s', 'e', 't', 'o', 's', 'a')],\n",
       " '_i17': 'OUTPUT = X_train, X_test,y_tain,y_test',\n",
       " 'OUTPUT': ([(5.8, 2.7, 5.1, 1.9),\n",
       "   (5.1, 3.5, 1.4, 0.2),\n",
       "   (5.7, 2.8, 4.1, 1.3),\n",
       "   (6.3, 2.9, 5.6, 1.8),\n",
       "   (6.4, 3.2, 4.5, 1.5),\n",
       "   (4.7, 3.2, 1.3, 0.2),\n",
       "   (7.0, 3.2, 4.7, 1.4),\n",
       "   (7.6, 3.0, 6.6, 2.1),\n",
       "   (4.9, 3.0, 1.4, 0.2),\n",
       "   (4.9, 2.5, 4.5, 1.7),\n",
       "   (7.1, 3.0, 5.9, 2.1),\n",
       "   (4.6, 3.4, 1.4, 0.3)],\n",
       "  [(5.4, 3.9, 1.7, 0.4),\n",
       "   (5.7, 2.8, 4.5, 1.3),\n",
       "   (5.0, 3.6, 1.4, 0.3),\n",
       "   (5.5, 2.3, 4.0, 1.3),\n",
       "   (6.5, 3.0, 5.8, 2.2),\n",
       "   (6.5, 2.8, 4.6, 1.5),\n",
       "   (6.3, 3.3, 6.0, 2.5),\n",
       "   (6.9, 3.1, 4.9, 1.5),\n",
       "   (4.6, 3.1, 1.5, 0.2)],\n",
       "  ['virginica',\n",
       "   'setosa',\n",
       "   'versicolor',\n",
       "   'virginica',\n",
       "   'versicolor',\n",
       "   'setosa',\n",
       "   'versicolor',\n",
       "   'virginica',\n",
       "   'setosa',\n",
       "   'virginica',\n",
       "   'virginica',\n",
       "   'setosa'],\n",
       "  ['setosa',\n",
       "   'versicolor',\n",
       "   'setosa',\n",
       "   'versicolor',\n",
       "   'virginica',\n",
       "   'versicolor',\n",
       "   'virginica',\n",
       "   'versicolor',\n",
       "   'setosa']),\n",
       " '_i18': '\\'\\'\\'\\n\\n        Poproś użytkownika o wprowadzenie wieku\\n\\n        Jeżeli użytkownik ma więcej niż 18 lat\\n\\n        Wyrzuć wyjątek PermissionError z komunikatem \"Only for kids\"\\n\\n\\'\\'\\'\\nadult = 18\\n\\n\\nage = input(\\'Podaj wiek: \\')\\nif int(age) > adult:\\n    raise PermissionError(\\'Only for kids\\')',\n",
       " 'adult': 18,\n",
       " 'age': '',\n",
       " '_i19': '\\'\\'\\'\\n\\n        Poproś użytkownika o wprowadzenie temperatury w Kelwinach\\n\\n        Przekonwertuj temperaturę do float\\n\\n        Wypisz \"Invalid temperature\" jak nie można rzutować do float\\n\\n        Wypisz temperaturę\\n\\n\\'\\'\\'\\n\\nkelwin = input(\\'Podaj temperatue w kelwinach:\\')\\n\\ntry:\\n    kelwin = float(kelwin)\\nexcept Exception:\\n    print(\\'Invalid temperature\\', str(kelwin))',\n",
       " 'kelwin': '',\n",
       " '_i20': \"'''\\n\\n        Poproś użytkownika o wprowadzenie temperatury w Kelwinach\\n\\n        Użytkownik zawsze poda poprawne int lub float\\n\\n        Zdefiniuj wyjątek dla temperatur ujemnych\\n\\n        Podnieś własny wyjątek jeżeli temperatura jest poniżej 0\\n\\n'''\\nclass belowZeroError(Exception):\\n    pass\\n\\n\\n\\nkelwin = input('Podaj temperatue w kelwinach:')\\n\\n\\nkelwin = float(kelwin)\\nif kelwin < 0:\\n    raise belowZeroError('below 0')\",\n",
       " 'belowZeroError': __main__.belowZeroError,\n",
       " '_i21': \"def hello():\\n    '''\\n\\n        Zdefiniuj funkcję hello\\n\\n        Wypisz Ehlo World! na ekranie\\n\\n        Wywołaj funkcję trzy razy\\n\\n'''\\n    print('Ehlo World!')\\n\\n    \\nhello()\",\n",
       " 'hello': <function __main__.hello()>,\n",
       " '_i22': 'hello?',\n",
       " '_i23': 'def add(a,b):\\n    return a+b\\n\\nsuma = add(100.3, 200)\\nprint(suma)',\n",
       " 'add': <function __main__.add(a, b)>,\n",
       " 'suma': 300.3,\n",
       " '_i24': 'def divide(a,b):\\n    \\'\\'\\'\\n\\n        Zdefiniuj funkcję divide\\n\\n        Funkcja przyjmuje dwa argumenty\\n\\n        Funkcja zwraca wynik dzielenia jej argumentów\\n\\n        Wywołaj funkcję z divide(10, 3)\\n\\n        Wywołaj funkcję z divide(10, 0)\\n\\n        Wypisz zwracane wartości\\n\\n        Co zrobić w przypadku błędu?\\n\\n\\'\\'\\'\\n\\n    try:\\n        div = a/b\\n        return div\\n    except ZeroDivisionError:\\n        print(\"Dzielenie przez zero nie dozwolone\")\\n    \\nprint(divide(10,3))\\nprint(divide(10,0))',\n",
       " 'divide': <function __main__.divide(a, b)>,\n",
       " '_i25': \"def power(a, b=None):\\n    \\n    '''\\n\\n        Zdefiniuj funkcję power\\n\\n        Funkcja przyjmuje dwa argumenty\\n\\n        Drugi argument jest opcjonalny\\n\\n        Funkcja zwraca wynik pierwszego argumentu do potęgi drugiego\\n\\n        Jeżeli tylko jeden argument był podany, przyjmij drugi równy pierwszemu\\n\\n        Wypisz zwracane wartości\\n\\n'''\\n    if b == None:\\n        return a**a\\n    else:\\n        return a**b\\n\\npower(10, 2)\\npower(3)\",\n",
       " 'power': <function __main__.power(a, b=None)>,\n",
       " '_25': 27,\n",
       " '_i26': \"def clear(text):\\n    '''\\n\\n        Dla danych wejściowych (patrz sekcja input)\\n\\n        Napisz funkcję czyszczącą dane\\n\\n        Funkcja przyjmuje jeden argument typu str\\n\\n        Funkcja zwraca oczyszczony tekst\\n\\n'''\\n    text = text.upper()\\n    text = text.replace('UL.', '')\\n    text = text.replace('\\\\t', '')\\n    text = text.replace('3', 'III')\\n    text = text.title()\\n    text = text.replace('Iii', 'III')\\n    text = text.strip()    \\n    \\n    return text\",\n",
       " 'clear': <function __main__.clear(text)>,\n",
       " '_i27': \"INPUT = [\\n    'ul.Mieszka II',\\n    'UL. Zygmunta III WaZY',\\n    '  bolesława chrobrego ',\\n    'ul Jana III SobIESkiego',\\n    '\\\\tul. Jana trzeciego Sobieskiego',\\n    'ulicaJana III Sobieskiego',\\n    'UL. JA    NA 3 SOBIES  KIEGO',\\n    'ULICA JANA III SOBIESKIEGO  ',\\n    'ULICA. JANA III SOBIeskieGO',\\n    ' Jana 3 Sobieskiego  ',\\n    'Jana III Sobi  eskiego ',\\n]\\n\\nprint(clear(INPUT[0]))\",\n",
       " '_i28': 'def number_text(number):\\n    dictionery = { \\'0\\': \"zero\",\\'1\\': \"one\",\\'2\\': \"two\",\\'3\\': \"tree\",\\'4\\': \"fower\",\\'5\\': \"fife\",\\'6\\': \"six\",\\'7\\': \"seven\",\\n                  \\'8\\': \"ait\",\\'9\\': \"niner\", \\'-\\': \\'minus\\', \\'.\\': \\'and\\' }\\n\\n    return \\' \\'.join(dictionery[char] for char in str(number))',\n",
       " 'number_text': <function __main__.number_text(number)>,\n",
       " '_i29': 'number_text(31337)',\n",
       " '_29': 'tree one tree tree seven',\n",
       " '_i30': 'number_text(-31.337)',\n",
       " '_30': 'minus tree one and tree tree seven',\n",
       " '_i31': 'globals()',\n",
       " '_31': {...},\n",
       " '_i32': 'locals()'}"
      ]
     },
     "execution_count": 32,
     "metadata": {},
     "output_type": "execute_result"
    }
   ],
   "source": [
    "locals()"
   ]
  },
  {
   "cell_type": "code",
   "execution_count": 33,
   "metadata": {},
   "outputs": [],
   "source": [
    "INPUT = [\n",
    "    ('Sepal length', 'Sepal width', 'Petal length', 'Petal width', 'Species'),\n",
    "    (5.8, 2.7, 5.1, 1.9, 'virginica'),\n",
    "    (5.1, 3.5, 1.4, 0.2, 'setosa'),\n",
    "    (5.7, 2.8, 4.1, 1.3, 'versicolor'),\n",
    "    (6.3, 2.9, 5.6, 1.8, 'virginica'),\n",
    "    (6.4, 3.2, 4.5, 1.5, 'versicolor'),\n",
    "    (4.7, 3.2, 1.3, 0.2, 'setosa'),\n",
    "    (7.0, 3.2, 4.7, 1.4, 'versicolor'),\n",
    "    (7.6, 3.0, 6.6, 2.1, 'virginica'),\n",
    "    (4.9, 3.0, 1.4, 0.2, 'setosa'),\n",
    "]\n",
    "data = INPUT[1:]\n",
    "\n",
    "wanted = {'sentosa','versicolor'}\n",
    "for *X,y  in data:\n",
    "    features, labels = X, y\n",
    " "
   ]
  },
  {
   "cell_type": "code",
   "execution_count": 34,
   "metadata": {},
   "outputs": [],
   "source": [
    "AGE_ADULT = 18\n",
    "\n",
    "def is_adult(age):\n",
    "    \"\"\"\n",
    "    Function checks if person is adult.\n",
    "    Adult person is over 18 years old.\n",
    "\n",
    "    >>> is_adult(18)\n",
    "    True\n",
    "\n",
    "    >>> is_adult(17.9)\n",
    "    False\n",
    "    \"\"\"\n",
    "    if age >= AGE_ADULT:\n",
    "        return True\n",
    "    else:\n",
    "        return False"
   ]
  },
  {
   "cell_type": "code",
   "execution_count": 35,
   "metadata": {},
   "outputs": [
    {
     "name": "stdout",
     "output_type": "stream",
     "text": [
      "**********************************************************************\n",
      "File \"__main__\", line 17, in __main__.add_numbers\n",
      "Failed example:\n",
      "    add_numbers(2,True)\n",
      "Expected:\n",
      "    Traceback (most recent call last):\n",
      "        ...\n",
      "    TypeError\n",
      "Got:\n",
      "    3\n",
      "**********************************************************************\n",
      "1 items had failures:\n",
      "   1 of   6 in __main__.add_numbers\n",
      "***Test Failed*** 1 failures.\n"
     ]
    },
    {
     "data": {
      "text/plain": [
       "TestResults(failed=1, attempted=8)"
      ]
     },
     "execution_count": 35,
     "metadata": {},
     "output_type": "execute_result"
    }
   ],
   "source": [
    "def add_numbers(a,b):\n",
    "    '''\n",
    "    >>> add_numbers(1,0)\n",
    "    1\n",
    "    >>> add_numbers(-1,1)\n",
    "    0\n",
    "    >>> add_numbers(1.5, 5.5)\n",
    "    7.0\n",
    "    >>> add_numbers('a','b')\n",
    "    Traceback (most recent call last):\n",
    "        ...\n",
    "    TypeError: A is not a number\n",
    "    >>> add_numbers(True,0)\n",
    "    Traceback (most recent call last):\n",
    "        ...\n",
    "    TypeError: A is not a number\n",
    "    >>> add_numbers(2,True)\n",
    "    Traceback (most recent call last):\n",
    "        ...\n",
    "    TypeError\n",
    "    '''\n",
    "    if type(a) not in (float, int):\n",
    "        raise TypeError('A is not a number')\n",
    "    if not isinstance(b, (float, int)):\n",
    "        raise TypeError\n",
    "    return a + b\n",
    "\n",
    "import doctest\n",
    "doctest.testmod()"
   ]
  },
  {
   "cell_type": "code",
   "execution_count": 36,
   "metadata": {},
   "outputs": [
    {
     "name": "stdout",
     "output_type": "stream",
     "text": [
      "**********************************************************************\n",
      "File \"__main__\", line 17, in __main__.add_numbers\n",
      "Failed example:\n",
      "    add_numbers(2,True)\n",
      "Expected:\n",
      "    Traceback (most recent call last):\n",
      "        ...\n",
      "    TypeError\n",
      "Got:\n",
      "    3\n",
      "**********************************************************************\n",
      "1 items had failures:\n",
      "   1 of   6 in __main__.add_numbers\n",
      "***Test Failed*** 1 failures.\n"
     ]
    },
    {
     "data": {
      "text/plain": [
       "TestResults(failed=1, attempted=10)"
      ]
     },
     "execution_count": 36,
     "metadata": {},
     "output_type": "execute_result"
    }
   ],
   "source": [
    "'''\n",
    "\n",
    "        Napisz funkcję, która przeliczy dystans podany w kilometrach na metry\n",
    "\n",
    "        1 km = 1000 m\n",
    "\n",
    "        Dystans nie może być ujemny\n",
    "\n",
    "        Zwracany dystans musi być float\n",
    "\n",
    "        Napisz doctesty\n",
    "\n",
    "'''\n",
    "\n",
    "def distance(km):\n",
    "    '''\n",
    "    >>> distance(-1)\n",
    "    Traceback (most recent call last):\n",
    "        ...\n",
    "    TypeError: Za malo\n",
    "    >>> distance(0)\n",
    "    0.0\n",
    "    '''\n",
    "    one_km = 1000.0\n",
    "    if type(km) not in (float, int):\n",
    "        raise TypeError\n",
    "    if km < 0:\n",
    "        raise TypeError('Za malo')\n",
    "    return km * one_km\n",
    "\n",
    "import doctest\n",
    "doctest.testmod()"
   ]
  },
  {
   "cell_type": "code",
   "execution_count": 37,
   "metadata": {},
   "outputs": [],
   "source": [
    "from datetime import date"
   ]
  },
  {
   "cell_type": "code",
   "execution_count": 38,
   "metadata": {},
   "outputs": [
    {
     "name": "stdout",
     "output_type": "stream",
     "text": [
      "1961-06-12\n"
     ]
    }
   ],
   "source": [
    "d = date(1961,6,12)\n",
    "print(d)"
   ]
  },
  {
   "cell_type": "code",
   "execution_count": 39,
   "metadata": {},
   "outputs": [
    {
     "data": {
      "text/plain": [
       "1"
      ]
     },
     "execution_count": 39,
     "metadata": {},
     "output_type": "execute_result"
    }
   ],
   "source": [
    "d.isoweekday()"
   ]
  },
  {
   "cell_type": "code",
   "execution_count": 40,
   "metadata": {},
   "outputs": [
    {
     "data": {
      "text/plain": [
       "0"
      ]
     },
     "execution_count": 40,
     "metadata": {},
     "output_type": "execute_result"
    }
   ],
   "source": [
    "d.weekday()"
   ]
  },
  {
   "cell_type": "code",
   "execution_count": 41,
   "metadata": {},
   "outputs": [
    {
     "data": {
      "text/plain": [
       "datetime.time(0, 0)"
      ]
     },
     "execution_count": 41,
     "metadata": {},
     "output_type": "execute_result"
    }
   ],
   "source": [
    "from datetime import time\n",
    "time()"
   ]
  },
  {
   "cell_type": "code",
   "execution_count": 42,
   "metadata": {},
   "outputs": [
    {
     "data": {
      "text/plain": [
       "datetime.time(0, 0)"
      ]
     },
     "execution_count": 42,
     "metadata": {},
     "output_type": "execute_result"
    }
   ],
   "source": [
    "time.min"
   ]
  },
  {
   "cell_type": "code",
   "execution_count": 43,
   "metadata": {},
   "outputs": [
    {
     "data": {
      "text/plain": [
       "datetime.date(2019, 12, 19)"
      ]
     },
     "execution_count": 43,
     "metadata": {},
     "output_type": "execute_result"
    }
   ],
   "source": [
    "date.today()"
   ]
  },
  {
   "cell_type": "code",
   "execution_count": 44,
   "metadata": {},
   "outputs": [],
   "source": [
    "import datetime"
   ]
  },
  {
   "cell_type": "code",
   "execution_count": 45,
   "metadata": {},
   "outputs": [
    {
     "ename": "NameError",
     "evalue": "name 'now' is not defined",
     "output_type": "error",
     "traceback": [
      "\u001b[0;31m---------------------------------------------------------------------------\u001b[0m",
      "\u001b[0;31mNameError\u001b[0m                                 Traceback (most recent call last)",
      "\u001b[0;32m<ipython-input-45-609c8bdc7a3a>\u001b[0m in \u001b[0;36m<module>\u001b[0;34m()\u001b[0m\n\u001b[0;32m----> 1\u001b[0;31m \u001b[0mnow\u001b[0m\u001b[0;34m(\u001b[0m\u001b[0;34m)\u001b[0m\u001b[0;34m\u001b[0m\u001b[0m\n\u001b[0m",
      "\u001b[0;31mNameError\u001b[0m: name 'now' is not defined"
     ]
    }
   ],
   "source": [
    "now()"
   ]
  },
  {
   "cell_type": "code",
   "execution_count": 46,
   "metadata": {},
   "outputs": [
    {
     "name": "stdout",
     "output_type": "stream",
     "text": [
      "1969-07-21 02:56:15.123000\n"
     ]
    }
   ],
   "source": [
    "czas = '1969-07-21T02:56:15.123Z'\n",
    "format = '%Y-%m-%dT%H:%M:%S.%fZ'\n",
    "date = datetime.datetime.strptime(czas, format)\n",
    "print(date)"
   ]
  },
  {
   "cell_type": "code",
   "execution_count": 47,
   "metadata": {},
   "outputs": [
    {
     "name": "stdout",
     "output_type": "stream",
     "text": [
      "1961-04-12 06:07:00\n"
     ]
    }
   ],
   "source": [
    "gagarin = 'April 12, 1961 6:07 local time'\n",
    "format = '%B %d, %Y %H:%M local time'\n",
    "date = datetime.datetime.strptime(gagarin, format)\n",
    "print(date)"
   ]
  },
  {
   "cell_type": "code",
   "execution_count": 48,
   "metadata": {},
   "outputs": [
    {
     "data": {
      "text/plain": [
       "[16, 8]"
      ]
     },
     "execution_count": 48,
     "metadata": {},
     "output_type": "execute_result"
    }
   ],
   "source": [
    "data = [1,23,16, 5, 8]\n",
    "\n",
    "a = filter(lambda x: x % 2 == 0, data)\n",
    "list(a)"
   ]
  },
  {
   "cell_type": "code",
   "execution_count": 49,
   "metadata": {},
   "outputs": [
    {
     "ename": "AssertionError",
     "evalue": "Komunikat",
     "output_type": "error",
     "traceback": [
      "\u001b[0;31m---------------------------------------------------------------------------\u001b[0m",
      "\u001b[0;31mAssertionError\u001b[0m                            Traceback (most recent call last)",
      "\u001b[0;32m<ipython-input-49-a8c851fd107a>\u001b[0m in \u001b[0;36m<module>\u001b[0;34m()\u001b[0m\n\u001b[0;32m----> 1\u001b[0;31m \u001b[0;32massert\u001b[0m \u001b[0ma\u001b[0m \u001b[0;34m==\u001b[0m \u001b[0;36m2\u001b[0m\u001b[0;34m,\u001b[0m \u001b[0;34m\"Komunikat\"\u001b[0m\u001b[0;34m\u001b[0m\u001b[0m\n\u001b[0m",
      "\u001b[0;31mAssertionError\u001b[0m: Komunikat"
     ]
    }
   ],
   "source": [
    "assert a == 2, \"Komunikat\""
   ]
  },
  {
   "cell_type": "code",
   "execution_count": 50,
   "metadata": {},
   "outputs": [],
   "source": [
    "a = {1:'a',2: 'b'}"
   ]
  },
  {
   "cell_type": "code",
   "execution_count": null,
   "metadata": {},
   "outputs": [],
   "source": []
  },
  {
   "cell_type": "code",
   "execution_count": 51,
   "metadata": {},
   "outputs": [
    {
     "data": {
      "text/plain": [
       "True"
      ]
     },
     "execution_count": 51,
     "metadata": {},
     "output_type": "execute_result"
    }
   ],
   "source": [
    "'''\n",
    "\n",
    "        Stwórz funkcję is_numeric\n",
    "\n",
    "        Funkcja może przyjmować dowolną liczbę argumentów pozycyjnych\n",
    "\n",
    "        Podawane argumenty mogą być dowolnego typu\n",
    "\n",
    "        Zwróć True jeżeli wszystkie argumenty są tylko typów int lub float\n",
    "\n",
    "        Zwróć False jeżeli którykolwiek jest innego typu\n",
    "\n",
    "        Nie używaj all() oraz any()\n",
    "\n",
    "        Porównaj użycie type() i isinstance() podając argument do funkcji True\n",
    "\n",
    "        Uruchom funkcję bez podawania argumentów\n",
    "\n",
    "'''\n",
    "\n",
    "def is_numeric(*args):\n",
    "    \n",
    "    if len(args) == 0:\n",
    "        return False\n",
    "\n",
    "    for arg in args:\n",
    "        if type(arg) not in (float, int):\n",
    "            return False\n",
    "    return True\n",
    "\n",
    "is_numeric(1,2)"
   ]
  },
  {
   "cell_type": "code",
   "execution_count": 52,
   "metadata": {},
   "outputs": [],
   "source": [
    "import re"
   ]
  },
  {
   "cell_type": "code",
   "execution_count": 53,
   "metadata": {},
   "outputs": [
    {
     "name": "stdout",
     "output_type": "stream",
     "text": [
      "['+48 123 555 678', '+48 12 355 5678', '+48 123 555 6789']\n"
     ]
    }
   ],
   "source": [
    "'''\n",
    "\n",
    "        Użyj wyrażeń regularnych do walidacji numeru telefonu\n",
    "\n",
    "        Sprawdź wszystkie podane numery (patrz sekcja input)\n",
    "\n",
    "        Poprawne formaty numeru: +## ### ### ### lub +## ## ### ####\n",
    "\n",
    "'''\n",
    "INPUT = [\n",
    "'+48 (12) 355 5678',\n",
    "'+48 123 555 678',\n",
    "'123 555 678',\n",
    "'+48 12 355 5678',\n",
    "'+48 123-555-678',\n",
    "'+48 123 555 6789',\n",
    "'+1 (123) 555-6789',\n",
    "'+1 (123).555.6789',\n",
    "'+1 800-python',\n",
    "'+48123555678',\n",
    "'+48 123 555 678 wew. 1337',\n",
    "'+48 123555678,1',\n",
    "'+48 123555678,1,2,3']\n",
    "\n",
    "PATTERN = r'^\\+[0-9]{2} [0-9]{2,3} [0-9]{3} [0-9]{3,4}$'\n",
    "\n",
    "phons = []\n",
    "for tel in INPUT:\n",
    "    if re.match(PATTERN, tel):\n",
    "        phons.append(tel)\n",
    "\n",
    "print(phons)\n",
    "\n",
    "    "
   ]
  },
  {
   "cell_type": "code",
   "execution_count": 54,
   "metadata": {},
   "outputs": [
    {
     "name": "stdout",
     "output_type": "stream",
     "text": [
      "['.666']\n"
     ]
    }
   ],
   "source": [
    "PATTERN = r'\\d+(\\.\\d*)?'\n",
    "print(re.findall(PATTERN, '15.666'))"
   ]
  },
  {
   "cell_type": "code",
   "execution_count": 55,
   "metadata": {},
   "outputs": [],
   "source": [
    "'''\n",
    "\n",
    "        Zdefiniuj klasę Astronaut\n",
    "\n",
    "        Zdefiniuj klasę SpaceAgency\n",
    "\n",
    "        Stwórz instancję twardowski klasy Astronaut\n",
    "\n",
    "        Stwórz instancję watney klasy Astronaut\n",
    "\n",
    "        Stwórz instancję nasa klasy SpaceAgency\n",
    "\n",
    "        Stwórz instancję esa klasy SpaceAgency\n",
    "\n",
    "        Stwórz instancję polsa klasy SpaceAgency\n",
    "\n",
    "'''\n",
    "\n",
    "class Astronaut:\n",
    "    pass\n",
    "\n",
    "class SpaceAgency:\n",
    "    pass\n",
    "\n",
    "twardowski = Astronaut()\n",
    "watney = Astronaut()\n",
    "nasa = SpaceAgency()\n",
    "esa = SpaceAgency()\n",
    "polsa = SpaceAgency()"
   ]
  },
  {
   "cell_type": "code",
   "execution_count": 56,
   "metadata": {},
   "outputs": [],
   "source": [
    "'''\n",
    "\n",
    "        Zamodeluj dane za pomocą klas\n",
    "\n",
    "        Stwórz instancje dla każdego wpisu\n",
    "\n",
    "        Jak wiele klas możemy wyróżnić?\n",
    "\n",
    "        Jak wiele instancji możemy wyróżnić?\n",
    "\n",
    "        Twórz instancje pierwszej klasy używając argumentów pozycyjnych\n",
    "\n",
    "        Twórz instancje drugiej klasy używając argumentów nazwanych\n",
    "\n",
    "        Wypisz pierwsze pole każdej z instancji\n",
    "\n",
    "'''\n",
    "\n",
    "'''\n",
    "Jan, Twardowski, 1961-04-12\n",
    "Mark, Watney, 1969-07-21\n",
    "ESA, European Space Agency, Europe\n",
    "NASA, National Aeronautics and Space Administration, USA\n",
    "POLSA, Polish Space Agency, Poland\n",
    "'''\n",
    "\n",
    "class Astro:\n",
    "    pass\n",
    "class Agen:\n",
    "    pass\n",
    "\n",
    "twardowski = Astro()\n",
    "twardowski.first_name = 'Jan'\n",
    "twardowski.last_name = 'Twardowski'\n",
    "\n",
    "watney = Astro()\n",
    "watney.first_name = 'Mark'\n",
    "watney.last_name = 'Watney'\n",
    "\n",
    "esa = Agen()\n",
    "esa.name = 'ESA'\n",
    "esa.full_name = 'European Space Agency'\n",
    "esa.country = 'Europe'\n",
    "\n",
    "nasa = Agen()\n",
    "nasa.name = 'NASA'\n",
    "nasa.full_name = 'National Aeronautics and Space Administration'\n",
    "nasa.country = 'USA'\n",
    "\n",
    "polsa = Agen()\n",
    "polsa.name = 'POLSA'\n",
    "polsa.full_name = 'Polish Space Agency'\n",
    "polsa.country = 'Polska'"
   ]
  },
  {
   "cell_type": "code",
   "execution_count": 57,
   "metadata": {},
   "outputs": [
    {
     "name": "stdout",
     "output_type": "stream",
     "text": [
      "36.6\n",
      "97.88\n",
      "309.75\n"
     ]
    }
   ],
   "source": [
    "'''\n",
    "\n",
    "        Stwórz jedną klasę Temperature\n",
    "\n",
    "        Stwórz trzy instancje klasy Temperature\n",
    "\n",
    "        Wartości mają być podawane przy inicjalizacji\n",
    "\n",
    "        Przy inicjalizacji instancje wypisują:\n",
    "\n",
    "                Instancja celsius wyświetla temperaturę 36.6\n",
    "\n",
    "                Instancja fahrenheit wyświetla temperaturę 97.88\n",
    "\n",
    "                Instancja kelvin wyświetla temperaturę 309.75\n",
    "\n",
    "'''\n",
    "\n",
    "class Temperature:\n",
    "    def __init__(self, temperature):\n",
    "        \n",
    "        print(temperature)\n",
    "\n",
    "celsius = Temperature(36.6)\n",
    "fahreheit = Temperature(97.88)\n",
    "kelvin = Temperature(309.75)"
   ]
  },
  {
   "cell_type": "code",
   "execution_count": 58,
   "metadata": {},
   "outputs": [
    {
     "name": "stdout",
     "output_type": "stream",
     "text": [
      "Name: setosa, total: 10.2, mean: 2.55\n",
      "Name: virginica, total: 15.5, mean: 3.875\n"
     ]
    }
   ],
   "source": [
    "'''\n",
    "\n",
    "\n",
    "        Stwórz klasę Iris\n",
    "\n",
    "        Napisz metodę total() wyliczającą sumę wszystkich atrybutów numerycznych obiektu\n",
    "\n",
    "        Napisz metodę mean() wyliczającą średnią wszystkich atrybutów numerycznych obiektu (przyjmij długość równą 4)\n",
    "\n",
    "        Stwórz obiekt setosa z pomiarami podawanymi przy inicjalizacji (patrz dane wejściowe)\n",
    "\n",
    "        Stwórz obiekt virginica z pomiarami podawanymi przy inicjalizacji (patrz dane wejściowe)\n",
    "\n",
    "        Wypisz nazwę gatunku oraz sumę i średnią z pomiarów dla każdej instancji\n",
    "\n",
    "'''\n",
    "\n",
    "class Iris:\n",
    "    def __init__(self, sepal_length, sepal_width, petal_length, petal_width, species):\n",
    "        self.sepal_length = sepal_length\n",
    "        self.sepal_width = sepal_width\n",
    "        self.petal_length = petal_length\n",
    "        self.petal_width = petal_width\n",
    "        self.species = species\n",
    "        \n",
    "    def total(self):\n",
    "        return (self.sepal_length + self.sepal_width + self.petal_length +self.petal_width)\n",
    "    \n",
    "    def mean(self):\n",
    "        return self.total()/4\n",
    "\n",
    "setosa = Iris(5.1, 3.5, 1.4, 0.2, 'setosa')\n",
    "virginica = Iris(5.8, 2.7, 5.1, 1.9,'virginica')\n",
    "\n",
    "print(f'Name: {setosa.species}, total: {setosa.total()}, mean: {setosa.mean()}')\n",
    "print(f'Name: {virginica.species}, total: {virginica.total()}, mean: {virginica.mean()}')\n"
   ]
  },
  {
   "cell_type": "code",
   "execution_count": 59,
   "metadata": {},
   "outputs": [
    {
     "ename": "SyntaxError",
     "evalue": "invalid syntax (<ipython-input-59-c67754fc54d1>, line 45)",
     "output_type": "error",
     "traceback": [
      "\u001b[0;36m  File \u001b[0;32m\"<ipython-input-59-c67754fc54d1>\"\u001b[0;36m, line \u001b[0;32m45\u001b[0m\n\u001b[0;31m    wawelski.\u001b[0m\n\u001b[0m             ^\u001b[0m\n\u001b[0;31mSyntaxError\u001b[0m\u001b[0;31m:\u001b[0m invalid syntax\n"
     ]
    }
   ],
   "source": [
    "from random import randint\n",
    "class Dragon:\n",
    "    dead = False\n",
    "    \n",
    "    def __init__(self, name = 'Dragon', x = 0, y = 0, texture_file_name = 'img/dragon/alive.png', health_points = randint(50,100)):\n",
    "        self.name = name\n",
    "        self.x = x\n",
    "        self.y = y\n",
    "        self.texture_file_name = texture_file_name\n",
    "        self.health_points = health_points\n",
    "    \n",
    "    def set_position(self, x, y):\n",
    "        if not self.dead:\n",
    "            self.x = x\n",
    "            self.y = y\n",
    "    \n",
    "    def make_damage(self):\n",
    "        if not self.dead:\n",
    "            return randint(5,20)\n",
    "    \n",
    "    def take_damage(self, damage):\n",
    "        if not self.dead:\n",
    "            self.health_points -= damage\n",
    "            if self.health_points <= 0:\n",
    "                self.dead = True\n",
    "                self.texture_file_name = 'img/dragon/dead.png'\n",
    "                gold = randint(1,100)\n",
    "                print(f'{self.name} is dead. Dragon dropped {gold} gold. Position: (x:{self.x}, y:{self.y}')\n",
    "            else:\n",
    "                print(f'{self.name} was taken {damage} damage. He has still {self.health_points} health points.')\n",
    "    \n",
    "    def move(self, right = 0, left = 0 , down = 0, up = 0):\n",
    "        if not self.dead:\n",
    "            self.x += (right-left)\n",
    "            self.y += (down-up)\n",
    "        \n",
    "    \n",
    "\n",
    "wawelski = Dragon('Wawelski', x=50, y=120)\n",
    "wawelski.set_position(x=10, y=20)\n",
    "wawelski.move(left = 10, down = 20)\n",
    "wawelski.move(left = 10, right = 15)\n",
    "wawelski.move(right = 15, up = 5)\n",
    "wawelski.move(down = 5)\n",
    "wawelski."
   ]
  },
  {
   "cell_type": "code",
   "execution_count": 64,
   "metadata": {},
   "outputs": [
    {
     "data": {
      "text/plain": [
       "2019"
      ]
     },
     "execution_count": 64,
     "metadata": {},
     "output_type": "execute_result"
    }
   ],
   "source": [
    "from datetime import date\n",
    "\n",
    "dzis = date.today()\n",
    "\n",
    "dzis.year"
   ]
  },
  {
   "cell_type": "code",
   "execution_count": 66,
   "metadata": {},
   "outputs": [
    {
     "data": {
      "text/plain": [
       "3"
      ]
     },
     "execution_count": 66,
     "metadata": {},
     "output_type": "execute_result"
    }
   ],
   "source": [
    "dzis.weekday()"
   ]
  },
  {
   "cell_type": "code",
   "execution_count": 67,
   "metadata": {},
   "outputs": [
    {
     "data": {
      "text/plain": [
       "4"
      ]
     },
     "execution_count": 67,
     "metadata": {},
     "output_type": "execute_result"
    }
   ],
   "source": [
    "dzis.isoweekday()"
   ]
  },
  {
   "cell_type": "code",
   "execution_count": 68,
   "metadata": {},
   "outputs": [
    {
     "data": {
      "text/plain": [
       "'2019-12-19'"
      ]
     },
     "execution_count": 68,
     "metadata": {},
     "output_type": "execute_result"
    }
   ],
   "source": [
    "dzis.isoformat()"
   ]
  },
  {
   "cell_type": "code",
   "execution_count": 69,
   "metadata": {},
   "outputs": [
    {
     "data": {
      "text/plain": [
       "datetime.datetime(2019, 12, 19, 22, 21, 31, 29770)"
      ]
     },
     "execution_count": 69,
     "metadata": {},
     "output_type": "execute_result"
    }
   ],
   "source": [
    "from datetime import datetime\n",
    "\n",
    "datetime.now()"
   ]
  },
  {
   "cell_type": "code",
   "execution_count": null,
   "metadata": {},
   "outputs": [],
   "source": []
  }
 ],
 "metadata": {
  "kernelspec": {
   "display_name": "Python 3",
   "language": "python",
   "name": "python3"
  },
  "language_info": {
   "codemirror_mode": {
    "name": "ipython",
    "version": 3
   },
   "file_extension": ".py",
   "mimetype": "text/x-python",
   "name": "python",
   "nbconvert_exporter": "python",
   "pygments_lexer": "ipython3",
   "version": "3.7.0"
  }
 },
 "nbformat": 4,
 "nbformat_minor": 2
}
