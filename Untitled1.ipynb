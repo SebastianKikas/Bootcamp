{
 "cells": [
  {
   "cell_type": "code",
   "execution_count": null,
   "metadata": {},
   "outputs": [],
   "source": [
    "header = ['a','b', 'c']"
   ]
  },
  {
   "cell_type": "code",
   "execution_count": null,
   "metadata": {},
   "outputs": [],
   "source": [
    "{k:v for k,v in enumerate(header)}"
   ]
  },
  {
   "cell_type": "code",
   "execution_count": null,
   "metadata": {},
   "outputs": [],
   "source": [
    "data = [888, 77,44]"
   ]
  },
  {
   "cell_type": "code",
   "execution_count": null,
   "metadata": {},
   "outputs": [],
   "source": [
    "{k:v for k,v in zip(header, data)}"
   ]
  },
  {
   "cell_type": "code",
   "execution_count": null,
   "metadata": {},
   "outputs": [],
   "source": [
    "DATA = [\n",
    "    '5.8,2.7,5.1,1.9,virginica',\n",
    "    '5.1,3.5,1.4,0.2,setosa',\n",
    "    '5.7,2.8,4.1,1.3,versicolor',\n",
    "]\n",
    "\n",
    "output = [row.split(',') for row in DATA]\n",
    "\n",
    "print(output)"
   ]
  },
  {
   "cell_type": "code",
   "execution_count": null,
   "metadata": {},
   "outputs": [],
   "source": [
    "INPUT = [\n",
    "    ('Sepal length', 'Sepal width', 'Petal length', 'Petal width', 'Species'),\n",
    "    (5.8, 2.7, 5.1, 1.9, 'virginica'),\n",
    "    (5.1, 3.5, 1.4, 0.2, 'setosa'),\n",
    "    (5.7, 2.8, 4.1, 1.3, 'versicolor'),\n",
    "    (6.3, 2.9, 5.6, 1.8, 'virginica'),\n",
    "    (6.4, 3.2, 4.5, 1.5, 'versicolor'),\n",
    "    (4.7, 3.2, 1.3, 0.2, 'setosa'),\n",
    "    (7.0, 3.2, 4.7, 1.4, 'versicolor'),\n",
    "    (7.6, 3.0, 6.6, 2.1, 'virginica'),\n",
    "    (4.9, 3.0, 1.4, 0.2, 'setosa'),\n",
    "    (4.9, 2.5, 4.5, 1.7, 'virginica'),\n",
    "    (7.1, 3.0, 5.9, 2.1, 'virginica'),\n",
    "    (4.6, 3.4, 1.4, 0.3, 'setosa'),\n",
    "    (5.4, 3.9, 1.7, 0.4, 'setosa'),\n",
    "    (5.7, 2.8, 4.5, 1.3, 'versicolor'),\n",
    "    (5.0, 3.6, 1.4, 0.3, 'setosa'),\n",
    "    (5.5, 2.3, 4.0, 1.3, 'versicolor'),\n",
    "    (6.5, 3.0, 5.8, 2.2, 'virginica'),\n",
    "    (6.5, 2.8, 4.6, 1.5, 'versicolor'),\n",
    "    (6.3, 3.3, 6.0, 2.5, 'virginica'),\n",
    "    (6.9, 3.1, 4.9, 1.5, 'versicolor'),\n",
    "    (4.6, 3.1, 1.5, 0.2, 'setosa'),\n",
    "]"
   ]
  },
  {
   "cell_type": "code",
   "execution_count": null,
   "metadata": {},
   "outputs": [],
   "source": [
    "# header, *data = INPUT\n",
    "header = INPUT[0]\n",
    "data = INPUT[1:]"
   ]
  },
  {
   "cell_type": "code",
   "execution_count": null,
   "metadata": {},
   "outputs": [],
   "source": [
    "pivot = len(data) * 0.6\n",
    "pivot = int(pivot)"
   ]
  },
  {
   "cell_type": "code",
   "execution_count": null,
   "metadata": {},
   "outputs": [],
   "source": [
    "features = [tuple(features) for *features,labels in data ]\n",
    "X_train = features[:pivot]\n",
    "X_test = features[pivot:]"
   ]
  },
  {
   "cell_type": "code",
   "execution_count": null,
   "metadata": {},
   "outputs": [],
   "source": [
    "labels = [labels for *features,labels in data ]\n",
    "y_test = labels[pivot:]\n",
    "y_tain = labels[:pivot]"
   ]
  },
  {
   "cell_type": "code",
   "execution_count": null,
   "metadata": {},
   "outputs": [],
   "source": [
    "#features_train = [tuple(X) for X in features[:pivot]]\n",
    "features_train = [tuple(X) for num, X in enumerate(features) if num > pivot]  "
   ]
  },
  {
   "cell_type": "code",
   "execution_count": null,
   "metadata": {},
   "outputs": [],
   "source": [
    "#features_test = [tuple(X) for X in features[pivot:]]\n",
    "features_test = [tuple(X) for num, X in enumerate(features) if num < pivot]  "
   ]
  },
  {
   "cell_type": "code",
   "execution_count": null,
   "metadata": {},
   "outputs": [],
   "source": [
    "labels_train = [tuple(X) for num, X in enumerate(labels) if num > pivot]  "
   ]
  },
  {
   "cell_type": "code",
   "execution_count": null,
   "metadata": {},
   "outputs": [],
   "source": [
    "labels_test = [tuple(X) for num, X in enumerate(labels) if num < pivot] "
   ]
  },
  {
   "cell_type": "code",
   "execution_count": null,
   "metadata": {},
   "outputs": [],
   "source": [
    "OUTPUT = X_train, X_test,y_tain,y_test"
   ]
  },
  {
   "cell_type": "code",
   "execution_count": null,
   "metadata": {},
   "outputs": [],
   "source": [
    "'''\n",
    "\n",
    "        Poproś użytkownika o wprowadzenie wieku\n",
    "\n",
    "        Jeżeli użytkownik ma więcej niż 18 lat\n",
    "\n",
    "        Wyrzuć wyjątek PermissionError z komunikatem \"Only for kids\"\n",
    "\n",
    "'''\n",
    "adult = 18\n",
    "\n",
    "\n",
    "age = input('Podaj wiek: ')\n",
    "if int(age) > adult:\n",
    "    raise PermissionError('Only for kids')"
   ]
  },
  {
   "cell_type": "code",
   "execution_count": null,
   "metadata": {},
   "outputs": [],
   "source": [
    "'''\n",
    "\n",
    "        Poproś użytkownika o wprowadzenie temperatury w Kelwinach\n",
    "\n",
    "        Przekonwertuj temperaturę do float\n",
    "\n",
    "        Wypisz \"Invalid temperature\" jak nie można rzutować do float\n",
    "\n",
    "        Wypisz temperaturę\n",
    "\n",
    "'''\n",
    "\n",
    "kelwin = input('Podaj temperatue w kelwinach:')\n",
    "\n",
    "try:\n",
    "    kelwin = float(kelwin)\n",
    "except Exception:\n",
    "    print('Invalid temperature', str(kelwin))"
   ]
  },
  {
   "cell_type": "code",
   "execution_count": null,
   "metadata": {},
   "outputs": [],
   "source": [
    "'''\n",
    "\n",
    "        Poproś użytkownika o wprowadzenie temperatury w Kelwinach\n",
    "\n",
    "        Użytkownik zawsze poda poprawne int lub float\n",
    "\n",
    "        Zdefiniuj wyjątek dla temperatur ujemnych\n",
    "\n",
    "        Podnieś własny wyjątek jeżeli temperatura jest poniżej 0\n",
    "\n",
    "'''\n",
    "class belowZeroError(Exception):\n",
    "    pass\n",
    "\n",
    "\n",
    "\n",
    "kelwin = input('Podaj temperatue w kelwinach:')\n",
    "\n",
    "\n",
    "kelwin = float(kelwin)\n",
    "if kelwin < 0:\n",
    "    raise belowZeroError('below 0')"
   ]
  },
  {
   "cell_type": "code",
   "execution_count": null,
   "metadata": {},
   "outputs": [],
   "source": [
    "'''\n",
    "\n",
    "\n",
    "        Ściągnij data/iris.csv i zapisz jako iris.csv\n",
    "\n",
    "        Zdefiniuj:\n",
    "\n",
    "                features: List[tuple] - lista pomiarów (każdy wiersz to tuple)\n",
    "\n",
    "                labels: List[str] - lista nazw gatunków\n",
    "\n",
    "        Dla każdej linii:\n",
    "\n",
    "                Usuń białe znaki\n",
    "\n",
    "                Podziel linię po przecinku ,\n",
    "\n",
    "                Dodaj pomiary do features\n",
    "\n",
    "                Dodaj gatunek do labels\n",
    "\n",
    "        Wyświetl features i labels\n",
    "\n",
    "'''\n",
    "FILE = r'./iris.csv'\n",
    "features, labels = [],[]\n",
    "with open(FILE, encoding='utf-8') as file:\n",
    "        header = file.readline()\n",
    "        for line in file.readlines():\n",
    "            splited = line.split(',')\n",
    "            features.append(splited[:-1])\n",
    "            labels.append(splited[-1])\n",
    "            "
   ]
  },
  {
   "cell_type": "code",
   "execution_count": null,
   "metadata": {},
   "outputs": [],
   "source": [
    "'''\n",
    "\n",
    "        Skopiuj dane wejściowe z listingu poniżej i zapisz do pliku hosts.txt\n",
    "\n",
    "        Dla każdej lini w pliku:\n",
    "\n",
    "                Usuń białe znaki na początku i końcu linii\n",
    "\n",
    "                Podziel linię po białych znakach\n",
    "\n",
    "                Odseparuj adres IP i nazwy hostów\n",
    "\n",
    "                Dodaj adres IP i nazwy hostów do OUTPUT\n",
    "\n",
    "        Scal nazwy hostów dla tego samego IP\n",
    "\n",
    "\n",
    "'''\n",
    "IP = ''\n",
    "FILE = r'host.txt'\n",
    "OUTPUT = {'a': ['a']}\n",
    "with open(FILE) as file:\n",
    "    for line in file:\n",
    "        print(line.strip().split()[0])\n",
    "        \n",
    "        IP, *host = line.strip().split()\n",
    "        print(OUTPUT)\n",
    "        OUTPUT[IP] = host\n",
    "        break\n",
    "print(OUTPUT)"
   ]
  },
  {
   "cell_type": "code",
   "execution_count": null,
   "metadata": {},
   "outputs": [],
   "source": [
    "def hello():\n",
    "    '''\n",
    "\n",
    "        Zdefiniuj funkcję hello\n",
    "\n",
    "        Wypisz Ehlo World! na ekranie\n",
    "\n",
    "        Wywołaj funkcję trzy razy\n",
    "\n",
    "'''\n",
    "    print('Ehlo World!')\n",
    "\n",
    "    \n",
    "hello()\n",
    "\n"
   ]
  },
  {
   "cell_type": "code",
   "execution_count": null,
   "metadata": {},
   "outputs": [],
   "source": [
    "hello?\n"
   ]
  },
  {
   "cell_type": "code",
   "execution_count": null,
   "metadata": {},
   "outputs": [],
   "source": [
    "def add(a,b):\n",
    "    return a+b\n",
    "\n",
    "suma = add(100.3, 200)\n",
    "print(suma)"
   ]
  },
  {
   "cell_type": "code",
   "execution_count": null,
   "metadata": {},
   "outputs": [],
   "source": [
    "def divide(a,b):\n",
    "    '''\n",
    "\n",
    "        Zdefiniuj funkcję divide\n",
    "\n",
    "        Funkcja przyjmuje dwa argumenty\n",
    "\n",
    "        Funkcja zwraca wynik dzielenia jej argumentów\n",
    "\n",
    "        Wywołaj funkcję z divide(10, 3)\n",
    "\n",
    "        Wywołaj funkcję z divide(10, 0)\n",
    "\n",
    "        Wypisz zwracane wartości\n",
    "\n",
    "        Co zrobić w przypadku błędu?\n",
    "\n",
    "'''\n",
    "\n",
    "    try:\n",
    "        div = a/b\n",
    "        return div\n",
    "    except ZeroDivisionError:\n",
    "        print(\"Dzielenie przez zero nie dozwolone\")\n",
    "    \n",
    "print(divide(10,3))\n",
    "print(divide(10,0))"
   ]
  },
  {
   "cell_type": "code",
   "execution_count": null,
   "metadata": {},
   "outputs": [],
   "source": [
    "def power(a, b=None):\n",
    "    \n",
    "    '''\n",
    "\n",
    "        Zdefiniuj funkcję power\n",
    "\n",
    "        Funkcja przyjmuje dwa argumenty\n",
    "\n",
    "        Drugi argument jest opcjonalny\n",
    "\n",
    "        Funkcja zwraca wynik pierwszego argumentu do potęgi drugiego\n",
    "\n",
    "        Jeżeli tylko jeden argument był podany, przyjmij drugi równy pierwszemu\n",
    "\n",
    "        Wypisz zwracane wartości\n",
    "\n",
    "'''\n",
    "    if b == None:\n",
    "        return a**a\n",
    "    else:\n",
    "        return a**b\n",
    "\n",
    "power(10, 2)\n",
    "power(3)"
   ]
  },
  {
   "cell_type": "code",
   "execution_count": null,
   "metadata": {},
   "outputs": [],
   "source": [
    "def clear(text):\n",
    "    '''\n",
    "\n",
    "        Dla danych wejściowych (patrz sekcja input)\n",
    "\n",
    "        Napisz funkcję czyszczącą dane\n",
    "\n",
    "        Funkcja przyjmuje jeden argument typu str\n",
    "\n",
    "        Funkcja zwraca oczyszczony tekst\n",
    "\n",
    "'''\n",
    "    text = text.upper()\n",
    "    text = text.replace('UL.', '')\n",
    "    text = text.replace('\\t', '')\n",
    "    text = text.replace('3', 'III')\n",
    "    text = text.title()\n",
    "    text = text.replace('Iii', 'III')\n",
    "    text = text.strip()    \n",
    "    \n",
    "    return text"
   ]
  },
  {
   "cell_type": "code",
   "execution_count": null,
   "metadata": {},
   "outputs": [],
   "source": [
    "INPUT = [\n",
    "    'ul.Mieszka II',\n",
    "    'UL. Zygmunta III WaZY',\n",
    "    '  bolesława chrobrego ',\n",
    "    'ul Jana III SobIESkiego',\n",
    "    '\\tul. Jana trzeciego Sobieskiego',\n",
    "    'ulicaJana III Sobieskiego',\n",
    "    'UL. JA    NA 3 SOBIES  KIEGO',\n",
    "    'ULICA JANA III SOBIESKIEGO  ',\n",
    "    'ULICA. JANA III SOBIeskieGO',\n",
    "    ' Jana 3 Sobieskiego  ',\n",
    "    'Jana III Sobi  eskiego ',\n",
    "]\n",
    "\n",
    "print(clear(INPUT[0]))"
   ]
  },
  {
   "cell_type": "code",
   "execution_count": null,
   "metadata": {},
   "outputs": [],
   "source": [
    "def number_text(number):\n",
    "    dictionery = { '0': \"zero\",'1': \"one\",'2': \"two\",'3': \"tree\",'4': \"fower\",'5': \"fife\",'6': \"six\",'7': \"seven\",\n",
    "                  '8': \"ait\",'9': \"niner\", '-': 'minus', '.': 'and' }\n",
    "\n",
    "    return ' '.join(dictionery[char] for char in str(number))"
   ]
  },
  {
   "cell_type": "code",
   "execution_count": null,
   "metadata": {},
   "outputs": [],
   "source": [
    "number_text(31337)"
   ]
  },
  {
   "cell_type": "code",
   "execution_count": null,
   "metadata": {},
   "outputs": [],
   "source": [
    "number_text(-31.337)"
   ]
  },
  {
   "cell_type": "code",
   "execution_count": null,
   "metadata": {},
   "outputs": [],
   "source": [
    "globals()"
   ]
  },
  {
   "cell_type": "code",
   "execution_count": null,
   "metadata": {},
   "outputs": [],
   "source": [
    "locals()"
   ]
  },
  {
   "cell_type": "code",
   "execution_count": null,
   "metadata": {},
   "outputs": [],
   "source": [
    "INPUT = [\n",
    "    ('Sepal length', 'Sepal width', 'Petal length', 'Petal width', 'Species'),\n",
    "    (5.8, 2.7, 5.1, 1.9, 'virginica'),\n",
    "    (5.1, 3.5, 1.4, 0.2, 'setosa'),\n",
    "    (5.7, 2.8, 4.1, 1.3, 'versicolor'),\n",
    "    (6.3, 2.9, 5.6, 1.8, 'virginica'),\n",
    "    (6.4, 3.2, 4.5, 1.5, 'versicolor'),\n",
    "    (4.7, 3.2, 1.3, 0.2, 'setosa'),\n",
    "    (7.0, 3.2, 4.7, 1.4, 'versicolor'),\n",
    "    (7.6, 3.0, 6.6, 2.1, 'virginica'),\n",
    "    (4.9, 3.0, 1.4, 0.2, 'setosa'),\n",
    "]\n",
    "data = INPUT[1:]\n",
    "\n",
    "wanted = {'sentosa','versicolor'}\n",
    "for *X,y  in data:\n",
    "    features, labels = X, y\n",
    " "
   ]
  },
  {
   "cell_type": "code",
   "execution_count": null,
   "metadata": {},
   "outputs": [],
   "source": [
    "AGE_ADULT = 18\n",
    "\n",
    "def is_adult(age):\n",
    "    \"\"\"\n",
    "    Function checks if person is adult.\n",
    "    Adult person is over 18 years old.\n",
    "\n",
    "    >>> is_adult(18)\n",
    "    True\n",
    "\n",
    "    >>> is_adult(17.9)\n",
    "    False\n",
    "    \"\"\"\n",
    "    if age >= AGE_ADULT:\n",
    "        return True\n",
    "    else:\n",
    "        return False"
   ]
  },
  {
   "cell_type": "code",
   "execution_count": null,
   "metadata": {},
   "outputs": [],
   "source": [
    "def add_numbers(a,b):\n",
    "    '''\n",
    "    >>> add_numbers(1,0)\n",
    "    1\n",
    "    >>> add_numbers(-1,1)\n",
    "    0\n",
    "    >>> add_numbers(1.5, 5.5)\n",
    "    7.0\n",
    "    >>> add_numbers('a','b')\n",
    "    Traceback (most recent call last):\n",
    "        ...\n",
    "    TypeError: A is not a number\n",
    "    >>> add_numbers(True,0)\n",
    "    Traceback (most recent call last):\n",
    "        ...\n",
    "    TypeError: A is not a number\n",
    "    >>> add_numbers(2,True)\n",
    "    Traceback (most recent call last):\n",
    "        ...\n",
    "    TypeError\n",
    "    '''\n",
    "    if type(a) not in (float, int):\n",
    "        raise TypeError('A is not a number')\n",
    "    if not isinstance(b, (float, int)):\n",
    "        raise TypeError\n",
    "    return a + b\n",
    "\n",
    "import doctest\n",
    "doctest.testmod()"
   ]
  },
  {
   "cell_type": "code",
   "execution_count": null,
   "metadata": {},
   "outputs": [],
   "source": [
    "'''\n",
    "\n",
    "        Napisz funkcję, która przeliczy dystans podany w kilometrach na metry\n",
    "\n",
    "        1 km = 1000 m\n",
    "\n",
    "        Dystans nie może być ujemny\n",
    "\n",
    "        Zwracany dystans musi być float\n",
    "\n",
    "        Napisz doctesty\n",
    "\n",
    "'''\n",
    "\n",
    "def distance(km):\n",
    "    '''\n",
    "    >>> distance(-1)\n",
    "    Traceback (most recent call last):\n",
    "        ...\n",
    "    TypeError: Za malo\n",
    "    >>> distance(0)\n",
    "    0.0\n",
    "    '''\n",
    "    one_km = 1000.0\n",
    "    if type(km) not in (float, int):\n",
    "        raise TypeError\n",
    "    if km < 0:\n",
    "        raise TypeError('Za malo')\n",
    "    return km * one_km\n",
    "\n",
    "import doctest\n",
    "doctest.testmod()"
   ]
  },
  {
   "cell_type": "code",
   "execution_count": null,
   "metadata": {},
   "outputs": [],
   "source": [
    "from datetime import date"
   ]
  },
  {
   "cell_type": "code",
   "execution_count": null,
   "metadata": {},
   "outputs": [],
   "source": [
    "d = date(1961,6,12)\n",
    "print(d)"
   ]
  },
  {
   "cell_type": "code",
   "execution_count": null,
   "metadata": {},
   "outputs": [],
   "source": [
    "d.isoweekday()"
   ]
  },
  {
   "cell_type": "code",
   "execution_count": null,
   "metadata": {},
   "outputs": [],
   "source": [
    "d.weekday()"
   ]
  },
  {
   "cell_type": "code",
   "execution_count": null,
   "metadata": {},
   "outputs": [],
   "source": [
    "from datetime import time\n",
    "time()"
   ]
  },
  {
   "cell_type": "code",
   "execution_count": null,
   "metadata": {},
   "outputs": [],
   "source": [
    "time.min"
   ]
  },
  {
   "cell_type": "code",
   "execution_count": null,
   "metadata": {},
   "outputs": [],
   "source": [
    "date.today()"
   ]
  },
  {
   "cell_type": "code",
   "execution_count": null,
   "metadata": {},
   "outputs": [],
   "source": [
    "import datetime"
   ]
  },
  {
   "cell_type": "code",
   "execution_count": null,
   "metadata": {},
   "outputs": [],
   "source": [
    "now()"
   ]
  },
  {
   "cell_type": "code",
   "execution_count": null,
   "metadata": {},
   "outputs": [],
   "source": [
    "czas = '1969-07-21T02:56:15.123Z'\n",
    "format = '%Y-%m-%dT%H:%M:%S.%fZ'\n",
    "date = datetime.datetime.strptime(czas, format)\n",
    "print(date)"
   ]
  },
  {
   "cell_type": "code",
   "execution_count": null,
   "metadata": {},
   "outputs": [],
   "source": [
    "gagarin = 'April 12, 1961 6:07 local time'\n",
    "format = '%B %d, %Y %H:%M local time'\n",
    "date = datetime.datetime.strptime(gagarin, format)\n",
    "print(date)"
   ]
  },
  {
   "cell_type": "code",
   "execution_count": null,
   "metadata": {},
   "outputs": [],
   "source": [
    "data = [1,23,16, 5, 8]\n",
    "\n",
    "a = filter(lambda x: x % 2 == 0, data)\n",
    "list(a)"
   ]
  },
  {
   "cell_type": "code",
   "execution_count": null,
   "metadata": {},
   "outputs": [],
   "source": [
    "assert a == 2, \"Komunikat\""
   ]
  },
  {
   "cell_type": "code",
   "execution_count": null,
   "metadata": {},
   "outputs": [],
   "source": [
    "a = {1:'a',2: 'b'}"
   ]
  },
  {
   "cell_type": "code",
   "execution_count": null,
   "metadata": {},
   "outputs": [],
   "source": []
  },
  {
   "cell_type": "code",
   "execution_count": null,
   "metadata": {},
   "outputs": [],
   "source": [
    "'''\n",
    "\n",
    "        Stwórz funkcję is_numeric\n",
    "\n",
    "        Funkcja może przyjmować dowolną liczbę argumentów pozycyjnych\n",
    "\n",
    "        Podawane argumenty mogą być dowolnego typu\n",
    "\n",
    "        Zwróć True jeżeli wszystkie argumenty są tylko typów int lub float\n",
    "\n",
    "        Zwróć False jeżeli którykolwiek jest innego typu\n",
    "\n",
    "        Nie używaj all() oraz any()\n",
    "\n",
    "        Porównaj użycie type() i isinstance() podając argument do funkcji True\n",
    "\n",
    "        Uruchom funkcję bez podawania argumentów\n",
    "\n",
    "'''\n",
    "\n",
    "def is_numeric(*args):\n",
    "    \n",
    "    if len(args) == 0:\n",
    "        return False\n",
    "\n",
    "    for arg in args:\n",
    "        if type(arg) not in (float, int):\n",
    "            return False\n",
    "    return True\n",
    "\n",
    "is_numeric(1,2)"
   ]
  },
  {
   "cell_type": "code",
   "execution_count": 1,
   "metadata": {},
   "outputs": [],
   "source": [
    "import re"
   ]
  },
  {
   "cell_type": "code",
   "execution_count": 15,
   "metadata": {},
   "outputs": [
    {
     "name": "stdout",
     "output_type": "stream",
     "text": [
      "['+48 123 555 678', '+48 12 355 5678', '+48 123 555 6789']\n"
     ]
    }
   ],
   "source": [
    "'''\n",
    "\n",
    "        Użyj wyrażeń regularnych do walidacji numeru telefonu\n",
    "\n",
    "        Sprawdź wszystkie podane numery (patrz sekcja input)\n",
    "\n",
    "        Poprawne formaty numeru: +## ### ### ### lub +## ## ### ####\n",
    "\n",
    "'''\n",
    "INPUT = [\n",
    "'+48 (12) 355 5678',\n",
    "'+48 123 555 678',\n",
    "'123 555 678',\n",
    "'+48 12 355 5678',\n",
    "'+48 123-555-678',\n",
    "'+48 123 555 6789',\n",
    "'+1 (123) 555-6789',\n",
    "'+1 (123).555.6789',\n",
    "'+1 800-python',\n",
    "'+48123555678',\n",
    "'+48 123 555 678 wew. 1337',\n",
    "'+48 123555678,1',\n",
    "'+48 123555678,1,2,3']\n",
    "\n",
    "PATTERN = r'^\\+[0-9]{2} [0-9]{2,3} [0-9]{3} [0-9]{3,4}$'\n",
    "\n",
    "phons = []\n",
    "for tel in INPUT:\n",
    "    if re.match(PATTERN, tel):\n",
    "        phons.append(tel)\n",
    "\n",
    "print(phons)\n",
    "\n",
    "    "
   ]
  },
  {
   "cell_type": "code",
   "execution_count": 19,
   "metadata": {},
   "outputs": [
    {
     "name": "stdout",
     "output_type": "stream",
     "text": [
      "['.666']\n"
     ]
    }
   ],
   "source": [
    "PATTERN = r'\\d+(\\.\\d*)?'\n",
    "print(re.findall(PATTERN, '15.666'))"
   ]
  },
  {
   "cell_type": "code",
   "execution_count": 20,
   "metadata": {},
   "outputs": [],
   "source": [
    "'''\n",
    "\n",
    "        Zdefiniuj klasę Astronaut\n",
    "\n",
    "        Zdefiniuj klasę SpaceAgency\n",
    "\n",
    "        Stwórz instancję twardowski klasy Astronaut\n",
    "\n",
    "        Stwórz instancję watney klasy Astronaut\n",
    "\n",
    "        Stwórz instancję nasa klasy SpaceAgency\n",
    "\n",
    "        Stwórz instancję esa klasy SpaceAgency\n",
    "\n",
    "        Stwórz instancję polsa klasy SpaceAgency\n",
    "\n",
    "'''\n",
    "\n",
    "class Astronaut:\n",
    "    pass\n",
    "\n",
    "class SpaceAgency:\n",
    "    pass\n",
    "\n",
    "twardowski = Astronaut()\n",
    "watney = Astronaut()\n",
    "nasa = SpaceAgency()\n",
    "esa = SpaceAgency()\n",
    "polsa = SpaceAgency()"
   ]
  },
  {
   "cell_type": "code",
   "execution_count": 23,
   "metadata": {},
   "outputs": [],
   "source": [
    "'''\n",
    "\n",
    "        Zamodeluj dane za pomocą klas\n",
    "\n",
    "        Stwórz instancje dla każdego wpisu\n",
    "\n",
    "        Jak wiele klas możemy wyróżnić?\n",
    "\n",
    "        Jak wiele instancji możemy wyróżnić?\n",
    "\n",
    "        Twórz instancje pierwszej klasy używając argumentów pozycyjnych\n",
    "\n",
    "        Twórz instancje drugiej klasy używając argumentów nazwanych\n",
    "\n",
    "        Wypisz pierwsze pole każdej z instancji\n",
    "\n",
    "'''\n",
    "\n",
    "'''\n",
    "Jan, Twardowski, 1961-04-12\n",
    "Mark, Watney, 1969-07-21\n",
    "ESA, European Space Agency, Europe\n",
    "NASA, National Aeronautics and Space Administration, USA\n",
    "POLSA, Polish Space Agency, Poland\n",
    "'''\n",
    "\n",
    "class Astro:\n",
    "    pass\n",
    "class Agen:\n",
    "    pass\n",
    "\n",
    "twardowski = Astro()\n",
    "twardowski.first_name = 'Jan'\n",
    "twardowski.last_name = 'Twardowski'\n",
    "\n",
    "watney = Astro()\n",
    "watney.first_name = 'Mark'\n",
    "watney.last_name = 'Watney'\n",
    "\n",
    "esa = Agen()\n",
    "esa.name = 'ESA'\n",
    "esa.full_name = 'European Space Agency'\n",
    "esa.country = 'Europe'\n",
    "\n",
    "nasa = Agen()\n",
    "nasa.name = 'NASA'\n",
    "nasa.full_name = 'National Aeronautics and Space Administration'\n",
    "nasa.country = 'USA'\n",
    "\n",
    "polsa = Agen()\n",
    "polsa.name = 'POLSA'\n",
    "polsa.full_name = 'Polish Space Agency'\n",
    "polsa.country = 'Polska'"
   ]
  },
  {
   "cell_type": "code",
   "execution_count": 30,
   "metadata": {},
   "outputs": [
    {
     "name": "stdout",
     "output_type": "stream",
     "text": [
      "36.6\n",
      "97.88\n",
      "309.75\n"
     ]
    }
   ],
   "source": [
    "'''\n",
    "\n",
    "        Stwórz jedną klasę Temperature\n",
    "\n",
    "        Stwórz trzy instancje klasy Temperature\n",
    "\n",
    "        Wartości mają być podawane przy inicjalizacji\n",
    "\n",
    "        Przy inicjalizacji instancje wypisują:\n",
    "\n",
    "                Instancja celsius wyświetla temperaturę 36.6\n",
    "\n",
    "                Instancja fahrenheit wyświetla temperaturę 97.88\n",
    "\n",
    "                Instancja kelvin wyświetla temperaturę 309.75\n",
    "\n",
    "'''\n",
    "\n",
    "class Temperature:\n",
    "    def __init__(self, temperature):\n",
    "        \n",
    "        print(temperature)\n",
    "\n",
    "celsius = Temperature(36.6)\n",
    "fahreheit = Temperature(97.88)\n",
    "kelvin = Temperature(309.75)"
   ]
  },
  {
   "cell_type": "code",
   "execution_count": 36,
   "metadata": {},
   "outputs": [
    {
     "name": "stdout",
     "output_type": "stream",
     "text": [
      "Name: setosa, total: 10.2, mean: 2.55\n",
      "Name: virginica, total: 15.5, mean: 3.875\n"
     ]
    }
   ],
   "source": [
    "'''\n",
    "\n",
    "\n",
    "        Stwórz klasę Iris\n",
    "\n",
    "        Napisz metodę total() wyliczającą sumę wszystkich atrybutów numerycznych obiektu\n",
    "\n",
    "        Napisz metodę mean() wyliczającą średnią wszystkich atrybutów numerycznych obiektu (przyjmij długość równą 4)\n",
    "\n",
    "        Stwórz obiekt setosa z pomiarami podawanymi przy inicjalizacji (patrz dane wejściowe)\n",
    "\n",
    "        Stwórz obiekt virginica z pomiarami podawanymi przy inicjalizacji (patrz dane wejściowe)\n",
    "\n",
    "        Wypisz nazwę gatunku oraz sumę i średnią z pomiarów dla każdej instancji\n",
    "\n",
    "'''\n",
    "\n",
    "class Iris:\n",
    "    def __init__(self, sepal_length, sepal_width, petal_length, petal_width, species):\n",
    "        self.sepal_length = sepal_length\n",
    "        self.sepal_width = sepal_width\n",
    "        self.petal_length = petal_length\n",
    "        self.petal_width = petal_width\n",
    "        self.species = species\n",
    "        \n",
    "    def total(self):\n",
    "        return (self.sepal_length + self.sepal_width + self.petal_length +self.petal_width)\n",
    "    \n",
    "    def mean(self):\n",
    "        return self.total()/4\n",
    "\n",
    "setosa = Iris(5.1, 3.5, 1.4, 0.2, 'setosa')\n",
    "virginica = Iris(5.8, 2.7, 5.1, 1.9,'virginica')\n",
    "\n",
    "print(f'Name: {setosa.species}, total: {setosa.total()}, mean: {setosa.mean()}')\n",
    "print(f'Name: {virginica.species}, total: {virginica.total()}, mean: {virginica.mean()}')\n"
   ]
  },
  {
   "cell_type": "code",
   "execution_count": null,
   "metadata": {},
   "outputs": [],
   "source": []
  }
 ],
 "metadata": {
  "kernelspec": {
   "display_name": "Python 3",
   "language": "python",
   "name": "python3"
  },
  "language_info": {
   "codemirror_mode": {
    "name": "ipython",
    "version": 3
   },
   "file_extension": ".py",
   "mimetype": "text/x-python",
   "name": "python",
   "nbconvert_exporter": "python",
   "pygments_lexer": "ipython3",
   "version": "3.7.0"
  }
 },
 "nbformat": 4,
 "nbformat_minor": 2
}
